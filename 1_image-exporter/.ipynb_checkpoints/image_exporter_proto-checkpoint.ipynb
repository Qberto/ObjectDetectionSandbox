{
 "cells": [
  {
   "cell_type": "code",
   "execution_count": 4,
   "metadata": {},
   "outputs": [
    {
     "name": "stdout",
     "output_type": "stream",
     "text": [
      "Imageio: 'ffmpeg-win32-v3.2.4.exe' was not found on your computer; downloading it now.\n",
      "Try 1. Download from https://github.com/imageio/imageio-binaries/raw/master/ffmpeg/ffmpeg-win32-v3.2.4.exe (34.1 MB)\n",
      "Downloading: 8192/35749888 bytes (0.032768/35749888 bytes (0.1%147456/35749888 bytes (0.4278528/35749888 bytes (0.8524288/35749888 bytes (1.51015808/35749888 bytes (2.8%1548288/35749888 bytes (4.3%2105344/35749888 bytes (5.9%2670592/35749888 bytes (7.5%3203072/35749888 bytes (9.0%3760128/35749888 bytes (10.54308992/35749888 bytes (12.14866048/35749888 bytes (13.65439488/35749888 bytes (15.26012928/35749888 bytes (16.86545408/35749888 bytes (18.37045120/35749888 bytes (19.77585792/35749888 bytes (21.28118272/35749888 bytes (22.78642560/35749888 bytes (24.29142272/35749888 bytes (25.69691136/35749888 bytes (27.110231808/35749888 bytes (28.6%10764288/35749888 bytes (30.1%11313152/35749888 bytes (31.6%11862016/35749888 bytes (33.2%12345344/35749888 bytes (34.5%12861440/35749888 bytes (36.0%13402112/35749888 bytes (37.5%13926400/35749888 bytes (39.0%14467072/35749888 bytes (40.5%15007744/35749888 bytes (42.0%15523840/35749888 bytes (43.4%16007168/35749888 bytes (44.8%16531456/35749888 bytes (46.2%17039360/35749888 bytes (47.7%17563648/35749888 bytes (49.1%18096128/35749888 bytes (50.6%18628608/35749888 bytes (52.1%19161088/35749888 bytes (53.6%19677184/35749888 bytes (55.0%20209664/35749888 bytes (56.5%20766720/35749888 bytes (58.1%21307392/35749888 bytes (59.6%21839872/35749888 bytes (61.1%22388736/35749888 bytes (62.6%22904832/35749888 bytes (64.1%23461888/35749888 bytes (65.6%24027136/35749888 bytes (67.2%24543232/35749888 bytes (68.7%25092096/35749888 bytes (70.2%25575424/35749888 bytes (71.5%26107904/35749888 bytes (73.0%26656768/35749888 bytes (74.6%27164672/35749888 bytes (76.0%27664384/35749888 bytes (77.4%28164096/35749888 bytes (78.8%28688384/35749888 bytes (80.2%29229056/35749888 bytes (81.8%29786112/35749888 bytes (83.3%30302208/35749888 bytes (84.8%30826496/35749888 bytes (86.2%31334400/35749888 bytes (87.6%31858688/35749888 bytes (89.1%32382976/35749888 bytes (90.6%32931840/35749888 bytes (92.1%33456128/35749888 bytes (93.6%33980416/35749888 bytes (95.1%34471936/35749888 bytes (96.4%35045376/35749888 bytes (98.0%35561472/35749888 bytes (99.5%35749888/35749888 bytes (100.0%)\n",
      "  Done\n",
      "File saved as C:\\Users\\albe9057\\AppData\\Local\\imageio\\ffmpeg\\ffmpeg-win32-v3.2.4.exe.\n"
     ]
    }
   ],
   "source": [
    "import moviepy.editor as mpy"
   ]
  },
  {
   "cell_type": "code",
   "execution_count": 5,
   "metadata": {
    "collapsed": true
   },
   "outputs": [],
   "source": [
    "video_path = r\"D:\\5_Data\\Transportation\\Cameras\\SunTrustPark\\180612\\128\\18h57m39s.avi\""
   ]
  },
  {
   "cell_type": "code",
   "execution_count": 7,
   "metadata": {},
   "outputs": [],
   "source": [
    "clip = mpy.VideoFileClip(video_path)"
   ]
  },
  {
   "cell_type": "code",
   "execution_count": 10,
   "metadata": {
    "collapsed": true
   },
   "outputs": [],
   "source": [
    "clip.save_frame(\"testframe.png\")"
   ]
  },
  {
   "cell_type": "code",
   "execution_count": 11,
   "metadata": {},
   "outputs": [],
   "source": [
    "clip.save_frame(\"testframe02.png\", t='00:28:55')"
   ]
  }
 ],
 "metadata": {
  "kernelspec": {
   "display_name": "Python 3",
   "language": "python",
   "name": "python3"
  },
  "language_info": {
   "codemirror_mode": {
    "name": "ipython",
    "version": 3
   },
   "file_extension": ".py",
   "mimetype": "text/x-python",
   "name": "python",
   "nbconvert_exporter": "python",
   "pygments_lexer": "ipython3",
   "version": "3.6.1"
  }
 },
 "nbformat": 4,
 "nbformat_minor": 2
}
