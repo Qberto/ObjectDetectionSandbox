{
 "cells": [
  {
   "cell_type": "markdown",
   "metadata": {},
   "source": [
    "# Object Detection Demo 3: Connecting it to GIS via the ArcGIS API for Python\n",
    "Welcome to the object detection inference walkthrough!  This notebook will walk you step by step through the process of using a pre-trained model to detect objects in an image. Make sure to follow the [installation instructions](https://github.com/tensorflow/models/blob/master/object_detection/g3doc/installation.md) before you start."
   ]
  },
  {
   "cell_type": "markdown",
   "metadata": {},
   "source": [
    "# Imports"
   ]
  },
  {
   "cell_type": "code",
   "execution_count": 1,
   "metadata": {
    "collapsed": true,
    "scrolled": true
   },
   "outputs": [],
   "source": [
    "import numpy as np\n",
    "import os\n",
    "import six.moves.urllib as urllib\n",
    "import sys\n",
    "import tarfile\n",
    "import tensorflow as tf\n",
    "import zipfile\n",
    "\n",
    "from collections import defaultdict\n",
    "from io import StringIO\n",
    "from matplotlib import pyplot as plt\n",
    "from PIL import Image\n",
    "\n",
    "import cv2"
   ]
  },
  {
   "cell_type": "code",
   "execution_count": 2,
   "metadata": {
    "collapsed": true
   },
   "outputs": [],
   "source": [
    "# Set our caption \n",
    "cap = cv2.VideoCapture(0)"
   ]
  },
  {
   "cell_type": "markdown",
   "metadata": {},
   "source": [
    "## Env setup"
   ]
  },
  {
   "cell_type": "code",
   "execution_count": 3,
   "metadata": {
    "collapsed": true
   },
   "outputs": [],
   "source": [
    "# This is needed since the notebook is stored in the object_detection folder.\n",
    "sys.path.append(\"..\")"
   ]
  },
  {
   "cell_type": "markdown",
   "metadata": {},
   "source": [
    "## Object detection imports\n",
    "Here are the imports from the object detection module."
   ]
  },
  {
   "cell_type": "code",
   "execution_count": 4,
   "metadata": {
    "collapsed": true
   },
   "outputs": [],
   "source": [
    "from utils import label_map_util\n",
    "\n",
    "from utils import visualization_utils as vis_util"
   ]
  },
  {
   "cell_type": "markdown",
   "metadata": {},
   "source": [
    "# Model preparation "
   ]
  },
  {
   "cell_type": "markdown",
   "metadata": {},
   "source": [
    "## Variables\n",
    "\n",
    "Any model exported using the `export_inference_graph.py` tool can be loaded here simply by changing `PATH_TO_CKPT` to point to a new .pb file.  \n",
    "\n",
    "By default we use an \"SSD with Mobilenet\" model here. See the [detection model zoo](https://github.com/tensorflow/models/blob/master/object_detection/g3doc/detection_model_zoo.md) for a list of other models that can be run out-of-the-box with varying speeds and accuracies."
   ]
  },
  {
   "cell_type": "code",
   "execution_count": 5,
   "metadata": {
    "collapsed": true
   },
   "outputs": [],
   "source": [
    "# What model to download.\n",
    "MODEL_NAME = 'ssd_mobilenet_v1_coco_11_06_2017'\n",
    "MODEL_FILE = MODEL_NAME + '.tar.gz'\n",
    "DOWNLOAD_BASE = 'http://download.tensorflow.org/models/object_detection/'\n",
    "\n",
    "# Path to frozen detection graph. This is the actual model that is used for the object detection.\n",
    "PATH_TO_CKPT = MODEL_NAME + '/frozen_inference_graph.pb'\n",
    "\n",
    "# List of the strings that is used to add correct label for each box.\n",
    "PATH_TO_LABELS = os.path.join('data', 'mscoco_label_map.pbtxt')\n",
    "\n",
    "NUM_CLASSES = 90"
   ]
  },
  {
   "cell_type": "markdown",
   "metadata": {},
   "source": [
    "## Download Model"
   ]
  },
  {
   "cell_type": "code",
   "execution_count": 6,
   "metadata": {
    "collapsed": true
   },
   "outputs": [],
   "source": [
    "opener = urllib.request.URLopener()\n",
    "opener.retrieve(DOWNLOAD_BASE + MODEL_FILE, MODEL_FILE)\n",
    "tar_file = tarfile.open(MODEL_FILE)\n",
    "for file in tar_file.getmembers():\n",
    "  file_name = os.path.basename(file.name)\n",
    "  if 'frozen_inference_graph.pb' in file_name:\n",
    "    tar_file.extract(file, os.getcwd())"
   ]
  },
  {
   "cell_type": "markdown",
   "metadata": {},
   "source": [
    "## Load a (frozen) Tensorflow model into memory."
   ]
  },
  {
   "cell_type": "code",
   "execution_count": 7,
   "metadata": {
    "collapsed": true
   },
   "outputs": [],
   "source": [
    "detection_graph = tf.Graph()\n",
    "with detection_graph.as_default():\n",
    "  od_graph_def = tf.GraphDef()\n",
    "  with tf.gfile.GFile(PATH_TO_CKPT, 'rb') as fid:\n",
    "    serialized_graph = fid.read()\n",
    "    od_graph_def.ParseFromString(serialized_graph)\n",
    "    tf.import_graph_def(od_graph_def, name='')"
   ]
  },
  {
   "cell_type": "markdown",
   "metadata": {},
   "source": [
    "## Loading label map\n",
    "Label maps map indices to category names, so that when our convolution network predicts `5`, we know that this corresponds to `airplane`.  Here we use internal utility functions, but anything that returns a dictionary mapping integers to appropriate string labels would be fine"
   ]
  },
  {
   "cell_type": "code",
   "execution_count": 8,
   "metadata": {
    "collapsed": true
   },
   "outputs": [],
   "source": [
    "label_map = label_map_util.load_labelmap(PATH_TO_LABELS)\n",
    "categories = label_map_util.convert_label_map_to_categories(label_map, max_num_classes=NUM_CLASSES, use_display_name=True)\n",
    "category_index = label_map_util.create_category_index(categories)"
   ]
  },
  {
   "cell_type": "code",
   "execution_count": 9,
   "metadata": {
    "scrolled": true
   },
   "outputs": [
    {
     "data": {
      "text/plain": [
       "{1: {'id': 1, 'name': 'person'},\n",
       " 2: {'id': 2, 'name': 'bicycle'},\n",
       " 3: {'id': 3, 'name': 'car'},\n",
       " 4: {'id': 4, 'name': 'motorcycle'},\n",
       " 5: {'id': 5, 'name': 'airplane'},\n",
       " 6: {'id': 6, 'name': 'bus'},\n",
       " 7: {'id': 7, 'name': 'train'},\n",
       " 8: {'id': 8, 'name': 'truck'},\n",
       " 9: {'id': 9, 'name': 'boat'},\n",
       " 10: {'id': 10, 'name': 'traffic light'},\n",
       " 11: {'id': 11, 'name': 'fire hydrant'},\n",
       " 13: {'id': 13, 'name': 'stop sign'},\n",
       " 14: {'id': 14, 'name': 'parking meter'},\n",
       " 15: {'id': 15, 'name': 'bench'},\n",
       " 16: {'id': 16, 'name': 'bird'},\n",
       " 17: {'id': 17, 'name': 'cat'},\n",
       " 18: {'id': 18, 'name': 'dog'},\n",
       " 19: {'id': 19, 'name': 'horse'},\n",
       " 20: {'id': 20, 'name': 'sheep'},\n",
       " 21: {'id': 21, 'name': 'cow'},\n",
       " 22: {'id': 22, 'name': 'elephant'},\n",
       " 23: {'id': 23, 'name': 'bear'},\n",
       " 24: {'id': 24, 'name': 'zebra'},\n",
       " 25: {'id': 25, 'name': 'giraffe'},\n",
       " 27: {'id': 27, 'name': 'backpack'},\n",
       " 28: {'id': 28, 'name': 'umbrella'},\n",
       " 31: {'id': 31, 'name': 'handbag'},\n",
       " 32: {'id': 32, 'name': 'tie'},\n",
       " 33: {'id': 33, 'name': 'suitcase'},\n",
       " 34: {'id': 34, 'name': 'frisbee'},\n",
       " 35: {'id': 35, 'name': 'skis'},\n",
       " 36: {'id': 36, 'name': 'snowboard'},\n",
       " 37: {'id': 37, 'name': 'sports ball'},\n",
       " 38: {'id': 38, 'name': 'kite'},\n",
       " 39: {'id': 39, 'name': 'baseball bat'},\n",
       " 40: {'id': 40, 'name': 'baseball glove'},\n",
       " 41: {'id': 41, 'name': 'skateboard'},\n",
       " 42: {'id': 42, 'name': 'surfboard'},\n",
       " 43: {'id': 43, 'name': 'tennis racket'},\n",
       " 44: {'id': 44, 'name': 'bottle'},\n",
       " 46: {'id': 46, 'name': 'wine glass'},\n",
       " 47: {'id': 47, 'name': 'cup'},\n",
       " 48: {'id': 48, 'name': 'fork'},\n",
       " 49: {'id': 49, 'name': 'knife'},\n",
       " 50: {'id': 50, 'name': 'spoon'},\n",
       " 51: {'id': 51, 'name': 'bowl'},\n",
       " 52: {'id': 52, 'name': 'banana'},\n",
       " 53: {'id': 53, 'name': 'apple'},\n",
       " 54: {'id': 54, 'name': 'sandwich'},\n",
       " 55: {'id': 55, 'name': 'orange'},\n",
       " 56: {'id': 56, 'name': 'broccoli'},\n",
       " 57: {'id': 57, 'name': 'carrot'},\n",
       " 58: {'id': 58, 'name': 'hot dog'},\n",
       " 59: {'id': 59, 'name': 'pizza'},\n",
       " 60: {'id': 60, 'name': 'donut'},\n",
       " 61: {'id': 61, 'name': 'cake'},\n",
       " 62: {'id': 62, 'name': 'chair'},\n",
       " 63: {'id': 63, 'name': 'couch'},\n",
       " 64: {'id': 64, 'name': 'potted plant'},\n",
       " 65: {'id': 65, 'name': 'bed'},\n",
       " 67: {'id': 67, 'name': 'dining table'},\n",
       " 70: {'id': 70, 'name': 'toilet'},\n",
       " 72: {'id': 72, 'name': 'tv'},\n",
       " 73: {'id': 73, 'name': 'laptop'},\n",
       " 74: {'id': 74, 'name': 'mouse'},\n",
       " 75: {'id': 75, 'name': 'remote'},\n",
       " 76: {'id': 76, 'name': 'keyboard'},\n",
       " 77: {'id': 77, 'name': 'cell phone'},\n",
       " 78: {'id': 78, 'name': 'microwave'},\n",
       " 79: {'id': 79, 'name': 'oven'},\n",
       " 80: {'id': 80, 'name': 'toaster'},\n",
       " 81: {'id': 81, 'name': 'sink'},\n",
       " 82: {'id': 82, 'name': 'refrigerator'},\n",
       " 84: {'id': 84, 'name': 'book'},\n",
       " 85: {'id': 85, 'name': 'clock'},\n",
       " 86: {'id': 86, 'name': 'vase'},\n",
       " 87: {'id': 87, 'name': 'scissors'},\n",
       " 88: {'id': 88, 'name': 'teddy bear'},\n",
       " 89: {'id': 89, 'name': 'hair drier'},\n",
       " 90: {'id': 90, 'name': 'toothbrush'}}"
      ]
     },
     "execution_count": 9,
     "metadata": {},
     "output_type": "execute_result"
    }
   ],
   "source": [
    "category_index"
   ]
  },
  {
   "cell_type": "markdown",
   "metadata": {},
   "source": [
    "## Helper code"
   ]
  },
  {
   "cell_type": "code",
   "execution_count": 10,
   "metadata": {
    "collapsed": true
   },
   "outputs": [],
   "source": [
    "def load_image_into_numpy_array(image):\n",
    "  (im_width, im_height) = image.size\n",
    "  return np.array(image.getdata()).reshape(\n",
    "      (im_height, im_width, 3)).astype(np.uint8)"
   ]
  },
  {
   "cell_type": "markdown",
   "metadata": {},
   "source": [
    "This is a helper function that takes the detection graph output tensor (np arrays), stacks the classes and scores, and determines if the class for a person (1) is available within a certain score and within a certain amount of objects"
   ]
  },
  {
   "cell_type": "code",
   "execution_count": 11,
   "metadata": {
    "collapsed": true
   },
   "outputs": [],
   "source": [
    "def person_in_image(classes_arr, scores_arr, obj_thresh=5, score_thresh=0.5):\n",
    "    stacked_arr = np.stack((classes_arr, scores_arr), axis=-1)\n",
    "    person_found_flag = False\n",
    "    for ix in range(obj_thresh):\n",
    "        if 1.00000000e+00 in stacked_arr[ix]:\n",
    "            if stacked_arr[ix][1] >= score_thresh:\n",
    "                person_found_flag = True\n",
    "            \n",
    "    return person_found_flag"
   ]
  },
  {
   "cell_type": "markdown",
   "metadata": {
    "collapsed": true
   },
   "source": [
    "# Establish Connection to GIS via ArcGIS API for Python"
   ]
  },
  {
   "cell_type": "markdown",
   "metadata": {},
   "source": [
    "### Authenticate"
   ]
  },
  {
   "cell_type": "code",
   "execution_count": 12,
   "metadata": {
    "collapsed": true
   },
   "outputs": [],
   "source": [
    "import arcgis"
   ]
  },
  {
   "cell_type": "code",
   "execution_count": 13,
   "metadata": {
    "scrolled": true
   },
   "outputs": [
    {
     "name": "stdout",
     "output_type": "stream",
     "text": [
      "Attempting to log in to 'https://esrifederal.maps.arcgis.com'...\n",
      "Please sign in to your GIS and paste the code that is obtained below.\n",
      "If a web browser does not automatically open, please navigate to the URL below yourself instead.\n",
      "Opening web browser to navigate to: https://esrifederal.maps.arcgis.com/sharing/rest/oauth2/authorize?client_id=wt3QUR1M4eum0TVI&response_type=code&expiration=-1&redirect_uri=urn%3Aietf%3Awg%3Aoauth%3A2.0%3Aoob\n",
      "Enter code obtained on signing in using SAML: ········\n",
      "Successfully logged in as: albe9057@esri.com_esrifederal\n"
     ]
    }
   ],
   "source": [
    "portals_dict = {\n",
    "    \"esrifederal_gis\": r\"https://esrifederal.maps.arcgis.com\",\n",
    "    \"natgov_gis\": r\"http://esri-natgov105.eastus.cloudapp.azure.com/arcgis\",\n",
    "    \"dot_gis\": r\"http://dot.esri.com/portal\",\n",
    "    \"dev_gis\": r\"http://govdev.eastus.cloudapp.azure.com/arcgis\",\n",
    "    \"local_gis\": r\"https://anieto.esri.com/arcgis\"\n",
    "}\n",
    "\n",
    "gis_url = portals_dict[\"esrifederal_gis\"]\n",
    "\n",
    "if gis_url == portals_dict[\"esrifederal_gis\"]:\n",
    "    gis_app_id = r\"wt3QUR1M4eum0TVI\"\n",
    "    print(\"Attempting to log in to '{0}'...\".format(gis_url))\n",
    "    gis = arcgis.gis.GIS(gis_url, client_id=gis_app_id)\n",
    "    print(\"Successfully logged in as: \" + gis.properties.user.username)\n",
    "else:\n",
    "    gis_username = getpass.getpass(prompt=\"Username: \")\n",
    "    gis_pw = getpass.getpass(prompt=\"Password: \")\n",
    "    print(\"Attempting to log in to '{0}'...\".format(gis_url))\n",
    "    gis = arcgis.gis.GIS(gis_url, gis_username, gis_pw, verify_cert=False)\n",
    "    print(\"Successfully logged in as: \" + gis.properties.user.username)"
   ]
  },
  {
   "cell_type": "markdown",
   "metadata": {},
   "source": [
    "### Retrieve the Object Detection Point Layer"
   ]
  },
  {
   "cell_type": "code",
   "execution_count": 14,
   "metadata": {},
   "outputs": [
    {
     "data": {
      "text/html": [
       "<div class=\"item_container\" style=\"height: auto; overflow: hidden; border: 1px solid #cfcfcf; border-radius: 2px; background: #f6fafa; line-height: 1.21429em; padding: 10px;\">\n",
       "                    <div class=\"item_left\" style=\"width: 210px; float: left;\">\n",
       "                       <a href='https://esrifederal.maps.arcgis.com/home/item.html?id=c89394fc9dfe46129b16f4ec1fd39aee' target='_blank'>\n",
       "                        <img src='data:image/png;base64,/9j/4AAQSkZJRgABAQEAAAAAAAD/2wBDAAgGBgcGBQgHBwcJCQgKDBQNDAsLDBkSEw8UHRofHh0aHBwgJC4nICIsIxwcKDcpLDAxNDQ0Hyc5PTgyPC4zNDL/2wBDAQkJCQwLDBgNDRgyIRwhMjIyMjIyMjIyMjIyMjIyMjIyMjIyMjIyMjIyMjIyMjIyMjIyMjIyMjIyMjIyMjIyMjL/wAARCACFAMgDAREAAhEBAxEB/8QAHwAAAQUBAQEBAQEAAAAAAAAAAAECAwQFBgcICQoL/8QAtRAAAgEDAwIEAwUFBAQAAAF9AQIDAAQRBRIhMUEGE1FhByJxFDKBkaEII0KxwRVS0fAkM2JyggkKFhcYGRolJicoKSo0NTY3ODk6Q0RFRkdISUpTVFVWV1hZWmNkZWZnaGlqc3R1dnd4eXqDhIWGh4iJipKTlJWWl5iZmqKjpKWmp6ipqrKztLW2t7i5usLDxMXGx8jJytLT1NXW19jZ2uHi4+Tl5ufo6erx8vP09fb3+Pn6/8QAHwEAAwEBAQEBAQEBAQAAAAAAAAECAwQFBgcICQoL/8QAtREAAgECBAQDBAcFBAQAAQJ3AAECAxEEBSExBhJBUQdhcRMiMoEIFEKRobHBCSMzUvAVYnLRChYkNOEl8RcYGRomJygpKjU2Nzg5OkNERUZHSElKU1RVVldYWVpjZGVmZ2hpanN0dXZ3eHl6goOEhYaHiImKkpOUlZaXmJmaoqOkpaanqKmqsrO0tba3uLm6wsPExcbHyMnK0tPU1dbX2Nna4uPk5ebn6Onq8vP09fb3+Pn6/9oADAMBAAIRAxEAPwD3ioGIwDKQe9AFEjaSD2qxCUATW74Yqe9JgWWUOuCKkZzE9s0V4RIrcE4PtXHPRu5BLZoXvDKpOwD+daUVeVwRrRv5b5xmutlFlsSxna3BqdhlM8GqEFAFm3jwN5/Ck2BPUjI5ZQnHU+lNICoTkk1QhKAFUAsATgUAXfLXZtxxUjGiIIhC9T3ouBUOc89aoQlAAODmgC6uHXnowqRmW6lHZT2OKk6E7o0oZt/yt97+dNMwasS0CKtwuHDetUhENMBVzuGOtAF7PGTxUDK1w0bjbtDH1Io5U9xEMcYGFRQPYVSSWwEz27KMg59aLgRZI70wEFAEkUe9ueg60mwLnSpGMlk8tPc9KaApkknJ61QhKAJUt2YZPHpSuAiwszYIwB1NFwLIZEITPPbNSMfQBC6xI25hyadwsRzbWAZPoaEDIaoQ/wC1x28XznkdAOprOc1HcLkKzW16xKOUkPZu9TGcZbFxnYkpjLNtN50ZbHAON3Y/SqIY+RPMTFMCCWERoCDzTTERpIYySMUwBpGfqfwosAKjOeBQBaiiEY9W9alsY6RxGuT+FAFE8nNUIVVLOAO9AF1ECKAKkY4nAzSAY6qyEv8AnTApVQgDAMORmldbDsX1JKgkYNSAkjiNCxoApEliSeSetSWSxzlOGyw/WmmJojZi7Fj3pMaVghBl8wj7g4B9TVRJkNqyTLvSDdvyy9Np7/8A6q4qt+fUXUbvKSxKgG4kc1MLpqwjWijN03pCOp/vew9q60jVsv8AyovYKKZJXe4J4T86qwiEsWOSc0wHLE79Bx6mlcBss0Fq4WTczdTgcCs5VVF2Ame44AjGBjINWtdQI1kZX3ZyadgEdzI2TTAkW3JTJOD2FK4EsUWxcn71JsZLSArTyZ+UfjVJCIdzbduePSmBFO5SFmAJOO1Z1XaLKgryKEaiRGeJXWcnA3cVxWi0o3s+516p67G3ZMxtV3yByvBYd66aLvHe5z1F72isRySeY+ew6Vo2SkMpDCgBGBZSAcZ70AW4Gj8tUQbdoxtqiGVpV2ORVdBEEsEcwG4cjoR1qZQUtxNDYbWOFty5LeppQpRhqgSNPcsUYHAA4AFNFFV5DIcn8qsQijcwHrQBbSFU56n1NTcY2dnUDacA0ICnLDDOAZN4ccZU9RUTpKTuIexzjAwAMAVolYBKYD4iBIMjNJgXakYUARSybU46mmgKnWqEFACiET5QjKnrUySasxptO6E/swfusyE7M/lXKsPpa5v7bfQmk2xoIU6DrW0YqC5UZbu7IqYwoAKACgBCQoLE4A5z6UAPbe8KSuME/wAu1WiGMqhBQAMxZ8k5zSAkSFnGeg96LgM5VvQimA4SvuDZyaVgEeRn+8adgG0ATQxqVLv0FJsBzQB2DIQFNFwJUiVOnJ9aVxj6QCMwUZNAFFmLsTVIQlMCRoXXHGc0rgWY4xGuO/ekMVyVRiOoFIClUlhQAUAFAB0oASFBcy+sSHn3PpTQmy7Ku+NlqiSiPfrVCHKCzADqaAG9SKAL0W7yxuHNSMr3AAk47jmmhEVMAoAKAFycYzxQA+KUxn/Z9KTQFsEEZHSpGKTgZoAqSy7zgdKpIRF3NMB8TKsgLdKTAsyTCPHGSe1SNK45JFcZB/CgBSMgj1oAoipLCgAoAKAIblHnTyIjiR+nsPWplFyVkKWxLptq9lE4k+VewzmilBx3IRf3DbuzxWgygeSTViJrYclj2pMZMkSoRgZPrSuBJSApzKRIc96pCI6YBQAUAFABQBXklUzCGS4MSHsveuOrJuTT2OmnFqPMlcZFczG5ZHkJiJwi+uO9FF2au73CpFcui1LddhzB3oAfGowXb7o/Wk2BVnunW6Vdmd1OMFKLlcmVRxmopFgsU+YHBFZI2ZfqiCk42yuPepZa2G0AFADXYIpY/wD66ALNtD5Kl5MeY/X29qohsZNJvbA6CqSER5OMZOPSmAlADkkaM5FAFmKUSexA5FQU1YloENdFcYNMCKcIEA6EdMUICtVCCgAoAKAIpImaRWBGM8g9MVz1qLm7o1hU5VZjYbVYWJBJ5OPpRToKMuZhUq82hPXQZDkjLnjoOppMBXYMQF+6OlQ2WkNpDEIyCKALkLBol55xzVEEM7BpMAdOppMpEVIY2LdMrOoBQHA9T707CuSW8fmSea4+RD8oPc+tCQmxZZPMb2HSrRJHTAKAFa8gRfJk4b1ArOU1F2YXErQBQSDkHBFZGhbilEg54YdRVENElAFWeMqxbqDVJiIaYBQAUAWI4Qq7pPyNJsCBsbjjpTABjcM9KALD24OCnFTcY2UiNfKT8TSbGkQ1JQUAFAACVOVJB9qAsFADJELxlQcZoAWNtoBTjHHFabmZM8xdNuMetFgIqYDJWKRO6jJVSQKTdlcDnIdRu1uwWkZssAVPTH0rnU3ci51b2ME4VzngckHrWkoKTuy7EbEFiR0zWoBWRoAJBBBwRQBL9pcckDA6incVizww9jTJKssWw5H3f5VSYiKmAoOCD6UAPklaTrwPSlYBYoS/J4FDYDZIzG2M5BoTAmgkyNh/Ck0MZLCyksMsDyfWpaKTIqQwoAKACgClf3bwIqxAF2OOT0rOpJx2E3YgieWNlUyFt/3m7kmohVd7PYjmdzUhCRYBGVFdYASCSQMCmAlADkYK4JGRQwEa0sRJ5oQb+2KzUEnewWRI02U2KMCrsBFTAWsjQKACgBwdwMBjge9FwshVlYH5juXuDTTE0EkYA3pyp/SrTII+lMDOk1FxLiKMMoPUnrXO6+tkhXNaC+jmgDDAYdUB6VpCSkO4x3LnJrQBoJByOtAF2N96A9+9SxlaUqZDtHHf3qWUiPIyRkZHWkMAyk4BFJNMdmIxYkIn324H+NNCbHXOmrJbKkeN6g8t3z1qakOZGbILbTJRIpmICqc4BrONF31FYuKFE7BsY966ugyN9u47elNANoAKAG7x25+lS5pbjSbDLH0FZut2KUBpyMNk8VMajctRuKsS1YCFlHVgPqaAFoAKACgBySGM+qnqKaYmhZYPMQ+UeGGPpVN3RDRgSQPbysWQhh96uLZ6kl3TYmVHc8BunvXRQWlxovVuMzbjUmR9sYGOeT7VzSrO/uivqXNPvhcBl+63Qj+taQnzDT1JW3qdioxfoBg4/OnYu4XcIhsguHYsfnKDJJrKtfltEulrIyXSMNEyM6xoNxB4YmuR+zvzHUnKzTNy0jKxefIP3jjp/dHpXfB3imcUtxWuGPQAVpYgjEjht245p2AQkscnrQA0sAcck1LkluNJsTLH2rN1uxSgJjPXn61k5yZSikLUjCgAoAGYlgiDLnp7e5roJbLcdskUZGNzH7zEck1RBWX7o+lSWLQAUAFADo5DG2RyO4ppiaLWElUHAYe4p2TJKsqeW+O3aqQhm0vlQOtD2AxLi3ktX2NESecELmuFxadiHp0Lek28kLvLL91sYU10UoNajSszfyMdeK0LK10yyJ5fBB60pQUlZjUnF3RSS32sru5dlyMn0rKOHSVm7mjrPoWCxI5PFdCVjEbuHbn6UnNLcaTYmWPtWbrdilDuTW7Iu7zCPUE0RndaiasNndXcFc9Oaio09iopojrMoKACgAoAKAHTyLp1oXA8yV+/94/4VvOXKjFszF1i6EpVmBwMkEfpWCqTJu27Iv20wnt0kHcc1tF3VzZEtUAUAFABQA6OQxtkdO4ppiaLEgEsW5ecciqRJXjfY4PbvVMRNJJEwGeamwELsGI2qFAqgGZ96AG7h25+lS5JbjSbAlj0wKzdbsUoCbfXJ+tZOcmUkkLUjCgAoAKACgAoAKACgAoAgvo3lgATkqcgVvWg2rowfkZRWXbiOJi+duAK5bE628zatrVrS3SNvr/9aumEXFamsdrEtUUFABQAUANdwi5P/wCugCzaxSIpaQ4LfwDt/wDXqkS2QyALIQOlUiSMsB7n2pOSW40mwyx9qzdbsUodxMZ681k5yZSihakYUAFABQAUAFABQAUAFABQAUAFADq7TElgfDhcZBpNASTtiLGM5OKSGVUOQc9jipasy07jqQBQAUASW8StK0jcsv3c9BTRLJLlyiAD+LvSlLlVwSuU8Z6kn61i5yZaihakYUAFABQAUAFABQAUAFABQAUAFACE4BNICC3ufPZhsxg+tTGd2JO4+aYxbcDJY4+laxjdg3Y//9k=' width='200' height='133' class=\"itemThumbnail\">\n",
       "                       </a>\n",
       "                    </div>\n",
       "\n",
       "                    <div class=\"item_right\"     style=\"float: none; width: auto; overflow: hidden;\">\n",
       "                        <a href='https://esrifederal.maps.arcgis.com/home/item.html?id=c89394fc9dfe46129b16f4ec1fd39aee' target='_blank'><b>Object_Detection_Point</b>\n",
       "                        </a>\n",
       "                        <br/>Test of object detection.<img src='https://esrifederal.maps.arcgis.com/home/js/jsapi/esri/css/images/item_type_icons/featureshosted16.png' style=\"vertical-align:middle;\">Feature Layer Collection by albe9057@esri.com_esrifederal\n",
       "                        <br/>Last Modified: September 12, 2017\n",
       "                        <br/>0 comments, 6 views\n",
       "                    </div>\n",
       "                </div>\n",
       "                "
      ],
      "text/plain": [
       "<Item title:\"Object_Detection_Point\" type:Feature Layer Collection owner:albe9057@esri.com_esrifederal>"
      ]
     },
     "execution_count": 14,
     "metadata": {},
     "output_type": "execute_result"
    }
   ],
   "source": [
    "object_point_srvc = gis.content.search(\"Object_Detection_Point\")[0]\n",
    "object_point_srvc"
   ]
  },
  {
   "cell_type": "code",
   "execution_count": 15,
   "metadata": {
    "scrolled": false
   },
   "outputs": [
    {
     "data": {
      "text/html": [
       "<div>\n",
       "<style>\n",
       "    .dataframe thead tr:only-child th {\n",
       "        text-align: right;\n",
       "    }\n",
       "\n",
       "    .dataframe thead th {\n",
       "        text-align: left;\n",
       "    }\n",
       "\n",
       "    .dataframe tbody tr th {\n",
       "        vertical-align: top;\n",
       "    }\n",
       "</style>\n",
       "<table border=\"1\" class=\"dataframe\">\n",
       "  <thead>\n",
       "    <tr style=\"text-align: right;\">\n",
       "      <th></th>\n",
       "      <th>CellPhone_Found</th>\n",
       "      <th>Chair_Found</th>\n",
       "      <th>CreationDate</th>\n",
       "      <th>Creator</th>\n",
       "      <th>EditDate</th>\n",
       "      <th>Editor</th>\n",
       "      <th>GlobalID</th>\n",
       "      <th>OBJECTID</th>\n",
       "      <th>Person_Found</th>\n",
       "      <th>SHAPE</th>\n",
       "    </tr>\n",
       "  </thead>\n",
       "  <tbody>\n",
       "    <tr>\n",
       "      <th>0</th>\n",
       "      <td>False</td>\n",
       "      <td>False</td>\n",
       "      <td>1505250771759</td>\n",
       "      <td>albe9057@esri.com_esrifederal</td>\n",
       "      <td>1505492234727</td>\n",
       "      <td>albe9057@esri.com_esrifederal</td>\n",
       "      <td>5653b059-c13d-4c64-b366-91fa980803e5</td>\n",
       "      <td>1</td>\n",
       "      <td>False</td>\n",
       "      <td>{'x': -8599193.8441, 'y': 4711366.046400003}</td>\n",
       "    </tr>\n",
       "  </tbody>\n",
       "</table>\n",
       "</div>"
      ],
      "text/plain": [
       "  CellPhone_Found Chair_Found   CreationDate                        Creator  \\\n",
       "0           False       False  1505250771759  albe9057@esri.com_esrifederal   \n",
       "\n",
       "        EditDate                         Editor  \\\n",
       "0  1505492234727  albe9057@esri.com_esrifederal   \n",
       "\n",
       "                               GlobalID  OBJECTID Person_Found  \\\n",
       "0  5653b059-c13d-4c64-b366-91fa980803e5         1        False   \n",
       "\n",
       "                                          SHAPE  \n",
       "0  {'x': -8599193.8441, 'y': 4711366.046400003}  "
      ]
     },
     "execution_count": 15,
     "metadata": {},
     "output_type": "execute_result"
    }
   ],
   "source": [
    "# Convert our existing service into a pandas dataframe\n",
    "object_point_lyr = object_point_srvc.layers[0]\n",
    "obj_fset = object_point_lyr.query()  #querying without any conditions returns all the features\n",
    "obj_df = obj_fset.df\n",
    "obj_df.head()"
   ]
  },
  {
   "cell_type": "code",
   "execution_count": 16,
   "metadata": {},
   "outputs": [
    {
     "data": {
      "text/plain": [
       "[{\"geometry\": {\"x\": -8599193.8441, \"y\": 4711366.046400003}, \"attributes\": {\"OBJECTID\": 1, \"Person_Found\": \"False\", \"Chair_Found\": \"False\", \"CellPhone_Found\": \"False\", \"GlobalID\": \"5653b059-c13d-4c64-b366-91fa980803e5\", \"CreationDate\": 1505250771759, \"Creator\": \"albe9057@esri.com_esrifederal\", \"EditDate\": 1505492234727, \"Editor\": \"albe9057@esri.com_esrifederal\"}}]"
      ]
     },
     "execution_count": 16,
     "metadata": {},
     "output_type": "execute_result"
    }
   ],
   "source": [
    "all_features = obj_fset.features\n",
    "all_features"
   ]
  },
  {
   "cell_type": "code",
   "execution_count": 17,
   "metadata": {},
   "outputs": [
    {
     "data": {
      "text/plain": [
       "{\"geometry\": {\"x\": -8599193.8441, \"y\": 4711366.046400003}, \"attributes\": {\"OBJECTID\": 1, \"Person_Found\": \"False\", \"Chair_Found\": \"False\", \"CellPhone_Found\": \"False\", \"GlobalID\": \"5653b059-c13d-4c64-b366-91fa980803e5\", \"CreationDate\": 1505250771759, \"Creator\": \"albe9057@esri.com_esrifederal\", \"EditDate\": 1505492234727, \"Editor\": \"albe9057@esri.com_esrifederal\"}}"
      ]
     },
     "execution_count": 17,
     "metadata": {},
     "output_type": "execute_result"
    }
   ],
   "source": [
    "from copy import deepcopy\n",
    "\n",
    "original_feature = all_features[0]\n",
    "feature_to_be_updated = deepcopy(original_feature)\n",
    "feature_to_be_updated"
   ]
  },
  {
   "cell_type": "markdown",
   "metadata": {},
   "source": [
    "### Test of Manual Update"
   ]
  },
  {
   "cell_type": "code",
   "execution_count": 18,
   "metadata": {},
   "outputs": [
    {
     "data": {
      "text/plain": [
       "'False'"
      ]
     },
     "execution_count": 18,
     "metadata": {},
     "output_type": "execute_result"
    }
   ],
   "source": [
    "feature_to_be_updated.attributes['Person_Found']"
   ]
  },
  {
   "cell_type": "code",
   "execution_count": 19,
   "metadata": {
    "collapsed": true
   },
   "outputs": [],
   "source": [
    "features_for_update = []\n",
    "feature_to_be_updated.attributes['Person_Found'] = \"False\"\n",
    "features_for_update.append(feature_to_be_updated)"
   ]
  },
  {
   "cell_type": "code",
   "execution_count": 20,
   "metadata": {},
   "outputs": [
    {
     "data": {
      "text/plain": [
       "{'addResults': [],\n",
       " 'deleteResults': [],\n",
       " 'updateResults': [{'globalId': '5653b059-c13d-4c64-b366-91fa980803e5',\n",
       "   'objectId': 1,\n",
       "   'success': True}]}"
      ]
     },
     "execution_count": 20,
     "metadata": {},
     "output_type": "execute_result"
    }
   ],
   "source": [
    "object_point_lyr.edit_features(updates=features_for_update)"
   ]
  },
  {
   "cell_type": "markdown",
   "metadata": {},
   "source": [
    "# Detection"
   ]
  },
  {
   "cell_type": "code",
   "execution_count": 21,
   "metadata": {
    "collapsed": true,
    "scrolled": true
   },
   "outputs": [],
   "source": [
    "with detection_graph.as_default():\n",
    "    with tf.Session(graph=detection_graph) as sess:\n",
    "        # Definite input and output Tensors for detection_graph\n",
    "        image_tensor = detection_graph.get_tensor_by_name('image_tensor:0')\n",
    "        # Each box represents a part of the image where a particular object was detected.\n",
    "        detection_boxes = detection_graph.get_tensor_by_name('detection_boxes:0')\n",
    "        # Each score represent how level of confidence for each of the objects.\n",
    "        # Score is shown on the result image, together with the class label.\n",
    "        detection_scores = detection_graph.get_tensor_by_name('detection_scores:0')\n",
    "        detection_classes = detection_graph.get_tensor_by_name('detection_classes:0')\n",
    "        num_detections = detection_graph.get_tensor_by_name('num_detections:0')\n",
    "        while True:\n",
    "            ret, image_np = cap.read()\n",
    "            # Expand dimensions since the model expects images to have shape: [1, None, None, 3]\n",
    "            image_np_expanded = np.expand_dims(image_np, axis=0)\n",
    "            # Actual detection.\n",
    "            (boxes, scores, classes, num) = sess.run(\n",
    "              [detection_boxes, detection_scores, detection_classes, num_detections],\n",
    "              feed_dict={image_tensor: image_np_expanded})\n",
    "            # Visualization of the results of a detection.\n",
    "            vis_util.visualize_boxes_and_labels_on_image_array(\n",
    "              image_np,\n",
    "              np.squeeze(boxes),\n",
    "              np.squeeze(classes).astype(np.int32),\n",
    "              np.squeeze(scores),\n",
    "              category_index,\n",
    "              use_normalized_coordinates=True,\n",
    "              line_thickness=8, min_score_thresh=0.5)\n",
    "            \n",
    "            cv2.imshow('object detection', cv2.resize(image_np, (800,600)))\n",
    "            if cv2.waitKey(25) & 0xFF == ord('q'):\n",
    "                cv2.destroyAllWindows()\n",
    "                break\n",
    "                \n",
    "            person_found = person_in_image(np.squeeze(classes).astype(np.int32), \n",
    "                                           np.squeeze(scores), \n",
    "                                           obj_thresh=2)\n",
    "            \n",
    "            features_for_update = []\n",
    "            feature_to_be_updated.attributes['Person_Found'] = str(person_found)\n",
    "            features_for_update.append(feature_to_be_updated)\n",
    "            object_point_lyr.edit_features(updates=features_for_update)"
   ]
  },
  {
   "cell_type": "markdown",
   "metadata": {
    "collapsed": true
   },
   "source": [
    "#### To view the map containing the updated feature:\n",
    "\n",
    "http://esrifederal.maps.arcgis.com/home/webmap/viewer.html?webmap=6cadd789f1ce44ab8271beed4ef76ebe"
   ]
  }
 ],
 "metadata": {
  "kernelspec": {
   "display_name": "Python 3",
   "language": "python",
   "name": "python3"
  },
  "language_info": {
   "codemirror_mode": {
    "name": "ipython",
    "version": 3
   },
   "file_extension": ".py",
   "mimetype": "text/x-python",
   "name": "python",
   "nbconvert_exporter": "python",
   "pygments_lexer": "ipython3",
   "version": "3.6.1"
  }
 },
 "nbformat": 4,
 "nbformat_minor": 2
}
