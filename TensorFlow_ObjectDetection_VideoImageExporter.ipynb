{
 "cells": [
  {
   "cell_type": "markdown",
   "metadata": {},
   "source": [
    "# Video Image Exporter"
   ]
  },
  {
   "cell_type": "code",
   "execution_count": 1,
   "metadata": {
    "collapsed": true
   },
   "outputs": [],
   "source": [
    "import requests\n",
    "import pandas as pd\n",
    "import arcgis\n",
    "import shutil\n",
    "import datetime\n",
    "import os\n",
    "import time"
   ]
  },
  {
   "cell_type": "markdown",
   "metadata": {},
   "source": [
    "Pseudocode\n",
    "\n",
    "1. Establish inputs:\n",
    "    - URLs for each camera we need\n",
    "    - Output Folder Locations\n",
    "\n",
    "2. Define generic exporter function\n",
    "\n",
    "3. Iterate on each URL input to perform export"
   ]
  },
  {
   "cell_type": "markdown",
   "metadata": {},
   "source": [
    "# 1. Establish inputs"
   ]
  },
  {
   "cell_type": "code",
   "execution_count": 2,
   "metadata": {
    "collapsed": true
   },
   "outputs": [],
   "source": [
    "output_folder = r\"C:\\Users\\albe9057\\Documents\\GitHub\\TensorFlowModels_GIS\\object_detection\\test_images\\cobbcounty_images\""
   ]
  },
  {
   "cell_type": "code",
   "execution_count": 3,
   "metadata": {
    "collapsed": true
   },
   "outputs": [],
   "source": [
    "# urls = [\"https://www.cobbcommute.org/CameraProxy/Index?url=%5C%5Cdcz-webdot2prd%5Ccobbcommutefeed%5CCOBB-CAM-129.jpg\",\n",
    "#         \"https://www.cobbcommute.org/CameraProxy/Index?url=%5C%5Cdcz-webdot2prd%5Ccobbcommutefeed%5CCOBB-CAM-128.jpg\",\n",
    "#         \"https://www.cobbcommute.org/CameraProxy/Index?url=%5C%5Cdcz-webdot2prd%5Ccobbcommutefeed%5CCOBB-CAM-130.jpg\",\n",
    "#         \"https://www.cobbcommute.org/CameraProxy/Index?url=%5C%5Cdcz-webdot2prd%5Ccobbcommutefeed%5CCOBB-CAM-137.jpg\",\n",
    "#         \"https://www.cobbcommute.org/CameraProxy/Index?url=%5C%5Cdcz-webdot2prd%5Ccobbcommutefeed%5CCOBB-CAM-133.jpg\",\n",
    "#         \"https://www.cobbcommute.org/CameraProxy/Index?url=%5C%5Cdcz-webdot2prd%5Ccobbcommutefeed%5CCOBB-CAM-117.jpg\",\n",
    "#         \"https://www.cobbcommute.org/CameraProxy/Index?url=%5C%5Cdcz-webdot2prd%5Ccobbcommutefeed%5CCOBB-CAM-127.jpg\",\n",
    "#         \"https://www.cobbcommute.org/CameraProxy/Index?url=%5C%5Cdcz-webdot2prd%5Ccobbcommutefeed%5CCOBB-CAM-054.jpg\",\n",
    "#         \"https://www.cobbcommute.org/CameraProxy/Index?url=%5C%5Cdcz-webdot2prd%5Ccobbcommutefeed%5CCOBB-CAM-055.jpg\",\n",
    "#         \"https://www.cobbcommute.org/CameraProxy/Index?url=%5C%5Cdcz-webdot2prd%5Ccobbcommutefeed%5CCOBB-CAM-134.jpg\",\n",
    "#         \"https://www.cobbcommute.org/CameraProxy/Index?url=%5C%5Cdcz-webdot2prd%5Ccobbcommutefeed%5CCOBB-CAM-050.jpg\",\n",
    "#         \"https://www.cobbcommute.org/CameraProxy/Index?url=%5C%5Cdcz-webdot2prd%5Ccobbcommutefeed%5CCOBB-CAM-052.jpg\",\n",
    "#         \"https://www.cobbcommute.org/CameraProxy/Index?url=%5C%5Cdcz-webdot2prd%5Ccobbcommutefeed%5CCOBB-CAM-118.jpg\",\n",
    "#         \"https://www.cobbcommute.org/CameraProxy/Index?url=%5C%5Cdcz-webdot2prd%5Ccobbcommutefeed%5CCOBB-CAM-051.jpg\"]"
   ]
  },
  {
   "cell_type": "code",
   "execution_count": 4,
   "metadata": {
    "collapsed": true
   },
   "outputs": [],
   "source": [
    "urls = [(\"https://www.cobbcommute.org/CameraProxy/Index?url=%5C%5Cdcz-webdot2prd%5Ccobbcommutefeed%5CCOBB-CAM-129.jpg\",\"129\"),\n",
    "        (\"https://www.cobbcommute.org/CameraProxy/Index?url=%5C%5Cdcz-webdot2prd%5Ccobbcommutefeed%5CCOBB-CAM-128.jpg\",\"128\"),\n",
    "        (\"https://www.cobbcommute.org/CameraProxy/Index?url=%5C%5Cdcz-webdot2prd%5Ccobbcommutefeed%5CCOBB-CAM-130.jpg\",\"130\"),\n",
    "        (\"https://www.cobbcommute.org/CameraProxy/Index?url=%5C%5Cdcz-webdot2prd%5Ccobbcommutefeed%5CCOBB-CAM-137.jpg\",\"137\"),\n",
    "        (\"https://www.cobbcommute.org/CameraProxy/Index?url=%5C%5Cdcz-webdot2prd%5Ccobbcommutefeed%5CCOBB-CAM-133.jpg\",\"133\"),\n",
    "        (\"https://www.cobbcommute.org/CameraProxy/Index?url=%5C%5Cdcz-webdot2prd%5Ccobbcommutefeed%5CCOBB-CAM-117.jpg\",\"117\"),\n",
    "        (\"https://www.cobbcommute.org/CameraProxy/Index?url=%5C%5Cdcz-webdot2prd%5Ccobbcommutefeed%5CCOBB-CAM-127.jpg\",\"127\"),\n",
    "        (\"https://www.cobbcommute.org/CameraProxy/Index?url=%5C%5Cdcz-webdot2prd%5Ccobbcommutefeed%5CCOBB-CAM-054.jpg\",\"054\"),\n",
    "        (\"https://www.cobbcommute.org/CameraProxy/Index?url=%5C%5Cdcz-webdot2prd%5Ccobbcommutefeed%5CCOBB-CAM-055.jpg\",\"055\"),\n",
    "        (\"https://www.cobbcommute.org/CameraProxy/Index?url=%5C%5Cdcz-webdot2prd%5Ccobbcommutefeed%5CCOBB-CAM-134.jpg\",\"134\"),\n",
    "        (\"https://www.cobbcommute.org/CameraProxy/Index?url=%5C%5Cdcz-webdot2prd%5Ccobbcommutefeed%5CCOBB-CAM-050.jpg\",\"050\"),\n",
    "        (\"https://www.cobbcommute.org/CameraProxy/Index?url=%5C%5Cdcz-webdot2prd%5Ccobbcommutefeed%5CCOBB-CAM-052.jpg\",\"052\"),\n",
    "        (\"https://www.cobbcommute.org/CameraProxy/Index?url=%5C%5Cdcz-webdot2prd%5Ccobbcommutefeed%5CCOBB-CAM-118.jpg\",\"118\"),\n",
    "        (\"https://www.cobbcommute.org/CameraProxy/Index?url=%5C%5Cdcz-webdot2prd%5Ccobbcommutefeed%5CCOBB-CAM-051.jpg\",\"051\")]"
   ]
  },
  {
   "cell_type": "code",
   "execution_count": 5,
   "metadata": {
    "collapsed": true
   },
   "outputs": [],
   "source": [
    "# 2. Define generic exporter function\n",
    "def download_camera_jpg_from_url(camera_jpg_url):\n",
    "    file_name = datetime.datetime.now().strftime(\"%m%d%y%H%M%S\") + \"_\"+camera_jpg_url.split(\"%5\")[-1] \n",
    "    camera_response = requests.get(camera_jpg_url)\n",
    "\n",
    "    streamed_response = requests.get(camera_jpg_url, stream=True)\n",
    "    with open(file_name, 'wb') as out_file:\n",
    "        shutil.copyfileobj(streamed_response.raw, out_file)"
   ]
  },
  {
   "cell_type": "code",
   "execution_count": 6,
   "metadata": {
    "collapsed": true
   },
   "outputs": [],
   "source": [
    "# # 3. Iterate on each URL input to perform export\n",
    "\n",
    "# # Change directory to output folder\n",
    "# os.chdir(output_folder)\n",
    "\n",
    "# # Iterate and run exporter function\n",
    "# for url in urls:\n",
    "#     download_camera_jpg_from_url(url)"
   ]
  },
  {
   "cell_type": "code",
   "execution_count": 7,
   "metadata": {
    "collapsed": true
   },
   "outputs": [],
   "source": [
    "# # 3. Iterate on each URL input to perform export\n",
    "# def scheduled_threded_download(seconds):\n",
    "#     import threading\n",
    "#     threading.Timer(seconds, scheduled_download).start()\n",
    "    \n",
    "#     now = datetime.datetime.now().strftime(\"%H:%M:%S\")\n",
    "    \n",
    "#     print(\"Scheduled download start:\" + now)\n",
    "    \n",
    "#     # Iterate and run exporter function\n",
    "#     for url, cam_name in urls:\n",
    "#         print(url, cam_name)\n",
    "\n",
    "#         # Make dir if not exists\n",
    "#         output_dir = output_folder + \"//\" + cam_name\n",
    "#         if not os.path.exists(output_dir):\n",
    "#             os.makedirs(output_dir)\n",
    "\n",
    "#         # Change dir\n",
    "#         os.chdir(output_dir)\n",
    "\n",
    "        \n",
    "#         download_camera_jpg_from_url(url)"
   ]
  },
  {
   "cell_type": "code",
   "execution_count": 8,
   "metadata": {
    "collapsed": true
   },
   "outputs": [],
   "source": [
    "# 3. Iterate on each URL input to perform export\n",
    "def scheduled_download(seconds, iterations):\n",
    "    \n",
    "    for iteration in range(int(iterations)):\n",
    "    \n",
    "        print(\"Iteration: \"+str(iteration))\n",
    "#         iter_count = 0\n",
    "\n",
    "#         iter_count += 1\n",
    "\n",
    "#         if iter_count <= iterations:\n",
    "\n",
    "        now = datetime.datetime.now().strftime(\"%H:%M:%S\")\n",
    "\n",
    "        print(\"Scheduled download start: \" + now)\n",
    "\n",
    "        # Iterate and run exporter function\n",
    "        for url, cam_name in urls:\n",
    "            print(url, cam_name)\n",
    "\n",
    "            # Make dir if not exists\n",
    "            output_dir = output_folder + \"//\" + cam_name\n",
    "            if not os.path.exists(output_dir):\n",
    "                os.makedirs(output_dir)\n",
    "\n",
    "            # Change dir\n",
    "            os.chdir(output_dir)\n",
    "\n",
    "            download_camera_jpg_from_url(url)\n",
    "            \n",
    "    \n",
    "        time.sleep(seconds)"
   ]
  },
  {
   "cell_type": "code",
   "execution_count": 11,
   "metadata": {},
   "outputs": [
    {
     "name": "stdout",
     "output_type": "stream",
     "text": [
      "Iteration: 0\n",
      "Scheduled download start: 16:33:17\n",
      "https://www.cobbcommute.org/CameraProxy/Index?url=%5C%5Cdcz-webdot2prd%5Ccobbcommutefeed%5CCOBB-CAM-129.jpg 129\n",
      "https://www.cobbcommute.org/CameraProxy/Index?url=%5C%5Cdcz-webdot2prd%5Ccobbcommutefeed%5CCOBB-CAM-128.jpg 128\n",
      "https://www.cobbcommute.org/CameraProxy/Index?url=%5C%5Cdcz-webdot2prd%5Ccobbcommutefeed%5CCOBB-CAM-130.jpg 130\n",
      "https://www.cobbcommute.org/CameraProxy/Index?url=%5C%5Cdcz-webdot2prd%5Ccobbcommutefeed%5CCOBB-CAM-137.jpg 137\n",
      "https://www.cobbcommute.org/CameraProxy/Index?url=%5C%5Cdcz-webdot2prd%5Ccobbcommutefeed%5CCOBB-CAM-133.jpg 133\n",
      "https://www.cobbcommute.org/CameraProxy/Index?url=%5C%5Cdcz-webdot2prd%5Ccobbcommutefeed%5CCOBB-CAM-117.jpg 117\n",
      "https://www.cobbcommute.org/CameraProxy/Index?url=%5C%5Cdcz-webdot2prd%5Ccobbcommutefeed%5CCOBB-CAM-127.jpg 127\n",
      "https://www.cobbcommute.org/CameraProxy/Index?url=%5C%5Cdcz-webdot2prd%5Ccobbcommutefeed%5CCOBB-CAM-054.jpg 054\n",
      "https://www.cobbcommute.org/CameraProxy/Index?url=%5C%5Cdcz-webdot2prd%5Ccobbcommutefeed%5CCOBB-CAM-055.jpg 055\n",
      "https://www.cobbcommute.org/CameraProxy/Index?url=%5C%5Cdcz-webdot2prd%5Ccobbcommutefeed%5CCOBB-CAM-134.jpg 134\n",
      "https://www.cobbcommute.org/CameraProxy/Index?url=%5C%5Cdcz-webdot2prd%5Ccobbcommutefeed%5CCOBB-CAM-050.jpg 050\n",
      "https://www.cobbcommute.org/CameraProxy/Index?url=%5C%5Cdcz-webdot2prd%5Ccobbcommutefeed%5CCOBB-CAM-052.jpg 052\n",
      "https://www.cobbcommute.org/CameraProxy/Index?url=%5C%5Cdcz-webdot2prd%5Ccobbcommutefeed%5CCOBB-CAM-118.jpg 118\n",
      "https://www.cobbcommute.org/CameraProxy/Index?url=%5C%5Cdcz-webdot2prd%5Ccobbcommutefeed%5CCOBB-CAM-051.jpg 051\n",
      "Iteration: 1\n",
      "Scheduled download start: 16:37:23\n",
      "https://www.cobbcommute.org/CameraProxy/Index?url=%5C%5Cdcz-webdot2prd%5Ccobbcommutefeed%5CCOBB-CAM-129.jpg 129\n",
      "https://www.cobbcommute.org/CameraProxy/Index?url=%5C%5Cdcz-webdot2prd%5Ccobbcommutefeed%5CCOBB-CAM-128.jpg 128\n",
      "https://www.cobbcommute.org/CameraProxy/Index?url=%5C%5Cdcz-webdot2prd%5Ccobbcommutefeed%5CCOBB-CAM-130.jpg 130\n",
      "https://www.cobbcommute.org/CameraProxy/Index?url=%5C%5Cdcz-webdot2prd%5Ccobbcommutefeed%5CCOBB-CAM-137.jpg 137\n",
      "https://www.cobbcommute.org/CameraProxy/Index?url=%5C%5Cdcz-webdot2prd%5Ccobbcommutefeed%5CCOBB-CAM-133.jpg 133\n",
      "https://www.cobbcommute.org/CameraProxy/Index?url=%5C%5Cdcz-webdot2prd%5Ccobbcommutefeed%5CCOBB-CAM-117.jpg 117\n",
      "https://www.cobbcommute.org/CameraProxy/Index?url=%5C%5Cdcz-webdot2prd%5Ccobbcommutefeed%5CCOBB-CAM-127.jpg 127\n",
      "https://www.cobbcommute.org/CameraProxy/Index?url=%5C%5Cdcz-webdot2prd%5Ccobbcommutefeed%5CCOBB-CAM-054.jpg 054\n",
      "https://www.cobbcommute.org/CameraProxy/Index?url=%5C%5Cdcz-webdot2prd%5Ccobbcommutefeed%5CCOBB-CAM-055.jpg 055\n",
      "https://www.cobbcommute.org/CameraProxy/Index?url=%5C%5Cdcz-webdot2prd%5Ccobbcommutefeed%5CCOBB-CAM-134.jpg 134\n",
      "https://www.cobbcommute.org/CameraProxy/Index?url=%5C%5Cdcz-webdot2prd%5Ccobbcommutefeed%5CCOBB-CAM-050.jpg 050\n",
      "https://www.cobbcommute.org/CameraProxy/Index?url=%5C%5Cdcz-webdot2prd%5Ccobbcommutefeed%5CCOBB-CAM-052.jpg 052\n",
      "https://www.cobbcommute.org/CameraProxy/Index?url=%5C%5Cdcz-webdot2prd%5Ccobbcommutefeed%5CCOBB-CAM-118.jpg 118\n",
      "https://www.cobbcommute.org/CameraProxy/Index?url=%5C%5Cdcz-webdot2prd%5Ccobbcommutefeed%5CCOBB-CAM-051.jpg 051\n",
      "Iteration: 2\n",
      "Scheduled download start: 16:41:30\n",
      "https://www.cobbcommute.org/CameraProxy/Index?url=%5C%5Cdcz-webdot2prd%5Ccobbcommutefeed%5CCOBB-CAM-129.jpg 129\n",
      "https://www.cobbcommute.org/CameraProxy/Index?url=%5C%5Cdcz-webdot2prd%5Ccobbcommutefeed%5CCOBB-CAM-128.jpg 128\n",
      "https://www.cobbcommute.org/CameraProxy/Index?url=%5C%5Cdcz-webdot2prd%5Ccobbcommutefeed%5CCOBB-CAM-130.jpg 130\n",
      "https://www.cobbcommute.org/CameraProxy/Index?url=%5C%5Cdcz-webdot2prd%5Ccobbcommutefeed%5CCOBB-CAM-137.jpg 137\n",
      "https://www.cobbcommute.org/CameraProxy/Index?url=%5C%5Cdcz-webdot2prd%5Ccobbcommutefeed%5CCOBB-CAM-133.jpg 133\n",
      "https://www.cobbcommute.org/CameraProxy/Index?url=%5C%5Cdcz-webdot2prd%5Ccobbcommutefeed%5CCOBB-CAM-117.jpg 117\n",
      "https://www.cobbcommute.org/CameraProxy/Index?url=%5C%5Cdcz-webdot2prd%5Ccobbcommutefeed%5CCOBB-CAM-127.jpg 127\n",
      "https://www.cobbcommute.org/CameraProxy/Index?url=%5C%5Cdcz-webdot2prd%5Ccobbcommutefeed%5CCOBB-CAM-054.jpg 054\n",
      "https://www.cobbcommute.org/CameraProxy/Index?url=%5C%5Cdcz-webdot2prd%5Ccobbcommutefeed%5CCOBB-CAM-055.jpg 055\n",
      "https://www.cobbcommute.org/CameraProxy/Index?url=%5C%5Cdcz-webdot2prd%5Ccobbcommutefeed%5CCOBB-CAM-134.jpg 134\n",
      "https://www.cobbcommute.org/CameraProxy/Index?url=%5C%5Cdcz-webdot2prd%5Ccobbcommutefeed%5CCOBB-CAM-050.jpg 050\n",
      "https://www.cobbcommute.org/CameraProxy/Index?url=%5C%5Cdcz-webdot2prd%5Ccobbcommutefeed%5CCOBB-CAM-052.jpg 052\n",
      "https://www.cobbcommute.org/CameraProxy/Index?url=%5C%5Cdcz-webdot2prd%5Ccobbcommutefeed%5CCOBB-CAM-118.jpg 118\n",
      "https://www.cobbcommute.org/CameraProxy/Index?url=%5C%5Cdcz-webdot2prd%5Ccobbcommutefeed%5CCOBB-CAM-051.jpg 051\n",
      "Iteration: 3\n",
      "Scheduled download start: 16:45:38\n",
      "https://www.cobbcommute.org/CameraProxy/Index?url=%5C%5Cdcz-webdot2prd%5Ccobbcommutefeed%5CCOBB-CAM-129.jpg 129\n",
      "https://www.cobbcommute.org/CameraProxy/Index?url=%5C%5Cdcz-webdot2prd%5Ccobbcommutefeed%5CCOBB-CAM-128.jpg 128\n",
      "https://www.cobbcommute.org/CameraProxy/Index?url=%5C%5Cdcz-webdot2prd%5Ccobbcommutefeed%5CCOBB-CAM-130.jpg 130\n",
      "https://www.cobbcommute.org/CameraProxy/Index?url=%5C%5Cdcz-webdot2prd%5Ccobbcommutefeed%5CCOBB-CAM-137.jpg 137\n",
      "https://www.cobbcommute.org/CameraProxy/Index?url=%5C%5Cdcz-webdot2prd%5Ccobbcommutefeed%5CCOBB-CAM-133.jpg 133\n",
      "https://www.cobbcommute.org/CameraProxy/Index?url=%5C%5Cdcz-webdot2prd%5Ccobbcommutefeed%5CCOBB-CAM-117.jpg 117\n",
      "https://www.cobbcommute.org/CameraProxy/Index?url=%5C%5Cdcz-webdot2prd%5Ccobbcommutefeed%5CCOBB-CAM-127.jpg 127\n",
      "https://www.cobbcommute.org/CameraProxy/Index?url=%5C%5Cdcz-webdot2prd%5Ccobbcommutefeed%5CCOBB-CAM-054.jpg 054\n",
      "https://www.cobbcommute.org/CameraProxy/Index?url=%5C%5Cdcz-webdot2prd%5Ccobbcommutefeed%5CCOBB-CAM-055.jpg 055\n",
      "https://www.cobbcommute.org/CameraProxy/Index?url=%5C%5Cdcz-webdot2prd%5Ccobbcommutefeed%5CCOBB-CAM-134.jpg 134\n",
      "https://www.cobbcommute.org/CameraProxy/Index?url=%5C%5Cdcz-webdot2prd%5Ccobbcommutefeed%5CCOBB-CAM-050.jpg 050\n",
      "https://www.cobbcommute.org/CameraProxy/Index?url=%5C%5Cdcz-webdot2prd%5Ccobbcommutefeed%5CCOBB-CAM-052.jpg 052\n",
      "https://www.cobbcommute.org/CameraProxy/Index?url=%5C%5Cdcz-webdot2prd%5Ccobbcommutefeed%5CCOBB-CAM-118.jpg 118\n",
      "https://www.cobbcommute.org/CameraProxy/Index?url=%5C%5Cdcz-webdot2prd%5Ccobbcommutefeed%5CCOBB-CAM-051.jpg 051\n",
      "Iteration: 4\n",
      "Scheduled download start: 16:49:43\n",
      "https://www.cobbcommute.org/CameraProxy/Index?url=%5C%5Cdcz-webdot2prd%5Ccobbcommutefeed%5CCOBB-CAM-129.jpg 129\n",
      "https://www.cobbcommute.org/CameraProxy/Index?url=%5C%5Cdcz-webdot2prd%5Ccobbcommutefeed%5CCOBB-CAM-128.jpg 128\n",
      "https://www.cobbcommute.org/CameraProxy/Index?url=%5C%5Cdcz-webdot2prd%5Ccobbcommutefeed%5CCOBB-CAM-130.jpg 130\n",
      "https://www.cobbcommute.org/CameraProxy/Index?url=%5C%5Cdcz-webdot2prd%5Ccobbcommutefeed%5CCOBB-CAM-137.jpg 137\n",
      "https://www.cobbcommute.org/CameraProxy/Index?url=%5C%5Cdcz-webdot2prd%5Ccobbcommutefeed%5CCOBB-CAM-133.jpg 133\n",
      "https://www.cobbcommute.org/CameraProxy/Index?url=%5C%5Cdcz-webdot2prd%5Ccobbcommutefeed%5CCOBB-CAM-117.jpg 117\n",
      "https://www.cobbcommute.org/CameraProxy/Index?url=%5C%5Cdcz-webdot2prd%5Ccobbcommutefeed%5CCOBB-CAM-127.jpg 127\n",
      "https://www.cobbcommute.org/CameraProxy/Index?url=%5C%5Cdcz-webdot2prd%5Ccobbcommutefeed%5CCOBB-CAM-054.jpg 054\n",
      "https://www.cobbcommute.org/CameraProxy/Index?url=%5C%5Cdcz-webdot2prd%5Ccobbcommutefeed%5CCOBB-CAM-055.jpg 055\n",
      "https://www.cobbcommute.org/CameraProxy/Index?url=%5C%5Cdcz-webdot2prd%5Ccobbcommutefeed%5CCOBB-CAM-134.jpg 134\n",
      "https://www.cobbcommute.org/CameraProxy/Index?url=%5C%5Cdcz-webdot2prd%5Ccobbcommutefeed%5CCOBB-CAM-050.jpg 050\n",
      "https://www.cobbcommute.org/CameraProxy/Index?url=%5C%5Cdcz-webdot2prd%5Ccobbcommutefeed%5CCOBB-CAM-052.jpg 052\n",
      "https://www.cobbcommute.org/CameraProxy/Index?url=%5C%5Cdcz-webdot2prd%5Ccobbcommutefeed%5CCOBB-CAM-118.jpg 118\n",
      "https://www.cobbcommute.org/CameraProxy/Index?url=%5C%5Cdcz-webdot2prd%5Ccobbcommutefeed%5CCOBB-CAM-051.jpg 051\n",
      "Iteration: 5\n",
      "Scheduled download start: 16:53:49\n",
      "https://www.cobbcommute.org/CameraProxy/Index?url=%5C%5Cdcz-webdot2prd%5Ccobbcommutefeed%5CCOBB-CAM-129.jpg 129\n"
     ]
    },
    {
     "name": "stdout",
     "output_type": "stream",
     "text": [
      "https://www.cobbcommute.org/CameraProxy/Index?url=%5C%5Cdcz-webdot2prd%5Ccobbcommutefeed%5CCOBB-CAM-128.jpg 128\n",
      "https://www.cobbcommute.org/CameraProxy/Index?url=%5C%5Cdcz-webdot2prd%5Ccobbcommutefeed%5CCOBB-CAM-130.jpg 130\n",
      "https://www.cobbcommute.org/CameraProxy/Index?url=%5C%5Cdcz-webdot2prd%5Ccobbcommutefeed%5CCOBB-CAM-137.jpg 137\n",
      "https://www.cobbcommute.org/CameraProxy/Index?url=%5C%5Cdcz-webdot2prd%5Ccobbcommutefeed%5CCOBB-CAM-133.jpg 133\n",
      "https://www.cobbcommute.org/CameraProxy/Index?url=%5C%5Cdcz-webdot2prd%5Ccobbcommutefeed%5CCOBB-CAM-117.jpg 117\n",
      "https://www.cobbcommute.org/CameraProxy/Index?url=%5C%5Cdcz-webdot2prd%5Ccobbcommutefeed%5CCOBB-CAM-127.jpg 127\n",
      "https://www.cobbcommute.org/CameraProxy/Index?url=%5C%5Cdcz-webdot2prd%5Ccobbcommutefeed%5CCOBB-CAM-054.jpg 054\n",
      "https://www.cobbcommute.org/CameraProxy/Index?url=%5C%5Cdcz-webdot2prd%5Ccobbcommutefeed%5CCOBB-CAM-055.jpg 055\n",
      "https://www.cobbcommute.org/CameraProxy/Index?url=%5C%5Cdcz-webdot2prd%5Ccobbcommutefeed%5CCOBB-CAM-134.jpg 134\n",
      "https://www.cobbcommute.org/CameraProxy/Index?url=%5C%5Cdcz-webdot2prd%5Ccobbcommutefeed%5CCOBB-CAM-050.jpg 050\n",
      "https://www.cobbcommute.org/CameraProxy/Index?url=%5C%5Cdcz-webdot2prd%5Ccobbcommutefeed%5CCOBB-CAM-052.jpg 052\n",
      "https://www.cobbcommute.org/CameraProxy/Index?url=%5C%5Cdcz-webdot2prd%5Ccobbcommutefeed%5CCOBB-CAM-118.jpg 118\n",
      "https://www.cobbcommute.org/CameraProxy/Index?url=%5C%5Cdcz-webdot2prd%5Ccobbcommutefeed%5CCOBB-CAM-051.jpg 051\n",
      "Iteration: 6\n",
      "Scheduled download start: 16:57:55\n",
      "https://www.cobbcommute.org/CameraProxy/Index?url=%5C%5Cdcz-webdot2prd%5Ccobbcommutefeed%5CCOBB-CAM-129.jpg 129\n",
      "https://www.cobbcommute.org/CameraProxy/Index?url=%5C%5Cdcz-webdot2prd%5Ccobbcommutefeed%5CCOBB-CAM-128.jpg 128\n",
      "https://www.cobbcommute.org/CameraProxy/Index?url=%5C%5Cdcz-webdot2prd%5Ccobbcommutefeed%5CCOBB-CAM-130.jpg 130\n",
      "https://www.cobbcommute.org/CameraProxy/Index?url=%5C%5Cdcz-webdot2prd%5Ccobbcommutefeed%5CCOBB-CAM-137.jpg 137\n",
      "https://www.cobbcommute.org/CameraProxy/Index?url=%5C%5Cdcz-webdot2prd%5Ccobbcommutefeed%5CCOBB-CAM-133.jpg 133\n",
      "https://www.cobbcommute.org/CameraProxy/Index?url=%5C%5Cdcz-webdot2prd%5Ccobbcommutefeed%5CCOBB-CAM-117.jpg 117\n",
      "https://www.cobbcommute.org/CameraProxy/Index?url=%5C%5Cdcz-webdot2prd%5Ccobbcommutefeed%5CCOBB-CAM-127.jpg 127\n",
      "https://www.cobbcommute.org/CameraProxy/Index?url=%5C%5Cdcz-webdot2prd%5Ccobbcommutefeed%5CCOBB-CAM-054.jpg 054\n",
      "https://www.cobbcommute.org/CameraProxy/Index?url=%5C%5Cdcz-webdot2prd%5Ccobbcommutefeed%5CCOBB-CAM-055.jpg 055\n",
      "https://www.cobbcommute.org/CameraProxy/Index?url=%5C%5Cdcz-webdot2prd%5Ccobbcommutefeed%5CCOBB-CAM-134.jpg 134\n",
      "https://www.cobbcommute.org/CameraProxy/Index?url=%5C%5Cdcz-webdot2prd%5Ccobbcommutefeed%5CCOBB-CAM-050.jpg 050\n",
      "https://www.cobbcommute.org/CameraProxy/Index?url=%5C%5Cdcz-webdot2prd%5Ccobbcommutefeed%5CCOBB-CAM-052.jpg 052\n",
      "https://www.cobbcommute.org/CameraProxy/Index?url=%5C%5Cdcz-webdot2prd%5Ccobbcommutefeed%5CCOBB-CAM-118.jpg 118\n",
      "https://www.cobbcommute.org/CameraProxy/Index?url=%5C%5Cdcz-webdot2prd%5Ccobbcommutefeed%5CCOBB-CAM-051.jpg 051\n",
      "Iteration: 7\n",
      "Scheduled download start: 17:02:02\n",
      "https://www.cobbcommute.org/CameraProxy/Index?url=%5C%5Cdcz-webdot2prd%5Ccobbcommutefeed%5CCOBB-CAM-129.jpg 129\n",
      "https://www.cobbcommute.org/CameraProxy/Index?url=%5C%5Cdcz-webdot2prd%5Ccobbcommutefeed%5CCOBB-CAM-128.jpg 128\n",
      "https://www.cobbcommute.org/CameraProxy/Index?url=%5C%5Cdcz-webdot2prd%5Ccobbcommutefeed%5CCOBB-CAM-130.jpg 130\n",
      "https://www.cobbcommute.org/CameraProxy/Index?url=%5C%5Cdcz-webdot2prd%5Ccobbcommutefeed%5CCOBB-CAM-137.jpg 137\n",
      "https://www.cobbcommute.org/CameraProxy/Index?url=%5C%5Cdcz-webdot2prd%5Ccobbcommutefeed%5CCOBB-CAM-133.jpg 133\n",
      "https://www.cobbcommute.org/CameraProxy/Index?url=%5C%5Cdcz-webdot2prd%5Ccobbcommutefeed%5CCOBB-CAM-117.jpg 117\n",
      "https://www.cobbcommute.org/CameraProxy/Index?url=%5C%5Cdcz-webdot2prd%5Ccobbcommutefeed%5CCOBB-CAM-127.jpg 127\n",
      "https://www.cobbcommute.org/CameraProxy/Index?url=%5C%5Cdcz-webdot2prd%5Ccobbcommutefeed%5CCOBB-CAM-054.jpg 054\n",
      "https://www.cobbcommute.org/CameraProxy/Index?url=%5C%5Cdcz-webdot2prd%5Ccobbcommutefeed%5CCOBB-CAM-055.jpg 055\n",
      "https://www.cobbcommute.org/CameraProxy/Index?url=%5C%5Cdcz-webdot2prd%5Ccobbcommutefeed%5CCOBB-CAM-134.jpg 134\n",
      "https://www.cobbcommute.org/CameraProxy/Index?url=%5C%5Cdcz-webdot2prd%5Ccobbcommutefeed%5CCOBB-CAM-050.jpg 050\n",
      "https://www.cobbcommute.org/CameraProxy/Index?url=%5C%5Cdcz-webdot2prd%5Ccobbcommutefeed%5CCOBB-CAM-052.jpg 052\n",
      "https://www.cobbcommute.org/CameraProxy/Index?url=%5C%5Cdcz-webdot2prd%5Ccobbcommutefeed%5CCOBB-CAM-118.jpg 118\n",
      "https://www.cobbcommute.org/CameraProxy/Index?url=%5C%5Cdcz-webdot2prd%5Ccobbcommutefeed%5CCOBB-CAM-051.jpg 051\n",
      "Iteration: 8\n",
      "Scheduled download start: 17:06:08\n",
      "https://www.cobbcommute.org/CameraProxy/Index?url=%5C%5Cdcz-webdot2prd%5Ccobbcommutefeed%5CCOBB-CAM-129.jpg 129\n",
      "https://www.cobbcommute.org/CameraProxy/Index?url=%5C%5Cdcz-webdot2prd%5Ccobbcommutefeed%5CCOBB-CAM-128.jpg 128\n",
      "https://www.cobbcommute.org/CameraProxy/Index?url=%5C%5Cdcz-webdot2prd%5Ccobbcommutefeed%5CCOBB-CAM-130.jpg 130\n",
      "https://www.cobbcommute.org/CameraProxy/Index?url=%5C%5Cdcz-webdot2prd%5Ccobbcommutefeed%5CCOBB-CAM-137.jpg 137\n",
      "https://www.cobbcommute.org/CameraProxy/Index?url=%5C%5Cdcz-webdot2prd%5Ccobbcommutefeed%5CCOBB-CAM-133.jpg 133\n",
      "https://www.cobbcommute.org/CameraProxy/Index?url=%5C%5Cdcz-webdot2prd%5Ccobbcommutefeed%5CCOBB-CAM-117.jpg 117\n",
      "https://www.cobbcommute.org/CameraProxy/Index?url=%5C%5Cdcz-webdot2prd%5Ccobbcommutefeed%5CCOBB-CAM-127.jpg 127\n",
      "https://www.cobbcommute.org/CameraProxy/Index?url=%5C%5Cdcz-webdot2prd%5Ccobbcommutefeed%5CCOBB-CAM-054.jpg 054\n",
      "https://www.cobbcommute.org/CameraProxy/Index?url=%5C%5Cdcz-webdot2prd%5Ccobbcommutefeed%5CCOBB-CAM-055.jpg 055\n",
      "https://www.cobbcommute.org/CameraProxy/Index?url=%5C%5Cdcz-webdot2prd%5Ccobbcommutefeed%5CCOBB-CAM-134.jpg 134\n",
      "https://www.cobbcommute.org/CameraProxy/Index?url=%5C%5Cdcz-webdot2prd%5Ccobbcommutefeed%5CCOBB-CAM-050.jpg 050\n",
      "https://www.cobbcommute.org/CameraProxy/Index?url=%5C%5Cdcz-webdot2prd%5Ccobbcommutefeed%5CCOBB-CAM-052.jpg 052\n",
      "https://www.cobbcommute.org/CameraProxy/Index?url=%5C%5Cdcz-webdot2prd%5Ccobbcommutefeed%5CCOBB-CAM-118.jpg 118\n",
      "https://www.cobbcommute.org/CameraProxy/Index?url=%5C%5Cdcz-webdot2prd%5Ccobbcommutefeed%5CCOBB-CAM-051.jpg 051\n",
      "Iteration: 9\n",
      "Scheduled download start: 17:10:14\n",
      "https://www.cobbcommute.org/CameraProxy/Index?url=%5C%5Cdcz-webdot2prd%5Ccobbcommutefeed%5CCOBB-CAM-129.jpg 129\n",
      "https://www.cobbcommute.org/CameraProxy/Index?url=%5C%5Cdcz-webdot2prd%5Ccobbcommutefeed%5CCOBB-CAM-128.jpg 128\n",
      "https://www.cobbcommute.org/CameraProxy/Index?url=%5C%5Cdcz-webdot2prd%5Ccobbcommutefeed%5CCOBB-CAM-130.jpg 130\n",
      "https://www.cobbcommute.org/CameraProxy/Index?url=%5C%5Cdcz-webdot2prd%5Ccobbcommutefeed%5CCOBB-CAM-137.jpg 137\n",
      "https://www.cobbcommute.org/CameraProxy/Index?url=%5C%5Cdcz-webdot2prd%5Ccobbcommutefeed%5CCOBB-CAM-133.jpg 133\n",
      "https://www.cobbcommute.org/CameraProxy/Index?url=%5C%5Cdcz-webdot2prd%5Ccobbcommutefeed%5CCOBB-CAM-117.jpg 117\n",
      "https://www.cobbcommute.org/CameraProxy/Index?url=%5C%5Cdcz-webdot2prd%5Ccobbcommutefeed%5CCOBB-CAM-127.jpg 127\n",
      "https://www.cobbcommute.org/CameraProxy/Index?url=%5C%5Cdcz-webdot2prd%5Ccobbcommutefeed%5CCOBB-CAM-054.jpg 054\n",
      "https://www.cobbcommute.org/CameraProxy/Index?url=%5C%5Cdcz-webdot2prd%5Ccobbcommutefeed%5CCOBB-CAM-055.jpg 055\n",
      "https://www.cobbcommute.org/CameraProxy/Index?url=%5C%5Cdcz-webdot2prd%5Ccobbcommutefeed%5CCOBB-CAM-134.jpg 134\n",
      "https://www.cobbcommute.org/CameraProxy/Index?url=%5C%5Cdcz-webdot2prd%5Ccobbcommutefeed%5CCOBB-CAM-050.jpg 050\n",
      "https://www.cobbcommute.org/CameraProxy/Index?url=%5C%5Cdcz-webdot2prd%5Ccobbcommutefeed%5CCOBB-CAM-052.jpg 052\n",
      "https://www.cobbcommute.org/CameraProxy/Index?url=%5C%5Cdcz-webdot2prd%5Ccobbcommutefeed%5CCOBB-CAM-118.jpg 118\n",
      "https://www.cobbcommute.org/CameraProxy/Index?url=%5C%5Cdcz-webdot2prd%5Ccobbcommutefeed%5CCOBB-CAM-051.jpg 051\n"
     ]
    }
   ],
   "source": [
    "scheduled_download(240, 10)"
   ]
  },
  {
   "cell_type": "code",
   "execution_count": null,
   "metadata": {
    "collapsed": true
   },
   "outputs": [],
   "source": []
  }
 ],
 "metadata": {
  "anaconda-cloud": {},
  "kernelspec": {
   "display_name": "Python 3",
   "language": "python",
   "name": "python3"
  },
  "language_info": {
   "codemirror_mode": {
    "name": "ipython",
    "version": 3
   },
   "file_extension": ".py",
   "mimetype": "text/x-python",
   "name": "python",
   "nbconvert_exporter": "python",
   "pygments_lexer": "ipython3",
   "version": "3.6.1"
  }
 },
 "nbformat": 4,
 "nbformat_minor": 2
}
