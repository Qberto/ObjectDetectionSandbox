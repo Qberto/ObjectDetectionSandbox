{
 "cells": [
  {
   "cell_type": "markdown",
   "metadata": {},
   "source": [
    "# Video Image Exporter"
   ]
  },
  {
   "cell_type": "code",
   "execution_count": 20,
   "metadata": {
    "collapsed": true
   },
   "outputs": [],
   "source": [
    "import requests\n",
    "import pandas as pd\n",
    "import arcgis\n",
    "import shutil\n",
    "import datetime\n",
    "import os"
   ]
  },
  {
   "cell_type": "markdown",
   "metadata": {},
   "source": [
    "Pseudocode\n",
    "\n",
    "1. Establish inputs:\n",
    "    - URLs for each camera we need\n",
    "    - Output Folder Locations\n",
    "\n",
    "2. Define generic exporter function\n",
    "\n",
    "3. Iterate on each URL input to perform export"
   ]
  },
  {
   "cell_type": "code",
   "execution_count": 22,
   "metadata": {
    "collapsed": true
   },
   "outputs": [],
   "source": [
    "# 1. Establish inputs\n",
    "urls = [\"https://www.cobbcommute.org/CameraProxy/Index?url=%5C%5Cdcz-webdot2prd%5Ccobbcommutefeed%5CCOBB-CAM-129.jpg\",\n",
    "        \"https://www.cobbcommute.org/CameraProxy/Index?url=%5C%5Cdcz-webdot2prd%5Ccobbcommutefeed%5CCOBB-CAM-128.jpg\",\n",
    "        \"https://www.cobbcommute.org/CameraProxy/Index?url=%5C%5Cdcz-webdot2prd%5Ccobbcommutefeed%5CCOBB-CAM-130.jpg\",\n",
    "        \"https://www.cobbcommute.org/CameraProxy/Index?url=%5C%5Cdcz-webdot2prd%5Ccobbcommutefeed%5CCOBB-CAM-137.jpg\",\n",
    "        \"https://www.cobbcommute.org/CameraProxy/Index?url=%5C%5Cdcz-webdot2prd%5Ccobbcommutefeed%5CCOBB-CAM-133.jpg\",\n",
    "        \"https://www.cobbcommute.org/CameraProxy/Index?url=%5C%5Cdcz-webdot2prd%5Ccobbcommutefeed%5CCOBB-CAM-117.jpg\",\n",
    "        \"https://www.cobbcommute.org/CameraProxy/Index?url=%5C%5Cdcz-webdot2prd%5Ccobbcommutefeed%5CCOBB-CAM-127.jpg\",\n",
    "        \"https://www.cobbcommute.org/CameraProxy/Index?url=%5C%5Cdcz-webdot2prd%5Ccobbcommutefeed%5CCOBB-CAM-054.jpg\",\n",
    "        \"https://www.cobbcommute.org/CameraProxy/Index?url=%5C%5Cdcz-webdot2prd%5Ccobbcommutefeed%5CCOBB-CAM-055.jpg\",\n",
    "        \"https://www.cobbcommute.org/CameraProxy/Index?url=%5C%5Cdcz-webdot2prd%5Ccobbcommutefeed%5CCOBB-CAM-134.jpg\",\n",
    "        \"https://www.cobbcommute.org/CameraProxy/Index?url=%5C%5Cdcz-webdot2prd%5Ccobbcommutefeed%5CCOBB-CAM-050.jpg\",\n",
    "        \"https://www.cobbcommute.org/CameraProxy/Index?url=%5C%5Cdcz-webdot2prd%5Ccobbcommutefeed%5CCOBB-CAM-052.jpg\",\n",
    "        \"https://www.cobbcommute.org/CameraProxy/Index?url=%5C%5Cdcz-webdot2prd%5Ccobbcommutefeed%5CCOBB-CAM-118.jpg\",\n",
    "        \"https://www.cobbcommute.org/CameraProxy/Index?url=%5C%5Cdcz-webdot2prd%5Ccobbcommutefeed%5CCOBB-CAM-051.jpg\"]\n",
    "\n",
    "output_folder = r\"C:\\Users\\albe9057\\Documents\\GitHub\\TensorFlowModels_GIS\\object_detection\\test_images\\cobbcounty_images\""
   ]
  },
  {
   "cell_type": "code",
   "execution_count": 26,
   "metadata": {
    "collapsed": true
   },
   "outputs": [],
   "source": [
    "# 2. Define generic exporter function\n",
    "def download_camera_jpg_from_url(camera_jpg_url):\n",
    "    file_name = datetime.datetime.now().strftime(\"%m%d%y%H%M%S\") + \"_\"+camera_jpg_url.split(\"%5\")[-1] \n",
    "    camera_response = requests.get(camera_jpg_url)\n",
    "\n",
    "    streamed_response = requests.get(camera_jpg_url, stream=True)\n",
    "    with open(file_name, 'wb') as out_file:\n",
    "        shutil.copyfileobj(streamed_response.raw, out_file)"
   ]
  },
  {
   "cell_type": "code",
   "execution_count": 28,
   "metadata": {},
   "outputs": [],
   "source": [
    "# 3. Iterate on each URL input to perform export\n",
    "\n",
    "# Change directory to output folder\n",
    "os.chdir(output_folder)\n",
    "\n",
    "# Iterate and run exporter function\n",
    "for url in urls:\n",
    "    download_camera_jpg_from_url(url)"
   ]
  }
 ],
 "metadata": {
  "anaconda-cloud": {},
  "kernelspec": {
   "display_name": "Python 3",
   "language": "python",
   "name": "python3"
  },
  "language_info": {
   "codemirror_mode": {
    "name": "ipython",
    "version": 3
   },
   "file_extension": ".py",
   "mimetype": "text/x-python",
   "name": "python",
   "nbconvert_exporter": "python",
   "pygments_lexer": "ipython3",
   "version": "3.6.1"
  }
 },
 "nbformat": 4,
 "nbformat_minor": 2
}
