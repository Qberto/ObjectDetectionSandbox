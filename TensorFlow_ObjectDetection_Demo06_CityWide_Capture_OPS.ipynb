{
 "cells": [
  {
   "cell_type": "markdown",
   "metadata": {},
   "source": [
    "# Object Detection Demo: City Network of Capture Points\n",
    "Welcome to the object detection inference walkthrough!  This notebook will walk you step by step through the process of using a pre-trained model to detect objects in an image. Make sure to follow the [installation instructions](https://github.com/tensorflow/models/blob/master/object_detection/g3doc/installation.md) before you start."
   ]
  },
  {
   "cell_type": "markdown",
   "metadata": {},
   "source": [
    "# Imports"
   ]
  },
  {
   "cell_type": "code",
   "execution_count": 1,
   "metadata": {
    "collapsed": true,
    "scrolled": true
   },
   "outputs": [],
   "source": [
    "import numpy as np\n",
    "import os\n",
    "import six.moves.urllib as urllib\n",
    "import sys\n",
    "import tarfile\n",
    "import tensorflow as tf\n",
    "import zipfile\n",
    "import getpass\n",
    "import shutil\n",
    "\n",
    "from collections import defaultdict\n",
    "from io import StringIO\n",
    "from matplotlib import pyplot as plt\n",
    "from PIL import Image\n",
    "\n",
    "from PIL import ImageGrab\n",
    "import time\n",
    "import pandas as pd\n",
    "\n",
    "import cv2\n",
    "\n",
    "import requests\n",
    "from io import BytesIO\n",
    "\n",
    "from copy import deepcopy\n",
    "\n",
    "import scipy.misc\n",
    "\n",
    "from datetime import datetime\n",
    "\n",
    "import arcgis"
   ]
  },
  {
   "cell_type": "markdown",
   "metadata": {},
   "source": [
    "## Env setup"
   ]
  },
  {
   "cell_type": "code",
   "execution_count": 2,
   "metadata": {
    "collapsed": true
   },
   "outputs": [],
   "source": [
    "# This is needed to display the images.\n",
    "%matplotlib inline\n",
    "\n",
    "# This is needed since the notebook is stored in the object_detection folder.\n",
    "sys.path.append(\"..\")"
   ]
  },
  {
   "cell_type": "markdown",
   "metadata": {},
   "source": [
    "# Establish Connection to ArcGIS Online via ArcGIS API for Python"
   ]
  },
  {
   "cell_type": "markdown",
   "metadata": {},
   "source": [
    "#### Authenticate"
   ]
  },
  {
   "cell_type": "code",
   "execution_count": 3,
   "metadata": {
    "scrolled": true
   },
   "outputs": [
    {
     "name": "stdout",
     "output_type": "stream",
     "text": [
      "Attempting to log in to 'https://esrifederal.maps.arcgis.com'...\n",
      "Please sign in to your GIS and paste the code that is obtained below.\n",
      "If a web browser does not automatically open, please navigate to the URL below yourself instead.\n",
      "Opening web browser to navigate to: https://esrifederal.maps.arcgis.com/sharing/rest/oauth2/authorize?client_id=wt3QUR1M4eum0TVI&response_type=code&expiration=-1&redirect_uri=urn%3Aietf%3Awg%3Aoauth%3A2.0%3Aoob\n",
      "Enter code obtained on signing in using SAML: ········\n",
      "Successfully logged in as: albe9057@esri.com_esrifederal\n"
     ]
    }
   ],
   "source": [
    "portals_dict = {\n",
    "    \"esrifederal_gis\": r\"https://esrifederal.maps.arcgis.com\",\n",
    "    \"natgov_gis\": r\"http://esri-natgov105.eastus.cloudapp.azure.com/arcgis\",\n",
    "    \"dot_gis\": r\"http://dot.esri.com/portal\",\n",
    "    \"dev_gis\": r\"http://govdev.eastus.cloudapp.azure.com/arcgis\",\n",
    "    \"local_gis\": r\"https://anieto.esri.com/arcgis\",\n",
    "    \"brett_gis\": r\"https://agsbase.dcwebgis.net/portal\",\n",
    "    \"bill_gis\": r\"https://idt.esri.com/portal\"\n",
    "}\n",
    "\n",
    "gis_url = portals_dict[\"esrifederal_gis\"]\n",
    "\n",
    "if gis_url == portals_dict[\"esrifederal_gis\"]:\n",
    "    gis_app_id = r\"wt3QUR1M4eum0TVI\"\n",
    "    print(\"Attempting to log in to '{0}'...\".format(gis_url))\n",
    "    gis = arcgis.gis.GIS(gis_url, client_id=gis_app_id)\n",
    "    print(\"Successfully logged in as: \" + gis.properties.user.username)\n",
    "else:\n",
    "    gis_username = getpass.getpass(prompt=\"Username: \")\n",
    "    gis_pw = getpass.getpass(prompt=\"Password: \")\n",
    "    print(\"Attempting to log in to '{0}'...\".format(gis_url))\n",
    "    gis = arcgis.gis.GIS(gis_url, gis_username, gis_pw, verify_cert=False)\n",
    "    print(\"Successfully logged in as: \" + gis.properties.user.username)"
   ]
  },
  {
   "cell_type": "markdown",
   "metadata": {},
   "source": [
    "## Object detection imports\n",
    "Here are the imports from the object detection module."
   ]
  },
  {
   "cell_type": "code",
   "execution_count": 4,
   "metadata": {
    "collapsed": true
   },
   "outputs": [],
   "source": [
    "from utils import label_map_util\n",
    "\n",
    "from utils import visualization_utils as vis_util"
   ]
  },
  {
   "cell_type": "markdown",
   "metadata": {},
   "source": [
    "# Model preparation "
   ]
  },
  {
   "cell_type": "markdown",
   "metadata": {},
   "source": [
    "## Variables\n",
    "\n",
    "Any model exported using the `export_inference_graph.py` tool can be loaded here simply by changing `PATH_TO_CKPT` to point to a new .pb file.  \n",
    "\n",
    "By default we use an \"SSD with Mobilenet\" model here. See the [detection model zoo](https://github.com/tensorflow/models/blob/master/object_detection/g3doc/detection_model_zoo.md) for a list of other models that can be run out-of-the-box with varying speeds and accuracies."
   ]
  },
  {
   "cell_type": "markdown",
   "metadata": {},
   "source": [
    "### Model: SSD Mobilenet on COCO"
   ]
  },
  {
   "cell_type": "code",
   "execution_count": 5,
   "metadata": {
    "collapsed": true
   },
   "outputs": [],
   "source": [
    "# What model to download.\n",
    "MODEL_NAME = 'ssd_mobilenet_v1_coco_11_06_2017'\n",
    "MODEL_FILE = MODEL_NAME + '.tar.gz'\n",
    "DOWNLOAD_BASE = 'http://download.tensorflow.org/models/object_detection/'\n",
    "\n",
    "# Path to frozen detection graph. This is the actual model that is used for the object detection.\n",
    "PATH_TO_CKPT = MODEL_NAME + '/frozen_inference_graph.pb'\n",
    "\n",
    "# List of the strings that is used to add correct label for each box.\n",
    "PATH_TO_LABELS = os.path.join('data', 'mscoco_label_map.pbtxt')\n",
    "\n",
    "NUM_CLASSES = 90"
   ]
  },
  {
   "cell_type": "markdown",
   "metadata": {},
   "source": [
    "## Load a (frozen) Tensorflow model into memory."
   ]
  },
  {
   "cell_type": "code",
   "execution_count": 6,
   "metadata": {
    "collapsed": true
   },
   "outputs": [],
   "source": [
    "detection_graph = tf.Graph()\n",
    "with detection_graph.as_default():\n",
    "    od_graph_def = tf.GraphDef()\n",
    "    with tf.gfile.GFile(PATH_TO_CKPT, 'rb') as fid:\n",
    "        serialized_graph = fid.read()\n",
    "        od_graph_def.ParseFromString(serialized_graph)\n",
    "        tf.import_graph_def(od_graph_def, name='')"
   ]
  },
  {
   "cell_type": "markdown",
   "metadata": {},
   "source": [
    "## Loading label map\n",
    "Label maps map indices to category names, so that when our convolution network predicts `5`, we know that this corresponds to `airplane`.  Here we use internal utility functions, but anything that returns a dictionary mapping integers to appropriate string labels would be fine"
   ]
  },
  {
   "cell_type": "code",
   "execution_count": 7,
   "metadata": {
    "collapsed": true
   },
   "outputs": [],
   "source": [
    "label_map = label_map_util.load_labelmap(PATH_TO_LABELS)\n",
    "categories = label_map_util.convert_label_map_to_categories(label_map, max_num_classes=NUM_CLASSES, use_display_name=True)\n",
    "category_index = label_map_util.create_category_index(categories)"
   ]
  },
  {
   "cell_type": "markdown",
   "metadata": {},
   "source": [
    "## Helper code"
   ]
  },
  {
   "cell_type": "code",
   "execution_count": 8,
   "metadata": {
    "collapsed": true
   },
   "outputs": [],
   "source": [
    "def load_image_into_numpy_array(image):\n",
    "  (im_width, im_height) = image.size\n",
    "  return np.array(image.getdata()).reshape(\n",
    "      (im_height, im_width, 3)).astype(np.uint8)"
   ]
  },
  {
   "cell_type": "markdown",
   "metadata": {},
   "source": [
    "This is a helper function that takes the detection graph output tensor (np arrays), stacks the classes and scores, and determines if the class for a person (1) is available within a certain score and within a certain amount of objects"
   ]
  },
  {
   "cell_type": "code",
   "execution_count": 9,
   "metadata": {
    "collapsed": true
   },
   "outputs": [],
   "source": [
    "def object_counter(classes_arr, scores_arr, score_thresh=0.5):\n",
    "    # Process the numpy array of classes from the model\n",
    "    stacked_arr = np.stack((classes_arr, scores_arr), axis=-1)\n",
    "    # Convert to pandas dataframe for easier querying\n",
    "    detection_df = pd.DataFrame(stacked_arr)\n",
    "    # Retrieve total count of cars with score threshold above param value\n",
    "    detected_cars = detection_df[(detection_df[0] == 3.0) & (detection_df[1] > score_thresh)]\n",
    "    detected_people =  detection_df[(detection_df[0] == 1.0) & (detection_df[1] > score_thresh)]\n",
    "    detected_bicycles =  detection_df[(detection_df[0] == 2.0) & (detection_df[1] > score_thresh)]\n",
    "    detected_motorcycles =  detection_df[(detection_df[0] == 4.0) & (detection_df[1] > score_thresh)]\n",
    "    detected_buses =  detection_df[(detection_df[0] == 6.0) & (detection_df[1] > score_thresh)]\n",
    "    detected_trucks =  detection_df[(detection_df[0] == 8.0) & (detection_df[1] > score_thresh)]\n",
    "    \n",
    "    car_count = len(detected_cars)\n",
    "    people_count = len(detected_people)\n",
    "    bicycle_count = len(detected_bicycles)\n",
    "    motorcycle_count = len(detected_motorcycles)\n",
    "    bus_count = len(detected_buses)\n",
    "    truck_count = len(detected_trucks)\n",
    "\n",
    "    return car_count, people_count, bicycle_count, motorcycle_count, bus_count, truck_count\n",
    "\n",
    "def return_lat(row):\n",
    "    return row['location']['latitude']\n",
    "\n",
    "def return_lon(row):\n",
    "    return row['location']['longitude']"
   ]
  },
  {
   "cell_type": "markdown",
   "metadata": {},
   "source": [
    "# Network Camera Processing"
   ]
  },
  {
   "cell_type": "code",
   "execution_count": 10,
   "metadata": {},
   "outputs": [
    {
     "name": "stderr",
     "output_type": "stream",
     "text": [
      "C:\\ProgramData\\Anaconda3\\lib\\site-packages\\ipykernel_launcher.py:6: SettingWithCopyWarning: \n",
      "A value is trying to be set on a copy of a slice from a DataFrame.\n",
      "Try using .loc[row_indexer,col_indexer] = value instead\n",
      "\n",
      "See the caveats in the documentation: http://pandas.pydata.org/pandas-docs/stable/indexing.html#indexing-view-versus-copy\n",
      "  \n",
      "C:\\ProgramData\\Anaconda3\\lib\\site-packages\\ipykernel_launcher.py:7: SettingWithCopyWarning: \n",
      "A value is trying to be set on a copy of a slice from a DataFrame.\n",
      "Try using .loc[row_indexer,col_indexer] = value instead\n",
      "\n",
      "See the caveats in the documentation: http://pandas.pydata.org/pandas-docs/stable/indexing.html#indexing-view-versus-copy\n",
      "  import sys\n"
     ]
    }
   ],
   "source": [
    "# TrafficLand API source JSON\n",
    "source_json = r\"http://api.trafficland.com/v1.5/json/video_feeds?system=ddot&key=1594c8892d7fbd18181a8a6a44958b28\"\n",
    "df = pd.read_json(source_json)\n",
    "ddot_df = df.loc[df.provider == 'DDOT']\n",
    "# Edit the ddot_df to make a feature service using the API\n",
    "ddot_df['latitude'] = ddot_df.apply(lambda row: return_lat(row), axis=1)\n",
    "ddot_df['longitude'] = ddot_df.apply(lambda row: return_lon(row), axis=1)"
   ]
  },
  {
   "cell_type": "markdown",
   "metadata": {},
   "source": [
    "# Multiple Camera Iteration Prototyping"
   ]
  },
  {
   "cell_type": "code",
   "execution_count": 11,
   "metadata": {
    "collapsed": true
   },
   "outputs": [],
   "source": [
    "# Size, in inches, of the output images.\n",
    "IMAGE_SIZE = (12, 8)\n",
    "jpeg_size = \"halfJpeg\" # Other Options: halfJpeg; fullJpeg; hugeJpeg"
   ]
  },
  {
   "cell_type": "markdown",
   "metadata": {},
   "source": [
    "## P1: Use existing feature service and send model outputs as updates"
   ]
  },
  {
   "cell_type": "markdown",
   "metadata": {},
   "source": [
    "OPS Service"
   ]
  },
  {
   "cell_type": "code",
   "execution_count": 12,
   "metadata": {},
   "outputs": [
    {
     "data": {
      "text/html": [
       "<div class=\"item_container\" style=\"height: auto; overflow: hidden; border: 1px solid #cfcfcf; border-radius: 2px; background: #f6fafa; line-height: 1.21429em; padding: 10px;\">\n",
       "                    <div class=\"item_left\" style=\"width: 210px; float: left;\">\n",
       "                       <a href='https://esrifederal.maps.arcgis.com/home/item.html?id=cbe1f0e312994a21ae16ad8f841caf8d' target='_blank'>\n",
       "                        <img src='data:image/png;base64,iVBORw0KGgoAAAANSUhEUgAAAMgAAACFCAIAAACR/CB7AAAACXBIWXMAAA7EAAAOxAGVKw4bAAAgAElEQVR4nO29aYyl6XUedpb3/ZZ7b1X1MuwRF5mMHDuRQMB0iESGJVpBREWJBSGOvMoKFXkRHMmIZCT5kz+BgAQJAgSGY8DKYlmOIwR2hEjxDyKwIQMmKVIiY5FRoqEpUha34XCm16q6y7e871ny4/3urdszvQxnerqrxHpAFG/3dN++de9T5z3vOc95Dro7XALA3UVc1FKydSf9oN2gp6s8jJqSiToABMaqoqbmo4M4a7hteDELVUWBKQRExGf9TZwjhGf9As4LEJEZEKnwo4rUNtzWnMVEXdUBgBkDYww0a7mKVEWqaw6MRJesejUuiXUGIgQAdqgqIkJmZEYRV3MzL3+ACUPAKlIMFAIyIRGWv3iJfeA3+VFo5u5uBmbuAGZu5qpefqlS3h3HCWfcKpRivmTVg/FNHbF2HFLzXWRyBzMHcABEgBAQ4YxDRIgAREgElyfgI/DNS6zCKlET8SyWsj3w1GPAECgEDEyX8en14+IRq5zdJbRMB9X9p3mJIohQTq7d7+yjsErNU7KULWXren1Ynq7RKyOspye55NbrwUUilvt0TpWv5m4GJUPaBxEgIhEQIlGhV+EZ7p6nxKpvqLIAAFVFALT/VJd4GC4MsUqWXcKMO5RjS8Tcwfa4VfiECCFQOcsQgQmZcRfASoYu4ilbP+i6k9VG7h6nrpd+VBEHgBCwrXnWhvLnAaCKRISEbgbMl8R6DM41sXYHloipurubg6kjoaqnbFnMDHaJEWxzIyKIgapI0YgQYiQoqTgAEbqDmot6ytYNutrIyTLfPRlXa+kGTdkAoIo0a/hgoYVDRNg2HAIxO/slqx6Pc0osMxexlG0Yy1cRMUAER2ZnQgBQgyxu5rvECLa5UWFPSbOYkdSJkKZkDFVdxMek/aCnq3z3ON05Hr/2Sn+6TOtOxmQAUFe0mIWjw8odypPPGmZGJmTycE7ftnOEc/oOidiYrHzw6042naRshECEVUVVIEBw9yxQQpduIxYTVpGYsampbbipOQYqJNsm8u4A5tNROIy66WW1kdNlOl7m5TqnXA4+zOIAcHQQ24bnMy7XRvsmr/u9bpxHYpl5Fu8HXa7zzTvDvZO0XOchGYLHQItFnNVERA6Qs6rBMKpsI1ZgbGoOjLM2ZHFVryK5MyIEJiI0czOb0iz1lCYGrztZbfJqI1UkAFhtFBFiwH7QMVlJ6m0qdF1S6/E4j8RS9RKrbt0dv/ji+uVb453joes1BpzP4nNXq6tHVV1RYFQFcy8ZdwlLIaCqx0iIGALGgAAQI6k6opu5E5Y6hTmU0mjOlrKNycZkIdDf/+//CAD82Z/6ZPmdlC1nK2mcOexqHJd4NM4jscymtPpkmV65PXztlf7mnaHrJUY6XMQsnsWaOsSAJXkvGbe7I2JJuquKxsV0PjY1l8TLHQIj02XEeRo4l8RyFynZj947SXfujbeP09Ei3D1JKVkMzARNbcwwJjODdSf7xFrMQl1RqRowoYjHgOWAi0ohuLsjAm0bf7HoFCqqK1qu5Yd/+pMAIGKzRagrqiLFSFOzGacLwSUei/NIrHJOqXoWG5N1g145iL/0s3/0h37iE6fL3PV501PKhjhlV6u1jGkiVl3RmLSp2R2YsYrk7m3DbWOIqFoqXlOnr1RB64qKsiqLu0NJ3g/m4WAeF7PQNlxXVFUUdr3CS2a9DpxHYpVwwowxUF1RW9Mrd8cf+olP3DlO84aZCQDU3M2GpCLQj5pyiUNo7qVqNSYthS5RUp2azSX1RgDCSf3S1Dxvw8Fcjw4rAIgBX1VuOJiHeRuamqtIIWzlWpd4HM4jsQgxhPKR85XDeO1qncXXGzlahLblKhIhqsE4erfRUaxc5eqKxmTlNifCdcWLQcdkMRR6uaiXKx0hBMa6YlU/OogAUOryVw7iawqk4cb15sphLEWHuuIQnkwfuiR67mcP9r4+KgfcdUL3vuLuwZt/YU8K55JYhG3Dh4tw47nm3et5FfnoIC7XmRCJMAaMkfpezXxIlmS6ys1b3vRabnMIWFrLOVup2m/DFbgD8fYcjDRruFTtVb2t+bUtnSuH8WAeZg1XkQJPZf03A9/WK8qD+x7f/wdei12Gh3DW/UT07WOHc0Ov80iskhvN26Dqb39bGxjnM16upTT4zB0ccjZEKD/ebU3zlhFx3nJbU8m3toAirdr/qEqqFAJWRqW7XILQfMaPaEJPR+Gb0IvuRyn3vQfwmt95FLGK6nAi2Y5h541e55FYJSyVj/zGda0izWZhucqi3g/a95LF+1GJkIgQtR9t02uJWP1oTIBnANz+fO+AWHrST1XevmXMfQSyPb3G7pd7IW3/NU9fC4dokrNu1UH4AHo9W26dR2IBQIxUggpA3Ta8WPByEZPYcpVPl9wnGZJtem1qcvBSIyg5VikTNDUVNsRIIdCZ+HN7lDxlefs+qybZz/ax2f7jVwewHXBHHfDSniJCMi8CIaczehGVoPWMuXVOiVXq5kTos+lNZMJxNAQ0BQ7QD9b1MqYQApUawZgMEUuZoKlp3nKpFNQVxUChNKenQ2QSLACU/3dmDEw7aTIAPEF5+45Vk3rMJ0FYEVlM3NrKyyZ67eX1uzekRN+JUuQl4yRycmQHRAAGBISJbc+YW+eUWAVEGCO1EADQAUPQJN7VJMZVpLripmYAyJkJz+pYTU1NzXXFU7DhKSC9tgpViEIEZMg0DVPs/9c3L29/LavO5jUcdor73YPdWMerUvhtuJpez47r5TLhDDRFYgBCAjd7xtw618SCKXKUmha6U1PTrA2ImLKpOiKMyeqKd5X3GHDehBhxPuO2phgwBAoMgTGGQq/78i0iBEDmt+r1v5ZV+2TSSXfvpdJ2FsD8LHbuvQ9YNLEllDIjG5YfG3csurHpr9zPrWcSs847scq7WfJoAGgbzuIhYOkDhoAp2XwWUjYzcwcmjKHkZ2Tusv20VA2MeNIrP6V3+uxmuseqiVJbPpVpjt2Y0B69HkSsHaXKGa1oAYORMbiDM5z9gEz6MyyX0adPrvNOrCnXYYyREKGpWdWLZoEJ64pytlJ82moQiqYUVHwYNHAGt1mNdSQmrBMFJkQrifzDRi2eCHYJ+JlI3+4LUVmsDPXnPNFL9Ix55UA8ex8AdmdfubEGxcBkjmYQHAFo9+enKyShmRfN49M/EM87sWAvj3aeqpoA0NQs4u4ukZgxi40jjGn62veiBhxwtcmLWQQolQWsKiaSypkZHzZq8QRxxi2f8qrCKhET9ZytKDV2DwrPpgaUvzrhK22ucs8IAaNSDG5OFsC9nIMIQACAu/cNikboGaRZ551Y07yNeQhIVLSgGKOVrKttuChIh1HWnS5XeRhtucnHp7nrRM2bmq4c1lndzEQ8BgCv1B41avFEcF+9CsAMijZf91g19QZkGkErDJMt80qmtXvC8mMQpuutxUgSXCPZFBFLN4AADLdzRIiAXF7JMwha551YsD0CAMC2SvYYpqyrqa2ItzYbdINhUDPbbOT4NJ0uc8paV9yPFiNVAZmxbRmJxPwRoxZP6mXvH4X72fo+q4qQsChUd9zK4qI2XQ/3ah9EEJhKRyuKV9F1KlLs95iIyFF3fR5AejZB6wIQC7ZVHAJnRjNEnFSgiGAGiCAZmcHcs/i6k+UqLzfytuv17bujOxwdVEeLMJ9JP2hTKz5y1OKJvOD7w5XvuCXiIp7Fd5rVMen0YCxyjOlMfEhRzWKgmK2KpMbb1tX+u+SEjghkbtt66S5oPU1qXQxilUCyfZdpuv1FKg3mKoKq15UFTg5QJnDedr3+h//jd/2Jv/KJeyfjap2XmzBf8fEyA2DK/ohRiycatHZ1dtDdHVAti225pcNow6g7hpXQtcviJ7LjWc5eRaoqUvPtIVjekxLSjAiIgIgInQjJwczxWYxuXwxiwXYeEBHJ3B2Y3Nw1oIgRYVtbHSGGyQMtRn7l9vDv/ZWPv3xraCrKYptOT9fSHI9uPoz6iFGLJ5LI73WX76syTBErW5rClQ2jDuN99Nqp7Et1HmCKrOVnKQuJclEsbmkHpfFJCExI6ExO5KReVLJ7dfzLHOtB2HX1AcAM3JHJCRFAS5N41vKsxsNFXG0kJb11Z6gjNQ0zk5tnsWG0rtfyRA8btXgiL3XbGZxGMM7SLPNduNrjlvWD9oNuj0UtpH9txIrZpGJVV+Ut54pmelvfYmNGNedp+qNUHMrrucyxHokSTqZ03tzd2IiImia0DR8c1tevSRInok2fEaYb35httRZCFPF20EeOWpwFrNe6Z+1exmMbPts0q1RHt7WGKcey4m8zTuFK+0H7UYdRx1HHZDudxX7EKvcVVVdj2/7+pLYlDAGDYGAU9sCu5My+y66e/vzIxSPWPkrvdicNRQRGmNVh3vIwsJmpuamPydyny3wWa3p+xKhFKSrCw92z4AEtamC+70a5071seQnmUCKW6PY0zDYm7QfZdLrppE86DFoOxJRNDUzct1oGZgqMVXU2MYuly0kYuCT1GANJmOKi+VTjcPJtleupfjQXm1juYAaqrgbuVio1MWIVuXzkZp7VU5aRoA9l7tQePWpRPoDX6Z61E9WUyuR93ILX3ArV91J4T1nH5CW76nrtB+lGHccpzdLplXixfSO2GGg3LYsAhBAChmBVpCLtFzW9X+Bv5g5Yfuie8kdzsYkFAFMeY47b+YhZy21Ds4aGkQBhTGYA4u7iQ7ZqNHjkqAU8IfessxrpNoWfaqQ29XNS8jHJMGg3SDfIptM+6ThKylPFoQRhAiCGQGTVFHMQgXBKuSZFv9BZO2gnkdj+008/c4eLS6zy2feDDINuBllttDBAzQHQHUQhi41Jh2R1pLrmlH21kYeNWpSDCRFyViIqsWoYdMw2JPtG3bN2xaVtH9pt29gpfic5eVYbRhuS9v0UsfpR+1FTmho7sza0DZW8cEhq29IdEwbGLJSzSbXXvd4Fqq3qa1vm2oq4nyIuHrH2jWg2XV53uu7yplNV33TS9ZKSlbuYCIhCVfE/+JuPGrWQbOMoIqTqXW8ABgCqoOYp6ZhtGPV0JSW/fv3uWXvJ+32iUFUTgSQ6DtoP2nXFlSRveu17HcqrUrtxrf7e737+/e+92tb8O19e/eOPvPLKvQHL8ccU1UVMjfblEranci6E2n8NTxkXj1j7RjSnq7xc500n/ajuJUR5lumiXj7Lx45aiPqYHFGHQQEwi+r2KBG1LD4MerrKm17fsHvW2YddutFmui2+90m7QbvBul76YTp5Y6Q/9O1X3vPORVPRYsbvf++1GPAX/uGLKrZL1Kai65nGZvsdnT142h/NPi4YsfaNaG7dHe/cG45P82aQlCwwMtM4yjbtnepejx61AHc1T1lFfBhtTLrpRAxUjREdQcSHUe+epPUmb3p9M+5ZW6UDqLlsnd/GZONowyjDYMOoSVzEmPFgHjddPl0xAB4d4L/6+w+bilbZ3F41l3FfJreLUs8cF4xYrzKi+frN/vbdcd0LOMxn4WARGMu8MkSm1zNqQUgi3vW67vTO8XC6lHun45gMAZomNDURYhY/OR3Xva47efPuWeUaK2I5T/fBTa/rTje9DONUGnX3l252JdtW9SJMUHv2cej144IR61VGNC/d7G/eHja9MNHRYQBoZg2HGKqKZ41mffyoRYwIAFl808ntu+nO8Xj77tiPyoSLRTiYxzqSOqw6WW9k3eubcc/atQ3KNzLVtErrMFnOXljrAP1oX3yxqys+XMSmZiL46te7fjAAR9p1IPa/bgcM7/9XniEuGrH2jGiOT9Ode+Ptk8mIxtxmTWDCqjKcrB9QBKqAu0gSGZmAabommbqgmFISW67zvZPx9t3x9vF45TDePU4pKzhIwwAwjDpkfcPuWWfDW+X0BXDHbYkLzFzUxKyq6J3Pt+7+lZe63/nyCtGLx8lylX7zc6ddn9uGAZwZmLe6PzobEtmjGj5zel0wYvn9RjT9oEeLyYim70XNiSAy1hWVidQ6cgw0ZnM3BAyBZg1XgdqGYyQicEcxy8lS0n7UTZ+PDuIv/ex3/dBPfGK5ylksKm258I1Vgs6GladAgtsODFLpCCHg9jsyBwR4x432//r5DwDA9//Yx373K6vP/YvViy8PTSQKQAB1zUwYiuydJq3iTqxcqLabnSwU3n8NTxkXjFg4+VpBEZC0Dd+8O/7Jn/y142W+ehCahtuG25brikJAZhwrjRHHZKoGjkxQReJATOBqOSkiqGg32jiKqRHinePx3/+PPnH73rBoGQEYARECQwzYDfo63bNKZAI4uygQTnMcSEiMVILNFEHL38X7iYulUKeCdU1tuRyE0sDBwBQYYqTyyzNuTa9kesJtjNy9pKeHC0asUnGuK541fOUwrru6pPPXj+KVw3g4D4uW5m1oKpRAIWg1IhFUAVXYYKptIrobJLFuUAQU9SwuCiHgrOWUbblKs4YX89A2XEXkwCqOgACSs7tD21BTcVMRESA4IJia6X0JVpHd7fKe3TxgGZ2NDCFQFShWHCOVsHrzdv8Df/FXHeClV3oAJyImYkZCIiICCLQt+keKOzXptJFlG73O+uKwF7QuWzqPRBnUOZjz267Xv6+bNTVdO4qbXgixbfjqUZw1XLMDoBqomIqburmr2dRYNAR3Nc3mKSkBOKKZE+CsjURYBoGYcb71AgEEBC6ZTTGnrCuet9w0XIZ/yjHp6KagMvUTp+MPfDu7PAWVEKiwoY5U19RUWMa1s/BmkK98vTMr1X8kAMTJgQZL/CNCxqnxHGlSKgfcjnoT3z+dWyQYb3DW9s3hIhHL3Se/kDoczu3G9SYGnDc8jKpmgWg2C0zI03CYAQCiMzGjO6MqAJgpuLmDqlhiLKwgJHVjwrbmKhASBKKmonYWIoO7NxWlmfXjtLKgVN7nM64rYgYwSDmnkVJQZggJt42UadqdaBK3MGEgiIGahtqGZw3PGp63vJlFNTenMZn4NN9WHAEQpiOSEMkhlC5hoCpQXVEVcc+lAsMuaGHRPsDuMHzK5LowxPKdMIawijhr+cpBIPK2pnUnIu5uxOTmpi6qY4ZxNBHLoilDFhM1Vchi5tvPCoEndRcQopozc2ALTFXFTY11ACYAJCgSQIQopGqASARmmLOOibpBlisKnEtqRUxgTjRN9hVpwTS4HLCqqBFOOSxmfnRYiXqpbAWCEKgfLSXN4m7u6FtTHERAIEAG4ilQVVWxTuW6nswEpjMx7HL5s+vhZfL+UOy0TWUKqqnpcBEJvI5YBerHPAyQFcekkm1I2nXaZc+99GJ51CwmhimXCqS6k7kRUjmqStbCBHW0piUiIFImLvxjJgoZDZhI0dQBzHpFMQGEojNWdUfP4mYVkTADE4UAAAhuJd8qsaQKVEdra86tHYyhzFCMyWy7Jqic1KpuCo5qhuCYCDig6dRLLsWUQqZikVpFimX3HZ3VILb3xP0k/inhYhBrvxFm04ANhaAcKKiHYDAygIloUhsH6wbrBh9SzsmGNImAzX1MllLRlmS3ohXFImyKEWPgXJGjgSMQxuAIHoHdnJyIjCOwISRQA5s+exdhNVczBJQ0bSwvNvQxYgjs6kDo5kQQAlY1ibE6qFrKIWUT8+I9IaWR7JCzGaO7EREAqIMalO98NxceI1U11fXkqFNVFCPFuI1YW3uc3V3z8lb4auzaYUUqsx3Kk5R8zNoNutzoepNXm9z3turSMFhfpJjZc9IxWTbNGUQ9jZZku9pJp4y7GN3WkULQttEx87z1OqGKNzUzKgd2szH7mKwfZdVJGk0NACEwtTXN23Aw5663q4fxdC39KG0dmoqamuoGEDwGnFgMEAPXVfmmojuYGaCDOiOqTYK8nEQNueLrV2tCuHeayltBBMxU/CnqyUIct746OM2SbBd27uyysKyHyfepq3c2EG+Rk8UFIBbsbSosDZBh2jCYTk/zupPjZT5Z5uU6d72tuzxNJWRNaWrJFTWwKSTRJJ7FXGErpHNAYsYqYAzUDzyMYRysaShnbSJWxBxFVPveN4NtBl2uZRhFzNwwENYVzmZ8dFCve12uqysHUbSat2HehNkszLOHgHUdmJwZEIgI6orc2R3cQxZThZxdzPtpUMc4UBA4Oop//298Zwz05376k6fLjEiFVdUUoriOXFfbiFWOwnBW1iqnoZtnc1FL2cvQYtFex0D7PdMnHs/OO7HOuvfuDpCz52zdIJuNrDs9Xctqk49P0/GJLLu02eiq13HUXGZdJqcNKNN8VuwS1CSbOqiCKzopADJiqDAGrAcax5Bmoe4wpVi3UDGjQRbvRl132g26Wuchu4ojIrMz42zN640MSZfLvDyMQ7KDGR8s4uFBOJiHpg6HM69qDowxThlScfYCAMlRzUVA1btOxjGkMo+qwERNxVu/HSr62LqiOlJTc1Pz1glsz75wV4jfplmSNYuPyZbr3I82jFqKKU3Nh4swb4M7bM0TnyTOO7Fgj1t5O9bSdbrcpJPTfO8k31uOd0/S8Wk+XaWu101v46hJVLKLTkUsM1BRRxizm7qamYKaMRE4AkA2ZaXMIMFVQLK3Lbh6NSAGYSBR6wZdd9b1su40qxPCtaMqRjpZppQsizlQ39u6l37Ug3m1WKSjebhyVM3bMB5Vi1mYtQEAQwQGxIANMCKqmiqruELcdJLUk9imZXfouvzn/9qnAGHd5brmIlWdtVN3YdZQW1NTUV1xqZQGxuKLua2RgpuLwjDqupPb99LJMq07EfXAuJiFG881RfMTIxE9yUldOP/Euj9cqaoOyTZ9Xnd2usrHy4lexyfjyTr3Wy1eFlUBNQcvqwa2fi/mZqri5lDX4fnn6rbmzWC37gzDKESYg4uYmOeMOvMowMBgkN373te9dqMOg5jj4SL86R/4fW+/Uf+Nn/+d49Ok6kCUko4jq3nX26YLw6GmDAcLK3rAEKkyYyOMQIgYERHVghkaoAP0R1ry9GFUYtn02o0GAE0d5i0v5mExD/NZmM/CvOGm4aYOdU3FzjkGKkX5swIpoqgNoy7Xcvve+KWvbW7eGe+djGOyuqJrV+pu0HSjdYe6mrpST/CDO+/EKnAHEcvZh+zDYOvOlut8spJ7p8Pxidw9SccnebnOQ9Jh1JT2pz23ib8bAGo2dzAFZLh6VP3kj/yBlHW50Z//xS/ePlYRN1NTMs05YlYOa2A2R1eBLtmQbMyWk5vbkOilmx0zpmxDVlV0yENNm177ZE2jixmv+6of7OoYmdEBOFBdMTNEACZkREIXIa1BzVT9YBFFXNXH0QIX968SUXDW8MGiunIQjxbxYBHnszBvuam5jlT2M+4otad3AADIYv2op6tcVEa3747DqE3N3aClQruYh7ztFjxBnHdiTWm7T5Mtm42crNLxyXDnOB0fp+NTubdMp6dp1eVNL2OyMRefFjMDUQNHAHMHN5/mTxXNnRQJ4asvb05WebmSMZupmwOIuwEYqqGbcwRmAoFskMSTmGSfzcL7vuPK//u5k1/+Ry81Na02ImrGBChZeSAdksWQlw2vN7Lpqs2gTIQAMdBixoERKirqdSJolB0AMIJDFg+MVcUx4nod+mRnEvuKFotw/UpzdBAOF/FwHuazWFqWMd6XV+2uhETo4Ko+JtupjG7dGw/m4da9ERFuXG82vQ6jir7K5u0J4PwTC9xd1fpeVut87yTdOxlvHY937413TtPxaV6uZN1Lt5FhkDG7Ax4dxLrGnPz2vXEcdOs+bADgk/e1G+ByI1/86uZ0nU+Wsum0lA/UCNySozq6IwoSqxuauRhkcVF/33dc+ZX/9Xu+70c/+rFP3V5twAEYQdFSJlXNjKJe10Hd1DIAMMHyIM5aPjrQLNO4TgmlZSS1iLOYsYmoLbu5Wz2racymigAQAjQVt024ehQP5mExC/NZaGtuyzlY6gvFOedMZ1EiFjrcpzI6mIf/42/90T/1V3+t3J3ztGz7yQtTzzuxAMAdUrJ+0NVG7hyPt+6Nr9we797Lx8t07yRvell30g3aj6YGiwX/6T/+rbOGCOB//t+/eHNQVYBS8zybeDdAP16Ov/Lxm+7QtPxH/vD133jh3mqVAFCxHJ3iTuSAjEaIAuLFMMI/89njD37oo5/57LHZVGNVAAd0NwEkhmpRvfNbWkK4czwu1zkwLdf56KAaR8u5LE4nM2dydVcDMwQ0IqwiGThCIEbJnGUq4m63lJV7HM+aMJ+FpqYYuKqmWFW0jbgVzJQuYdFTnK27avjm3fFP/dVfW23k+et1XXHJzN6Kns95J1YpX43Jul5OlvnWvfGV28PLt4Z7p3m1zsu1DKP2vY7JRF0NwOH4dFyusK0JEdzc3cBwu/oEi7E3gEmyTVYH/9ffd/1XfuF7vvc/+OhHfv0VQAAwdzQDASdg9NJaLJtWyAGWq/zRT94CKNoDRDdAdHMtGhWid33LrOj1fuAvffz4dOxHHUbrR81mIqoaVFyCA1rKmhNkNVV3cA7YYqiity15sfFwYMIQKQSIgWZtqCNVEds2bJ3GaSeS2a6rOJMsM9Fu3dXVo6ob1B2GUW9cq5+7Vh8dxJKoBS4yiCeJ804sABD1Tacnq3zzzvjiy/1LN/uvvdwtV7kfrcxHDMmyWs7mjl0vX7/ZNxWFQJtOzNwdAQG9CFAKwcyRAMDAAfzTLxz/Wz/yTz/z2RNwLJ09Q0ACVzBUdEd0c3AicAUkAHSwUs8GACNAc4BSwzfaOrjBVkidxZN4zprztAuo7As2g663nC2J5WwqbtPL86YOBICEkYkIOExXvypiFTkGjIFDwBBop0q9T/++/SXtrbvqBp3Pwo3rzZi0rvjKYfzWt89uPNccLkJd0ROvv18AYqlayrYZ9HSV7h6nO8fj8WlebfJ2Uxyoujs6IDNm8V//f47BTc03nVhRRIA7YpFIgRsQwkQFdMLlcvzoJ2/BVvEAxSVWoWQ/BATuRWzlgEDqTkAOZoBUWM1WiqcAABalSURBVObgQOWWgDnbl766/rf/w48Rwsu3+sDTyQrFJwlcxbpBgpCanixzcQEppqMIwFNkKq4QOGs4RoyhFD8pTsqFSR+7pz++j1Kw58mzW3eVbrSzhq9fua+OdfUwztsQI5WCyBPEeSeWu5t7ztoPpS2YlyvJ6n/g2w5/+3dXqc+AZXGIzWf0nnfNDxfVapW/8JX1eiNmVt6tItUrmhYDdlckB8etu/7EDYRJTgxoDggKSOjgsF1RjuDuiFYOVWLwWBOVBMsgGbgAkC/X6Z9/4TQGihEP5rE86+QTni1lN7csPmY7Ps1dL/2oORsAEGFTU11xCBQjMlNdUV0XoSntdHylRrXThT6QUgW0t+7KHRbz8NrKe9tMy6ee7Ad33okFW8vhnXVnyvrud84+/HMf+Hf/wsf+2f93D6dPG9/19sWH//Z3P3etvnM8ft+Pfuy3f3fphoBACFeP6j/07UcvfGG5WmcRFyV3QFJCKpKBkn9t2WXgBOBI5OjuCORgioSGCGahYjBEVKTgDs89V5sBAr5yN2XScuXLWcA5RkaYnBrRERDVoVgpqUE36L3TcbXO3WBlwDoGmjW8mFuxsSSiuqa2mcT1IRQT3olMe18fQKkdduuuqoq2A0VQkvq6msJheeYniwtArPITOdkGBawif/mlzR//S7/6+S+tuRhZISDB4YzmM0bEWcMH80CIho4IZVz9H/+9P/b9P/axT37mTqxQesfiZQqOiCESgJtBVgMvpS+fmAAlHgEQuzkQzmfx7W9rQsBVJ8enSQTWG/UpOXMvliQA7oBMzBQCVRGrCkNARjRzFetGHQY/WeeXbvbL1VSBg70Ba2ZCxBjpSKMDEBEzVdUbWcyC23VXgUlrv1Q3nKFs8q0rmjV8MI+HB7Lp8u98cekKVUVmYG7usO6tH6xtvBt0tRFzB0BCqCJ99l+cfv+PfeyFL5wW41ecjIQNCWOk559r1DyL3743qMLhYXz/e69++oXj5SpPFlUAgIAEHPAdN9qf+alvv308fvnFzf/yf351TLkb0AHAXdSQGKcqFbqaOzOViRoMDMhg5kl8GHU9yHItJ6fpdJ2Xaylz1W9mwPox7yEhEcY3/Vm8flwEYhE2NR8swvVr9dufbwHBHZrTNCTvR81ZESEl/frN7gf/8scXi7Bc5he/3rkBghFxVXFO9pnfuucOVFLUqSCPYNi24bmrNYCfbuTkFFXsfd9+5cM/94Ef+Iu/+pFP3SqjOeAAhOCOQKHG47W+cjfdOs5mboD9qAAI7kTUtFSH0HUyJfTuSF4Gv6B0KYWzaN9b39umk9UmL9d5tdG6euMD1rBn6PXUAtJjcQGIxYx1RfOGjxbh+au1m+dkgXG9kcDQD6WGzUPSL3x5be4qnrICOtKUY9UNq7uIS9YsVto84MiB3v2O2f/wX/5rt4/Hz39x9V//7OdSts989uT7fvRjv/X5kzNtHpRiFpr5aiVfeWl988749Vv9mKcPMga8dqVedfKed8zf/c7Zp184Pl1lJOeIkcu8A3JgRnJkNVC3MvU/JBuTveEBa7jf1KlYyT0dudVjcQGIVTTpTROOFtX16+roxSGtikRECMmsWANhEjcxtXIFLEPs3g8ay1Y69dF8SOZivk2B57MQGFOy8oSAuN7kX/uN24C+27eTBRzA1S34nePh7/3Slw2w7zVlBYDDg+o733fNHV74/GmxaN85ftI0O42FHGqWRgWglIuC+dUrvt4A9k2dukGfmtzqsbgAxEKEuqa5UsrhhlQxgIhyoNkyMw1MjuiIhKCYFAlQXMHNsBwgKdmpZkdQM82upo6EaADgQCfLdLrOxQwiyy6lKhaN0z+PoGBlUQ2MSe9kA0AvZVGA97/36j/6u3/s3/kLH7t7Mp6u0p3jcRgUAAiJGDlSQGCcShoOZk5ugDRtwIsB173+uZ/6JCLkbLODRw1YvwqvMnV6mnKrx+K8E6sUn5ipimHW+lFyAOg6UUNCEDGbPmDxaTJTEBzRRQBoMpYdi6LLvDQAqwCzWUTklO2rL3U//p//BgCUW56bAzgQATghMZXyOiIW9wYHQ0AD5Mm1DeHTLxx/8EMf/fQLxzmbKubsCB4rjBEiURWQI3HZFQGIwEUPXRTGbc3FFVwU3OFgzgfzuJiF4oRTVRQetBh2h1eZOj1NudVjcd6JBdsFYKWI3M4CIGyORN0JYTLbLKcPAqMQMqJSZnQXVTdw9K04Cw0JEQ4Oq+9+/3ObTtad/ebnjr/04qZsMbKde7o7MS7mXEVmwrt3uwRepgvdASAAOrghkgMuV/mf/vot2LKvtPwYiYkoACCa+yg2JO03zpyjclYoSfpsFpAgMoo6IjY1Hczj0WF1MA/zNjQ1l07Ow1Kk15o6PTW51WNxEYhVuIVlqZqFSG0d2lqG1uZ96Gc2JlMz0aKHAQcEL/cysmBuCA7mWs45AmKiMdmQVMVoMjRzgPsLDTD5hSIhEMC0YQtjICA3QwVC9600ZVo6QIjExaABYqBIxCXdUwcnBQMIiFBHogZDICIQiSm7OyBBHelgHg4P4o3rzZXDWIoOdcWlEPXad+a1pk5PTW71WJx3YpUf1eKgz2RVhWbUNrxoK1HIebIKJgAEZCbCRIgEjiOglwkvEHJwAnNwMIB+kHunOWfNimolRAEAvP+9V//JL/ybH/zQR0oEcixiGDQkBwPAxTy840aDiMtVvnPciyA4EAMAmnvxTA4IkSAyVpE4QAhA7o7uXrYZmBIiQgyECO4Vgmc1QiSiqsJFGxbzeOUwHszDrOFqOx9BD6qNv9bU6anJrR6L804s2FXeGUOgStxraGqez1QsSDZRN0cioIAchMAJlcgRkRgcy0FI7G4OiuDuXa+/9duniGA+TYoCAjh8+oWTD37oo59+4YQIZ02IhOZ+ssrFAikE+NZ3zn7mp77j9t305RdXf+cXv3S6zk3Nb7veqPnd45SzIhoCAwGRF4VdStoH2qxyXREixUC1emCqKgqB2gaqSG4eIxFRXeGsDfNZ2Ll8T0fhQzKkYur0TORWj8V5J9auvVraW8QU3OsKx8hN7bMmjGUPgAQRN3XVaO4GwUwBzARKfuHZnYqqCmez+P73Xv3MC/eWK5kMXRCAoO/kV//vWwAwa/kD/8ZzizYg4a98/JWTUQCBKCzaUEVG9KoOseIY9T3vWvzNn/nDXaf/6X/zmy9+fYNAW4uiwLjtcKsJkiokU7VogERYBYqRoAmzGTFRXVQxFbc1tU2YtVxKUHU9dYgfmGWVnsQzkVs9FuefWAhQWnsQAlUOAN7UlDMbuOmUVKE5loEnAEQnIgRkMkdysHIjdAFzBPD3v/fqP/mF7/neH/nIRz51C8CQSqfYOZQVtzhvw9vf1jIBoTeRisjB3NedDMkQSQ1UAQBDRe98vknZ64qZCQwoIDI6uE4JkCFB6GRTIRJ1rZRGkwEAQIzYxBAizlouBjKzlpuGd5tUdpMRD3xznqHc6rE478SC3Y4rQjMPjBaoqnjWFsUeGph7AHck3O4OB3REMOYKQVAjuJTqgLmawWc+e/zBD33kM//8BAEmyTIiAtQVmhXFjF+/EpkwZZuKVg6m+rVX+v/ir78QAq02sulF1V/8Wveh/+SfOcArtwd3CJObHiLg4aKa1ZxFTWHMOubAgwwDM1FgNAWqoQpUN1QFmrchBqoiNjW3TdhR6tE9mWcot3oszjuxzsRG7mUXZghUV2xW1OLmFgAIHAkmF0lCYy42BzLtqccyl2oOpGqbdf7op26Db6XFikjujn2vAGAAbv4PPvxiHbDPtloncCIyAOx7efHl4pKNZs5M3Zg//7srIjCAGCighwDM8Ny16id/5F967krzd3/5y7fvDUmoH9QBm03pKEE/5ipUTfSSHpX2SwxUKliP2Fa3j2cot3oszjuxYM9zsRCLp8VdrAqAERCBFNyRq8nCB5EYkTFGCmESNABDIMNBsuDeKkAEQ4/mBmCuRWKKNg768k0vG3HMgdEBqRhUQSm6gxNTqfgDOiDWjADAgSPjwSL8+T/xnt//noPDefjP/vK/8l/9rc8tN9IHFYVAKOoOcGWIbW0KwAR1zW0TCrGa+huTxzwrudVjcd6JNeVYZ0EL3CEGMvOimSnRyyyU4cFJC1p8jkiIoeRezEAoSJCyjsnKqhxTAgIzcgRnAJqmw4DIzZ0AAZiAgBAdiYmAGAkdiRCckYravNg0unvZWtg0fPUwLmZcV3HVDUWT0/eakiNCFnOH1WFsap61pgpvpnr5rORWj8V5J1bBWdACdJpKD2ZglTvwtk4zKY2JgBGL8V8MXHGuAzU1xMB1l8fExfFRy9IsM5NS4XIzdHZwAizVLSi2skxAAEQUIxAToTMTAjJPx3QRIYp6mREdR/3FD7/4be/6g5vO/ru//YV7p1msbFSUIWlbcxI/mMe64nnDIm9ebfUM5FaPxQUg1i5olfydCAEoTmtkCLwoiUPxQiaOxQadA1aRY8xVBbMWZg3PGln33I8yDDoml6RJQExF3NXF3RSt9ICAkADcAxMHDuRIVAXgSFXRdgYAAgZEQjeggESYsyGCigPCyTr/t//TFwz8+EQAXcQFNGcbR0vZkXC1ka6TJFVx8XtWho5vHS4AseBM1u1UBmzKEKazGwA4YpmCCoBInTJCCMgkVaRYQxWwr7mOVjdj03HKoRt07C3pdrNcdnVTc8lTZQKmxGnrncdEhDFiFSlGYJyczZgREEuyjAhdbwAuqmYI4N0oosABXdksl3j2be9efPXrfdfLMGoSy+qT3nT3HTqo2hvbQn2ucDGIBVNvZ+tDDA5MZdwKgBHNC/emlmJx2ae6krrHpuJh1L61+ch9J2OWfvCyb3LMMo6Wkoi5Kkp2MzcwAGdCJA4By7InAqxqqOrQRGaCEAAdkAkIVKbWdT+Yu+Wk5ujuWUwUssAw6jiSmf7L71l8+Oc+8IM//vGbt/syAMIIZei0+BzDtJIJ3sAW6vOGC0SsacaByM123AIAJWJEJSpydoxBQsA4elVh21LTh5R1bKQbaZxzylU/ytDrKC45DqOMqTKHrKZFXW5eZogRsQpUVVDFwAGaiqqK6oCIxbUWDBAAcnYDcLVVVDMfxuBuNknwPIkDwjCqA3zla90P/vjHX7rZL1ou3qGlwsSltOslPrkavrEt1OcKF4ZYcD+33KczESITGQAjGLMTQU7IJFWAKqPUoak1JU4tz0cdRxD3NMowioye1AaxnNzMdHLpdHAgIkRnxBCxClzXxIQh8KzFSO4IMQRVRAQzGwXMzBwWm2yO46iq4OgpeZ8sZdtshBDGZH2vt+4MB7Nw7Up17ag6WoSDeWzrUFdT+dIBcjY1eGNbqM8VLhKxYI9bJd9CRESbNFjEJMrEMSAn1OhRMGera5I8baIfk6tqyiGPOhrkZClLGtWQRE2zlW40MAYAChgDVVWY1YygTc1VRYEJvDgfGzia4ZA0i4ta23DO3g1lQSukpHW2LNY2oaqorL1kwrbhK4fxnd/S3niuuXIY2oaZsDh4qfiYbUzWDfqNbqF+1p/Mq3HBiAVnl0QszjGIpVDJhBZCELGyt0jEY8YcQM207G0TyEnVwuTIrZayidZZFRwku5aZekRiICQirwJXEauKED0GioFDIHNnxpzcANQgDijiIg4OWjsHKkUyqSlnV7UsNqupbG6uamoiHSzi8881146qg3lsmrI5w80hi5WB79VG7h6nMiT9+rdQnytcPGLB2cjvVLja/o/dnRCUIATSYDGgVK6Kqm5GYm7OIiq5GJOWxTiuau5oxe2oVMIQYwBiDuzMGKfRU2ACDmzmiJCyOZCItQOKgoi3LYv4sDViKCo8UxC1Mo9q7lXkuqZ5yzeu1YeLWGyuAhMgWDZR70ddbeRkme+ejKu1vOEt1M8cF5JYBeWGXq5X5UwEQCIOwVXdAwlrGZ8qF3hVcDdVKu7quNWOThcxtd0Sh8m4bFoLiDGG7V4aIgRRAyiuaKbGSJTFRBwQRZxZVWm7UN4BwM3NpzJBXXFVUR3pykHVNNjUoa648C/lyS+0GJ987ZX+dJnW3X1D0ocHUcSHQYdRESBlnbdx1vBs9swq7A/DBSZWwc7LgKj0Yt0dYiwPeGu0NvlN+vR5b52YAXZ/BbbaL4DdNrZSx59i2M7OlJhK30e5xEJgxkzuDhKcp9+cqunF4wYQQiBCaOrJ4XjRhlhN9qFq6GaqnsWHUTe9rDZyukzHy7xc57LPNwYYR81ZY6AsNmZ198M+XjlwPQiA8KzmBx+GC0+sV2E/jPnkEok0zdRjiVVQjIqm4b8zOyt4kOUGEW2PWvLCVis2NeYOaoVJJOp1RaX+ZP7q+lNZflEmc4oLbbWd7gqBVE3LhLZD2c7SD7ruZLXJq42ULdTLtZToW1dJzVMyM+gHTdkcamZ6VvODD8PvNWIV7PHjtW/0G7HWKCixrWyZ90AliQ5MhE7kCKDmTJPB6H4URCjNANxNC/KeC22Ja77dQF52uox7Q9Jm/mf+40/2vRLiSZXHpJuWh6TLdex7RcQYCJ7R/ODD8HuTWG8RdoZBU6ijspnCS6peRdpOxJ/NL+z0ZMXGOBSbUILt2jeYLK/0US0a1WlmpB/t+DSdEiJ6e3sot0sxJ8RnNT/4MFwS6xtGCYSlVl78J4nADAhxewienbO7U7UciLvRBp4uCtPUJE67rqeoNq02qWi5lh/+6U+aehatIoF7P6qoSzZmXKxFzQ8X8ephelbzgw/DJbG+YZRC2i5vA4CS3xRKPdCO4ewSMO3Svc+Clmg6wrbuyNQ2vJiFLO4OKTuQzxoOTO4wliUJ4m+/0Rwvc1XRcp2f4fzgw3BJrDeC7ZmIPgmmi0PW7rrw0L+yDWC4Xy7Had4Gq1hGbsLBXI8OKwCIAcdkomYGYJ7NU1bJduO55n/769/5w3/t1zdd7gYZRs3Znsn84MNwSaw3hR3D3syTlNtcXbGqHx1EgOLYDlcOYimQilhKlrJ2vZi6iN+8M/7QT35itZbnrtWmIGIiJlnPzwd6Xl7HNzOKRD0wlvJ6yZNUva25tHQk25B16HUZKWdXcwfvOpk13NZMjCWjK06X5wSXxHr2KEX5ELAyKt3lcrObz7g0oYuV3LrLbctISIx15CQaAs3bUAXkwAhQ7qRbke0zxiWxnj0Qi3x+qptXkdqG25p3shkzH0Y9OUkxjCnZcp2JQUcXUUY4XcflKq2Pqm5QEVO9JNYltihUYIeqoiJ6ZsZ9oV/fZ1UfsjV1JsSyBkbEHWC1zptOh1FSNrU3NfPzBHFJrPOCbZgpU0AYmPalyTHAmHzTS9syIqh6Er96FE+XedPJmC1LWU52XioOz2CU8RIPQ4lVZV1qqWaVXb2zlps6zGahqbiKhIRqfu2o+uWf/a4rR1XKpuplpeP5qThcRqzzBSIEQH5NPxMRul5nszCfxcUsHMxjcSxab+T563VTP0vHogfiklgXA+fZseiBuCTWxcB5dix6IC6JdTFwnh2LHohLYl0MnGfHogcC37wjxSWeDoo8v/jYnivHogfiklgXDOdwH9MDcUmsS7wlOC+R8xK/x3BJrEu8Jbgk1iXeElwS6xJvCS6JdYm3BJfEusRbgktiXeItwSWxLvGW4JJYl3hLcEmsS7wluCTWJd4SXBLrEm8JLol1ibcEl0K/J4OLomZ5argk1puFmYtYyjaMlrIVJ2YinJYPRjpv7qBPB5fEerMQmVxDT1e5G/S1iuHz5g76dPD/A4i7MetJG3/5AAAAAElFTkSuQmCC' width='200' height='133' class=\"itemThumbnail\">\n",
       "                       </a>\n",
       "                    </div>\n",
       "\n",
       "                    <div class=\"item_right\"     style=\"float: none; width: auto; overflow: hidden;\">\n",
       "                        <a href='https://esrifederal.maps.arcgis.com/home/item.html?id=cbe1f0e312994a21ae16ad8f841caf8d' target='_blank'><b>DDOT Traffic Cameras (Firefly)</b>\n",
       "                        </a>\n",
       "                        <br/><img src='https://esrifederal.maps.arcgis.com/home/js/jsapi/esri/css/images/item_type_icons/featureshosted16.png' style=\"vertical-align:middle;\">Feature Layer Collection by albe9057@esri.com_esrifederal\n",
       "                        <br/>Last Modified: March 02, 2018\n",
       "                        <br/>0 comments, 0 views\n",
       "                    </div>\n",
       "                </div>\n",
       "                "
      ],
      "text/plain": [
       "<Item title:\"DDOT Traffic Cameras (Firefly)\" type:Feature Layer Collection owner:albe9057@esri.com_esrifederal>"
      ]
     },
     "execution_count": 12,
     "metadata": {},
     "output_type": "execute_result"
    }
   ],
   "source": [
    "object_point_srvc = gis.content.search(\"DDOT Traffic Cameras\", item_type=\"feature service\")[1]\n",
    "object_point_srvc"
   ]
  },
  {
   "cell_type": "markdown",
   "metadata": {},
   "source": [
    "DEV Service"
   ]
  },
  {
   "cell_type": "code",
   "execution_count": 13,
   "metadata": {},
   "outputs": [
    {
     "data": {
      "text/html": [
       "<div class=\"item_container\" style=\"height: auto; overflow: hidden; border: 1px solid #cfcfcf; border-radius: 2px; background: #f6fafa; line-height: 1.21429em; padding: 10px;\">\n",
       "                    <div class=\"item_left\" style=\"width: 210px; float: left;\">\n",
       "                       <a href='https://esrifederal.maps.arcgis.com/home/item.html?id=b07c936bd07a4e9ba05ee63cc726ecb5' target='_blank'>\n",
       "                        <img src='data:image/png;base64,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' width='200' height='133' class=\"itemThumbnail\">\n",
       "                       </a>\n",
       "                    </div>\n",
       "\n",
       "                    <div class=\"item_right\"     style=\"float: none; width: auto; overflow: hidden;\">\n",
       "                        <a href='https://esrifederal.maps.arcgis.com/home/item.html?id=b07c936bd07a4e9ba05ee63cc726ecb5' target='_blank'><b>DDOT_TrafficCameras_CityNetwork</b>\n",
       "                        </a>\n",
       "                        <br/><img src='https://esrifederal.maps.arcgis.com/home/js/jsapi/esri/css/images/item_type_icons/featureshosted16.png' style=\"vertical-align:middle;\">Feature Layer Collection by albe9057@esri.com_esrifederal\n",
       "                        <br/>Last Modified: March 03, 2018\n",
       "                        <br/>0 comments, 8 views\n",
       "                    </div>\n",
       "                </div>\n",
       "                "
      ],
      "text/plain": [
       "<Item title:\"DDOT_TrafficCameras_CityNetwork\" type:Feature Layer Collection owner:albe9057@esri.com_esrifederal>"
      ]
     },
     "execution_count": 13,
     "metadata": {},
     "output_type": "execute_result"
    }
   ],
   "source": [
    "object_point_srvc = gis.content.search(\"DDOT_TrafficCameras_CityNetwork\", item_type=\"feature service\")[0]\n",
    "object_point_srvc"
   ]
  },
  {
   "cell_type": "code",
   "execution_count": 14,
   "metadata": {
    "collapsed": true
   },
   "outputs": [],
   "source": [
    "# Convert our existing service into a pandas dataframe\n",
    "object_point_lyr = object_point_srvc.layers[0]\n",
    "obj_fset = object_point_lyr.query()  #querying without any conditions returns all the features\n",
    "obj_df = obj_fset.df\n",
    "all_features = obj_fset.features\n",
    "original_feature = all_features[1]\n",
    "feature_to_be_updated = deepcopy(original_feature)"
   ]
  },
  {
   "cell_type": "markdown",
   "metadata": {},
   "source": [
    "#### Reset Routine"
   ]
  },
  {
   "cell_type": "markdown",
   "metadata": {},
   "source": [
    "https://esrifederal.maps.arcgis.com/home/webmap/viewer.html?webmap=255196da558749209dc63c07ffb38ae6"
   ]
  },
  {
   "cell_type": "code",
   "execution_count": 15,
   "metadata": {
    "scrolled": true
   },
   "outputs": [
    {
     "name": "stdout",
     "output_type": "stream",
     "text": [
      "Restting values for camera 1 of 100...\n",
      "Restting values for camera 2 of 100...\n",
      "Restting values for camera 3 of 100...\n",
      "Restting values for camera 4 of 100...\n",
      "Restting values for camera 5 of 100...\n",
      "Restting values for camera 6 of 100...\n",
      "Restting values for camera 7 of 100...\n",
      "Restting values for camera 8 of 100...\n",
      "Restting values for camera 9 of 100...\n",
      "Restting values for camera 10 of 100...\n",
      "Restting values for camera 11 of 100...\n",
      "Restting values for camera 12 of 100...\n",
      "Restting values for camera 13 of 100...\n",
      "Restting values for camera 14 of 100...\n",
      "Restting values for camera 15 of 100...\n",
      "Restting values for camera 16 of 100...\n",
      "Restting values for camera 17 of 100...\n",
      "Restting values for camera 18 of 100...\n",
      "Restting values for camera 19 of 100...\n",
      "Restting values for camera 20 of 100...\n",
      "Restting values for camera 21 of 100...\n",
      "Restting values for camera 22 of 100...\n",
      "Restting values for camera 23 of 100...\n",
      "Restting values for camera 24 of 100...\n",
      "Restting values for camera 25 of 100...\n",
      "Restting values for camera 26 of 100...\n",
      "Restting values for camera 27 of 100...\n",
      "Restting values for camera 28 of 100...\n",
      "Restting values for camera 29 of 100...\n",
      "Restting values for camera 30 of 100...\n",
      "Restting values for camera 31 of 100...\n",
      "Restting values for camera 32 of 100...\n",
      "Restting values for camera 33 of 100...\n",
      "Restting values for camera 34 of 100...\n",
      "Restting values for camera 35 of 100...\n",
      "Restting values for camera 36 of 100...\n",
      "Restting values for camera 37 of 100...\n",
      "Restting values for camera 38 of 100...\n",
      "Restting values for camera 39 of 100...\n",
      "Restting values for camera 40 of 100...\n",
      "Restting values for camera 41 of 100...\n",
      "Restting values for camera 42 of 100...\n",
      "Restting values for camera 43 of 100...\n",
      "Restting values for camera 44 of 100...\n",
      "Restting values for camera 45 of 100...\n",
      "Restting values for camera 46 of 100...\n",
      "Restting values for camera 47 of 100...\n",
      "Restting values for camera 48 of 100...\n",
      "Restting values for camera 49 of 100...\n",
      "Restting values for camera 50 of 100...\n",
      "Restting values for camera 51 of 100...\n",
      "Restting values for camera 52 of 100...\n",
      "Restting values for camera 53 of 100...\n",
      "Restting values for camera 54 of 100...\n",
      "Restting values for camera 55 of 100...\n",
      "Restting values for camera 56 of 100...\n",
      "Restting values for camera 57 of 100...\n",
      "Restting values for camera 58 of 100...\n",
      "Restting values for camera 59 of 100...\n",
      "Restting values for camera 60 of 100...\n",
      "Restting values for camera 61 of 100...\n",
      "Restting values for camera 62 of 100...\n",
      "Restting values for camera 63 of 100...\n",
      "Restting values for camera 64 of 100...\n",
      "Restting values for camera 65 of 100...\n",
      "Restting values for camera 66 of 100...\n",
      "Restting values for camera 67 of 100...\n",
      "Restting values for camera 68 of 100...\n",
      "Restting values for camera 69 of 100...\n",
      "Restting values for camera 70 of 100...\n",
      "Restting values for camera 71 of 100...\n",
      "Restting values for camera 72 of 100...\n",
      "Restting values for camera 73 of 100...\n",
      "Restting values for camera 74 of 100...\n",
      "Restting values for camera 75 of 100...\n",
      "Restting values for camera 76 of 100...\n",
      "Restting values for camera 77 of 100...\n",
      "Restting values for camera 78 of 100...\n",
      "Restting values for camera 79 of 100...\n",
      "Restting values for camera 80 of 100...\n",
      "Restting values for camera 81 of 100...\n",
      "Restting values for camera 82 of 100...\n",
      "Restting values for camera 83 of 100...\n",
      "Restting values for camera 84 of 100...\n",
      "Restting values for camera 85 of 100...\n",
      "Restting values for camera 86 of 100...\n",
      "Restting values for camera 87 of 100...\n",
      "Restting values for camera 88 of 100...\n",
      "Restting values for camera 89 of 100...\n",
      "Restting values for camera 90 of 100...\n",
      "Restting values for camera 91 of 100...\n",
      "Restting values for camera 92 of 100...\n",
      "Restting values for camera 93 of 100...\n",
      "Restting values for camera 94 of 100...\n",
      "Restting values for camera 95 of 100...\n",
      "Restting values for camera 96 of 100...\n",
      "Restting values for camera 97 of 100...\n",
      "Restting values for camera 98 of 100...\n",
      "Restting values for camera 99 of 100...\n"
     ]
    }
   ],
   "source": [
    "for iteration in range(1):\n",
    "    \n",
    "    features_for_update = []\n",
    "            \n",
    "    for ix in range(1,100):\n",
    "        print(\"Restting values for camera {0} of 100...\".format(str(ix)))\n",
    "\n",
    "        # Retrieve camera information\n",
    "        camera_name = ddot_df.iloc[ix]['name']\n",
    "\n",
    "        # Retrieve the feature from the feature layer to update\n",
    "        obj_fset = object_point_lyr.query(where=\"\"\"name = '\"\"\"+camera_name+\"\"\"'\"\"\", return_geometry=False)  \n",
    "        all_features = obj_fset.features\n",
    "        original_feature = all_features[0]\n",
    "        feature_to_be_updated = deepcopy(original_feature)\n",
    "\n",
    "        \n",
    "        feature_to_be_updated.attributes['rt_object_count'] = 0\n",
    "        feature_to_be_updated.attributes['rt_vehicle_count'] = 0\n",
    "        feature_to_be_updated.attributes['rt_car_count'] = 0\n",
    "        feature_to_be_updated.attributes['rt_bus_count'] = 0\n",
    "        feature_to_be_updated.attributes['rt_truck_count'] = 0\n",
    "        feature_to_be_updated.attributes['rt_motorcycle_count'] = 0\n",
    "        feature_to_be_updated.attributes['rt_pedestrian_count'] = 0\n",
    "        feature_to_be_updated.attributes['rt_bicycle_count'] = 0\n",
    "\n",
    "        features_for_update.append(feature_to_be_updated)\n",
    "        \n",
    "    object_point_lyr.edit_features(updates=features_for_update)   "
   ]
  },
  {
   "cell_type": "markdown",
   "metadata": {},
   "source": [
    "Model Update with Attachments"
   ]
  },
  {
   "cell_type": "code",
   "execution_count": 16,
   "metadata": {
    "scrolled": true
   },
   "outputs": [
    {
     "name": "stdout",
     "output_type": "stream",
     "text": [
      "Processing camera 1 of 100...\n",
      "Processing camera 2 of 100...\n",
      "Processing camera 3 of 100...\n",
      "Processing camera 4 of 100...\n",
      "Processing camera 5 of 100...\n",
      "Processing camera 6 of 100...\n",
      "Processing camera 7 of 100...\n",
      "Processing camera 8 of 100...\n",
      "Processing camera 9 of 100...\n",
      "Processing camera 10 of 100...\n",
      "Processing camera 11 of 100...\n",
      "Processing camera 12 of 100...\n",
      "Processing camera 13 of 100...\n",
      "Processing camera 14 of 100...\n",
      "Processing camera 15 of 100...\n",
      "Processing camera 16 of 100...\n",
      "Processing camera 17 of 100...\n",
      "Processing camera 18 of 100...\n",
      "Processing camera 19 of 100...\n",
      "Processing camera 20 of 100...\n",
      "Processing camera 21 of 100...\n",
      "Processing camera 22 of 100...\n",
      "Processing camera 23 of 100...\n",
      "Processing camera 24 of 100...\n",
      "Processing camera 25 of 100...\n",
      "Processing camera 26 of 100...\n",
      "Processing camera 27 of 100...\n",
      "Processing camera 28 of 100...\n",
      "Processing camera 29 of 100...\n",
      "Processing camera 30 of 100...\n",
      "Processing camera 31 of 100...\n",
      "Processing camera 32 of 100...\n",
      "Processing camera 33 of 100...\n",
      "Processing camera 34 of 100...\n",
      "Processing camera 35 of 100...\n",
      "Processing camera 36 of 100...\n",
      "Processing camera 37 of 100...\n",
      "Processing camera 38 of 100...\n",
      "Processing camera 39 of 100...\n",
      "Processing camera 40 of 100...\n",
      "Processing camera 41 of 100...\n",
      "Processing camera 42 of 100...\n",
      "Processing camera 43 of 100...\n",
      "Processing camera 44 of 100...\n",
      "Processing camera 45 of 100...\n",
      "Processing camera 46 of 100...\n",
      "Processing camera 47 of 100...\n",
      "Processing camera 48 of 100...\n",
      "Processing camera 49 of 100...\n",
      "Processing camera 50 of 100...\n",
      "Processing camera 51 of 100...\n",
      "Processing camera 52 of 100...\n",
      "Processing camera 53 of 100...\n",
      "Processing camera 54 of 100...\n",
      "Processing camera 55 of 100...\n",
      "Processing camera 56 of 100...\n",
      "Processing camera 57 of 100...\n",
      "Processing camera 58 of 100...\n",
      "Processing camera 59 of 100...\n",
      "Processing camera 60 of 100...\n",
      "Processing camera 61 of 100...\n",
      "Processing camera 62 of 100...\n",
      "Processing camera 63 of 100...\n",
      "Processing camera 64 of 100...\n",
      "Processing camera 65 of 100...\n",
      "Processing camera 66 of 100...\n",
      "Processing camera 67 of 100...\n",
      "Processing camera 68 of 100...\n",
      "Processing camera 69 of 100...\n",
      "Processing camera 70 of 100...\n",
      "Processing camera 71 of 100...\n",
      "Processing camera 72 of 100...\n",
      "Processing camera 73 of 100...\n",
      "Processing camera 74 of 100...\n",
      "Processing camera 75 of 100...\n",
      "Processing camera 76 of 100...\n",
      "Processing camera 77 of 100...\n",
      "Processing camera 78 of 100...\n",
      "Processing camera 79 of 100...\n",
      "Processing camera 80 of 100...\n",
      "Processing camera 81 of 100...\n",
      "Processing camera 82 of 100...\n",
      "Processing camera 83 of 100...\n",
      "Processing camera 84 of 100...\n",
      "Processing camera 85 of 100...\n",
      "Processing camera 86 of 100...\n",
      "Processing camera 87 of 100...\n",
      "Processing camera 88 of 100...\n",
      "Processing camera 89 of 100...\n",
      "Processing camera 90 of 100...\n",
      "Processing camera 91 of 100...\n",
      "Processing camera 92 of 100...\n",
      "Processing camera 93 of 100...\n",
      "Processing camera 94 of 100...\n",
      "Processing camera 95 of 100...\n",
      "Processing camera 96 of 100...\n",
      "Processing camera 97 of 100...\n",
      "Processing camera 98 of 100...\n",
      "Processing camera 99 of 100...\n"
     ]
    }
   ],
   "source": [
    "overwrite_attachment = True\n",
    "\n",
    "with detection_graph.as_default():\n",
    "    \n",
    "    with tf.Session(graph=detection_graph) as sess:\n",
    "        \n",
    "        image_tensor = detection_graph.get_tensor_by_name('image_tensor:0')\n",
    "        detection_boxes = detection_graph.get_tensor_by_name('detection_boxes:0')\n",
    "        detection_scores = detection_graph.get_tensor_by_name('detection_scores:0')\n",
    "        detection_classes = detection_graph.get_tensor_by_name('detection_classes:0')\n",
    "        num_detections = detection_graph.get_tensor_by_name('num_detections:0')\n",
    "\n",
    "        for iteration in range(1):\n",
    "            # TrafficLand API source JSON\n",
    "            source_json = r\"http://api.trafficland.com/v1.5/json/video_feeds?system=ddot&key=1594c8892d7fbd18181a8a6a44958b28\"\n",
    "            df = pd.read_json(source_json)\n",
    "            ddot_df = df.loc[df.provider == 'DDOT']\n",
    "            \n",
    "            for ix in range(1,100):\n",
    "                print(\"Processing camera {0} of 100...\".format(str(ix)))\n",
    "\n",
    "                # Retrieve camera information\n",
    "                camera_jpeg_url = ddot_df.iloc[ix]['content']['hugeJpeg']\n",
    "                camera_name = ddot_df.iloc[ix]['name']\n",
    "                camera_id = ddot_df.iloc[ix]['publicId']\n",
    "                \n",
    "\n",
    "                # Retrieve the camera image\n",
    "                camera_response = requests.get(camera_jpeg_url)\n",
    "                \n",
    "#                 # Perform attachment of source image\n",
    "                streamed_response = requests.get(camera_jpeg_url, stream=True)\n",
    "                with open('source.jpg', 'wb') as out_file:\n",
    "                    shutil.copyfileobj(streamed_response.raw, out_file)\n",
    "#                 del response                \n",
    "\n",
    "                image = Image.open(BytesIO(camera_response.content))\n",
    "                image_np = load_image_into_numpy_array(image)\n",
    "                image_np_expanded = np.expand_dims(image_np, axis=0)\n",
    "\n",
    "                (boxes, scores, classes, num) = sess.run(\n",
    "                      [detection_boxes, detection_scores, detection_classes, num_detections],\n",
    "                      feed_dict={image_tensor: image_np_expanded})\n",
    "\n",
    "                vis_util.visualize_boxes_and_labels_on_image_array(\n",
    "                      image_np,\n",
    "                      np.squeeze(boxes),\n",
    "                      np.squeeze(classes).astype(np.int32),\n",
    "                      np.squeeze(scores),\n",
    "                      category_index,\n",
    "                      use_normalized_coordinates=True,\n",
    "                      line_thickness=8)\n",
    "                \n",
    "                car_count, people_count, bicycle_count, motorcycle_count, bus_count, truck_count = object_counter(np.squeeze(classes).astype(np.int32), np.squeeze(scores))\n",
    "                vehicle_count = car_count + motorcycle_count + bus_count + truck_count\n",
    "                total_count = vehicle_count + bicycle_count + people_count\n",
    "                \n",
    "                # Retrieve the feature from the feature layer to update\n",
    "                obj_fset = object_point_lyr.query(where=\"\"\"name = '\"\"\"+camera_name+\"\"\"'\"\"\", return_geometry=False)  \n",
    "                all_features = obj_fset.features\n",
    "                original_feature = all_features[0]\n",
    "                feature_to_be_updated = deepcopy(original_feature)\n",
    "                \n",
    "                features_for_update = []\n",
    "                feature_to_be_updated.attributes['rt_object_count'] = total_count\n",
    "                feature_to_be_updated.attributes['rt_vehicle_count'] = vehicle_count\n",
    "                feature_to_be_updated.attributes['rt_car_count'] = car_count\n",
    "                feature_to_be_updated.attributes['rt_bus_count'] = bus_count\n",
    "                feature_to_be_updated.attributes['rt_truck_count'] = truck_count\n",
    "                feature_to_be_updated.attributes['rt_motorcycle_count'] = motorcycle_count\n",
    "                feature_to_be_updated.attributes['rt_pedestrian_count'] = people_count\n",
    "                feature_to_be_updated.attributes['rt_bicycle_count'] = bicycle_count\n",
    "                \n",
    "                feature_to_be_updated.attributes['source_image'] = camera_jpeg_url\n",
    "\n",
    "    #             feature_to_be_updated.attributes['rt_car_count'] = car_count\n",
    "                features_for_update.append(feature_to_be_updated)\n",
    "                object_point_lyr.edit_features(updates=features_for_update)    \n",
    "        \n",
    "                # Perform attachment of detected image\n",
    "                scipy.misc.imsave('detected_objs.jpg', image_np)\n",
    "                obj_id = feature_to_be_updated.attributes['F__OBJECTID']\n",
    "                \n",
    "                if overwrite_attachment:\n",
    "                    for attachment in object_point_lyr.attachments.get_list(obj_id):\n",
    "                        object_point_lyr.attachments.delete(obj_id, attachment['id'])\n",
    "                                               \n",
    "                object_point_lyr.attachments.add(obj_id, 'source.jpg')\n",
    "                object_point_lyr.attachments.add(obj_id, 'detected_objs.jpg')"
   ]
  },
  {
   "cell_type": "markdown",
   "metadata": {},
   "source": [
    "## P2: Perform Updates Along Constitution Avenue"
   ]
  },
  {
   "cell_type": "markdown",
   "metadata": {},
   "source": [
    "Perform run on subset along Constitution Ave."
   ]
  },
  {
   "cell_type": "code",
   "execution_count": 20,
   "metadata": {},
   "outputs": [
    {
     "data": {
      "text/html": [
       "<div class=\"item_container\" style=\"height: auto; overflow: hidden; border: 1px solid #cfcfcf; border-radius: 2px; background: #f6fafa; line-height: 1.21429em; padding: 10px;\">\n",
       "                    <div class=\"item_left\" style=\"width: 210px; float: left;\">\n",
       "                       <a href='https://esrifederal.maps.arcgis.com/home/item.html?id=e1437573230c4664a51a6d1e8d8d7176' target='_blank'>\n",
       "                        <img src='data:image/png;base64,iVBORw0KGgoAAAANSUhEUgAAAMgAAACFCAIAAACR/CB7AAAACXBIWXMAAA7EAAAOxAGVKw4bAAAB/0lEQVR4nO3YQU4CMQBA0anxmhzCk3AID1oXGI0aExP6GUbeW7GaFvrbaRhzzg1We9p7AvxPwiIhLBLCIiEsEsIiISwSwiIhLBLCIiEsEsIiISwSwiIhLBLCIiEsEsIiISwSwiIhLBLCIiEsEsIiISwSwiIhLBLCIiEsEsIiISwSwiIhLBLCIiEsEsIiISwSwiIhLBLCIiEsEsIiISwSwiIhLBLCIiEsEsIiISwSwiIhLBLCIiEsEsIiISwSwiIhLBLCIiEsEsIiISwSwjq8McYYY+9ZfPe89wT2dFmPOedxRxljbOfT5cOVQ6yd5+OGtXBJ9hrl4+Hbtm3n0zVDLJ/nsldhcSB3h/zPJTnuKNcr5rnmxCr25W1OlEObc3428fJ6V7/SgjX70vu25hsWz/x1iHJJbjDKkrvR8nk+7h3rfbvHl/cbjLLkycvnueYtU+zLuz3k+YulV6LV+/I2fwdQcC8m4Z93EsIiISwSwiIhLBLCIiEsEsIiISwSwiIhLBLCIiEsEsIiISwSwiIhLBLCIiEsEsIiISwSwiIhLBLCIiEsEsIiISwSwiIhLBLCIiEsEsIiISwSwiIhLBLCIiEsEsIiISwSwiIhLBLCIiEsEsIiISwSwiIhLBLCIiEsEsIiISwSwiIhLBLCIiEsEsIiISwSwiIhLBLCIiEsEm/28YQRKkb2mQAAAABJRU5ErkJggg==' width='200' height='133' class=\"itemThumbnail\">\n",
       "                       </a>\n",
       "                    </div>\n",
       "\n",
       "                    <div class=\"item_right\"     style=\"float: none; width: auto; overflow: hidden;\">\n",
       "                        <a href='https://esrifederal.maps.arcgis.com/home/item.html?id=e1437573230c4664a51a6d1e8d8d7176' target='_blank'><b>DC_TrafficCameras_ConstitutionAve</b>\n",
       "                        </a>\n",
       "                        <br/><img src='https://esrifederal.maps.arcgis.com/home/js/jsapi/esri/css/images/item_type_icons/featureshosted16.png' style=\"vertical-align:middle;\">Feature Layer Collection by albe9057@esri.com_esrifederal\n",
       "                        <br/>Last Modified: February 26, 2018\n",
       "                        <br/>0 comments, 0 views\n",
       "                    </div>\n",
       "                </div>\n",
       "                "
      ],
      "text/plain": [
       "<Item title:\"DC_TrafficCameras_ConstitutionAve\" type:Feature Layer Collection owner:albe9057@esri.com_esrifederal>"
      ]
     },
     "execution_count": 20,
     "metadata": {},
     "output_type": "execute_result"
    }
   ],
   "source": [
    "object_point_srvc_const_ave = gis.content.search(\"DC_TrafficCameras_ConstitutionAve\", item_type=\"feature service\")[0]\n",
    "object_point_srvc_const_ave"
   ]
  },
  {
   "cell_type": "code",
   "execution_count": 21,
   "metadata": {
    "collapsed": true
   },
   "outputs": [],
   "source": [
    "# Convert our existing service into a pandas dataframe\n",
    "object_point_lyr_const_ave = object_point_srvc_const_ave.layers[0]\n",
    "obj_fset_const_ave = object_point_lyr_const_ave.query()  #querying without any conditions returns all the features\n",
    "obj_df_const_ave = obj_fset_const_ave.df\n",
    "constitutionave_names_list = obj_df_const_ave.name.tolist()\n",
    "ddot_constitutionave_df = ddot_df[ddot_df.name.isin(constitutionave_names_list)]"
   ]
  },
  {
   "cell_type": "markdown",
   "metadata": {},
   "source": [
    "https://esrifederal.maps.arcgis.com/home/webmap/viewer.html?webmap=e081b389ac8d4bdb817c34dbe78a5fc4"
   ]
  },
  {
   "cell_type": "code",
   "execution_count": null,
   "metadata": {
    "collapsed": true,
    "scrolled": true
   },
   "outputs": [],
   "source": [
    "overwrite_attachment = True\n",
    "\n",
    "with detection_graph.as_default():\n",
    "    \n",
    "    with tf.Session(graph=detection_graph) as sess:\n",
    "        \n",
    "        image_tensor = detection_graph.get_tensor_by_name('image_tensor:0')\n",
    "        detection_boxes = detection_graph.get_tensor_by_name('detection_boxes:0')\n",
    "        detection_scores = detection_graph.get_tensor_by_name('detection_scores:0')\n",
    "        detection_classes = detection_graph.get_tensor_by_name('detection_classes:0')\n",
    "        num_detections = detection_graph.get_tensor_by_name('num_detections:0')\n",
    "\n",
    "        for iteration in range(10):\n",
    "            print()\n",
    "            \n",
    "            for ix, row in enumerate(ddot_constitutionave_df.iterrows()):\n",
    "                print(\"Processing camera {0} of {1}...\".format(str(ix+1), str(ddot_constitutionave_df.shape[0])))\n",
    "\n",
    "                # Retrieve camera information\n",
    "                camera_jpeg_url = ddot_constitutionave_df.iloc[ix]['content']['hugeJpeg']\n",
    "                camera_lat = ddot_constitutionave_df.iloc[ix]['location']['latitude']\n",
    "                camera_lon = ddot_constitutionave_df.iloc[ix]['location']['longitude']\n",
    "                camera_name = ddot_constitutionave_df.iloc[ix]['name']\n",
    "                camera_id = ddot_constitutionave_df.iloc[ix]['publicId']\n",
    "                \n",
    "                # Retrieve the camera image\n",
    "                camera_response = requests.get(camera_jpeg_url)\n",
    "\n",
    "                image = Image.open(BytesIO(camera_response.content))\n",
    "                image_np = load_image_into_numpy_array(image)\n",
    "                image_np_expanded = np.expand_dims(image_np, axis=0)\n",
    "\n",
    "                (boxes, scores, classes, num) = sess.run(\n",
    "                      [detection_boxes, detection_scores, detection_classes, num_detections],\n",
    "                      feed_dict={image_tensor: image_np_expanded})\n",
    "\n",
    "                vis_util.visualize_boxes_and_labels_on_image_array(\n",
    "                      image_np,\n",
    "                      np.squeeze(boxes),\n",
    "                      np.squeeze(classes).astype(np.int32),\n",
    "                      np.squeeze(scores),\n",
    "                      category_index,\n",
    "                      use_normalized_coordinates=True,\n",
    "                      line_thickness=8)\n",
    "                \n",
    "                car_count, people_count, bicycle_count, motorcycle_count, bus_count, truck_count = object_counter(np.squeeze(classes).astype(np.int32), np.squeeze(scores))\n",
    "                vehicle_count = car_count + motorcycle_count + bus_count + truck_count\n",
    "                total_count = vehicle_count + bicycle_count + people_count\n",
    "                \n",
    "                # Retrieve the feature from the feature layer to update\n",
    "                obj_fset = object_point_lyr.query(where=\"\"\"name = '\"\"\"+camera_name+\"\"\"'\"\"\", return_geometry=False)  \n",
    "                all_features = obj_fset.features\n",
    "                original_feature = all_features[0]\n",
    "                feature_to_be_updated = deepcopy(original_feature)\n",
    "                \n",
    "                features_for_update = []\n",
    "                feature_to_be_updated.attributes['rt_object_count'] = total_count\n",
    "                feature_to_be_updated.attributes['rt_vehicle_count'] = vehicle_count\n",
    "                feature_to_be_updated.attributes['rt_car_count'] = car_count\n",
    "                feature_to_be_updated.attributes['rt_bus_count'] = bus_count\n",
    "                feature_to_be_updated.attributes['rt_truck_count'] = truck_count\n",
    "                feature_to_be_updated.attributes['rt_motorcycle_count'] = motorcycle_count\n",
    "                feature_to_be_updated.attributes['rt_pedestrian_count'] = people_count\n",
    "                feature_to_be_updated.attributes['rt_bicycle_count'] = bicycle_count\n",
    "\n",
    "    #             feature_to_be_updated.attributes['rt_car_count'] = car_count\n",
    "                features_for_update.append(feature_to_be_updated)\n",
    "                object_point_lyr.edit_features(updates=features_for_update)    \n",
    "            \n",
    "                # Perform attachment of detected image\n",
    "                scipy.misc.imsave('detected_objs.jpg', image_np)\n",
    "#                 scipy.misc.imsave('ML_{0}.jpg'.format(str(datetime.now().strftime(\"%m%d%y_%H%M%S\"))), image_np)\n",
    "                obj_id = feature_to_be_updated.attributes['F__OBJECTID']\n",
    "    \n",
    "                if overwrite_attachment:\n",
    "                    object_point_lyr.attachments.delete(obj_id, 1)\n",
    "                \n",
    "                object_point_lyr.attachments.add(obj_id, 'detected_objs.jpg')\n",
    "#                 object_point_lyr.attachments.add(obj_id, 'ML_{0}.jpg'.format(str(datetime.now().strftime(\"%m%d%y_%H%M%S\"))))"
   ]
  },
  {
   "cell_type": "markdown",
   "metadata": {},
   "source": [
    "## P3: Trend-setter"
   ]
  },
  {
   "cell_type": "code",
   "execution_count": 22,
   "metadata": {},
   "outputs": [
    {
     "data": {
      "text/html": [
       "<div class=\"item_container\" style=\"height: auto; overflow: hidden; border: 1px solid #cfcfcf; border-radius: 2px; background: #f6fafa; line-height: 1.21429em; padding: 10px;\">\n",
       "                    <div class=\"item_left\" style=\"width: 210px; float: left;\">\n",
       "                       <a href='https://esrifederal.maps.arcgis.com/home/item.html?id=041de891040140a898950ae441631fd2' target='_blank'>\n",
       "                        <img src='data:image/png;base64,iVBORw0KGgoAAAANSUhEUgAAAMgAAACFCAIAAACR/CB7AAAACXBIWXMAAA7EAAAOxAGVKw4bAAAC8UlEQVR4nO3ZMU7jQACG0WFZRMdNKLkBSByAjjKSDwE1HGKklHQcIBLcgJKb0KEIZYtByPJWG8+/2SzvVcbFeGR/mXHCwWazKdDbj11PgP+TsIgQFhHCIkJYRAiLCGERISwihEWEsIgQFhHCIkJYRAiLCGERISwihEWEsIgQFhHCIkJYRAiLCGERISwihEWEsIgQFhHCIkJYRAiLCGERISwihEWEsIgQFhHCIkJYRAiLCGERISwihEWEsIgQFhHCIkJYRAiLCGERISwihEWEsIgQFhHCIkJYRAiLCGERISwihEWEsIgQFhHCIkJYe6/WWmvd9Symfu56ArvUnscwDHt6lTby1WpVSmllzblK33l+07DaTTx6Piyl1JJ98Ceny1JKW1O6X6VV1Q4eLy+3G6TN8/borP1Resyz21aYWJCji3yranyQ0KoaH/RSa/2qqrlarba+XZ9VjQ5m6rBifS6hFw+l3+eyjbl4v+845njwSUxHz4e11L7LSa11EtPJ6bLW+M77p2qtk5huj85KnXs3+qxYrarxwXytqvEBY8MwTPa+x8vLf6fauWHVWicxDRcPM/evWuskpsX7fcc9cRiG9fnH+Mz6/KP7IxmG4e11MT7z9rrofpWvtrZ+wRqG4W79Mj5zt36ZP89v+vJeSlmff7QNcRJZX2+vi7YhTiLroj3++d8HSyl365e2IU4i29rBZrOZOcRk0apP113escaL1vL4JvetbX9/buir7zz7hFW+Xt6frkvvl/fl8U2XMfmbOoTVJD6X+/JZ53fdwoIx/yskQlhECIsIYREhLCKERYSwiBAWEcIiQlhECIsIYREhLCKERYSwiBAWEcIiQlhECIsIYREhLCKERYSwiBAWEcIiQlhECIsIYREhLCKERYSwiBAWEcIiQlhECIsIYREhLCKERYSwiBAWEcIiQlhECIsIYREhLCKERYSwiBAWEcIiQlhECIsIYREhLCKERYSwiBAWEcIiQlhECIsIYRHxC3vQzwvks+FXAAAAAElFTkSuQmCC' width='200' height='133' class=\"itemThumbnail\">\n",
       "                       </a>\n",
       "                    </div>\n",
       "\n",
       "                    <div class=\"item_right\"     style=\"float: none; width: auto; overflow: hidden;\">\n",
       "                        <a href='https://esrifederal.maps.arcgis.com/home/item.html?id=041de891040140a898950ae441631fd2' target='_blank'><b>DC_TrafficCameras_HIST_ConstAve</b>\n",
       "                        </a>\n",
       "                        <br/><img src='https://esrifederal.maps.arcgis.com/home/js/jsapi/esri/css/images/item_type_icons/featureshosted16.png' style=\"vertical-align:middle;\">Feature Layer Collection by albe9057@esri.com_esrifederal\n",
       "                        <br/>Last Modified: February 27, 2018\n",
       "                        <br/>0 comments, 4 views\n",
       "                    </div>\n",
       "                </div>\n",
       "                "
      ],
      "text/plain": [
       "<Item title:\"DC_TrafficCameras_HIST_ConstAve\" type:Feature Layer Collection owner:albe9057@esri.com_esrifederal>"
      ]
     },
     "execution_count": 22,
     "metadata": {},
     "output_type": "execute_result"
    }
   ],
   "source": [
    "object_point_srvc = gis.content.search(\"DC_TrafficCameras_HIST_ConstAve\", item_type=\"feature service\")[0]\n",
    "object_point_srvc"
   ]
  },
  {
   "cell_type": "code",
   "execution_count": 23,
   "metadata": {
    "scrolled": true
   },
   "outputs": [
    {
     "data": {
      "text/html": [
       "<div>\n",
       "<style>\n",
       "    .dataframe thead tr:only-child th {\n",
       "        text-align: right;\n",
       "    }\n",
       "\n",
       "    .dataframe thead th {\n",
       "        text-align: left;\n",
       "    }\n",
       "\n",
       "    .dataframe tbody tr th {\n",
       "        vertical-align: top;\n",
       "    }\n",
       "</style>\n",
       "<table border=\"1\" class=\"dataframe\">\n",
       "  <thead>\n",
       "    <tr style=\"text-align: right;\">\n",
       "      <th></th>\n",
       "      <th>F__OBJECTID</th>\n",
       "      <th>OBJECTID</th>\n",
       "      <th>attribute_0</th>\n",
       "      <th>content</th>\n",
       "      <th>createdAt</th>\n",
       "      <th>description</th>\n",
       "      <th>latitude</th>\n",
       "      <th>longitude</th>\n",
       "      <th>name</th>\n",
       "      <th>observation_time</th>\n",
       "      <th>...</th>\n",
       "      <th>recording_time</th>\n",
       "      <th>rt_bicycle_count</th>\n",
       "      <th>rt_bus_count</th>\n",
       "      <th>rt_car_count</th>\n",
       "      <th>rt_motorcycle_count</th>\n",
       "      <th>rt_object_count</th>\n",
       "      <th>rt_pedestrian_count</th>\n",
       "      <th>rt_truck_count</th>\n",
       "      <th>rt_vehicle_count</th>\n",
       "      <th>SHAPE</th>\n",
       "    </tr>\n",
       "  </thead>\n",
       "  <tbody>\n",
       "    <tr>\n",
       "      <th>0</th>\n",
       "      <td>1</td>\n",
       "      <td>1</td>\n",
       "      <td>None</td>\n",
       "      <td>{'halfJpeg': 'http://ie.trafficland.com/v1.0/2...</td>\n",
       "      <td>1410450964690</td>\n",
       "      <td>None</td>\n",
       "      <td>38.892306</td>\n",
       "      <td>-77.028276</td>\n",
       "      <td>12th St @ Constitution Ave</td>\n",
       "      <td>NaN</td>\n",
       "      <td>...</td>\n",
       "      <td>None</td>\n",
       "      <td>0</td>\n",
       "      <td>0</td>\n",
       "      <td>0</td>\n",
       "      <td>0</td>\n",
       "      <td>0</td>\n",
       "      <td>0</td>\n",
       "      <td>0</td>\n",
       "      <td>0</td>\n",
       "      <td>{'x': -8574748, 'y': 4706257}</td>\n",
       "    </tr>\n",
       "    <tr>\n",
       "      <th>1</th>\n",
       "      <td>2</td>\n",
       "      <td>2</td>\n",
       "      <td>None</td>\n",
       "      <td>{'halfJpeg': 'http://ie.trafficland.com/v1.0/2...</td>\n",
       "      <td>1410450997585</td>\n",
       "      <td>None</td>\n",
       "      <td>38.892269</td>\n",
       "      <td>-77.024097</td>\n",
       "      <td>9th St @ Constitution Ave</td>\n",
       "      <td>NaN</td>\n",
       "      <td>...</td>\n",
       "      <td>None</td>\n",
       "      <td>0</td>\n",
       "      <td>0</td>\n",
       "      <td>0</td>\n",
       "      <td>0</td>\n",
       "      <td>0</td>\n",
       "      <td>0</td>\n",
       "      <td>0</td>\n",
       "      <td>0</td>\n",
       "      <td>{'x': -8574283, 'y': 4706252}</td>\n",
       "    </tr>\n",
       "    <tr>\n",
       "      <th>2</th>\n",
       "      <td>3</td>\n",
       "      <td>3</td>\n",
       "      <td>None</td>\n",
       "      <td>{'halfJpeg': 'http://ie.trafficland.com/v1.0/2...</td>\n",
       "      <td>1410451320851</td>\n",
       "      <td>None</td>\n",
       "      <td>38.892212</td>\n",
       "      <td>-77.033831</td>\n",
       "      <td>Constitution Ave @ 15th St</td>\n",
       "      <td>NaN</td>\n",
       "      <td>...</td>\n",
       "      <td>None</td>\n",
       "      <td>0</td>\n",
       "      <td>0</td>\n",
       "      <td>0</td>\n",
       "      <td>0</td>\n",
       "      <td>0</td>\n",
       "      <td>0</td>\n",
       "      <td>0</td>\n",
       "      <td>0</td>\n",
       "      <td>{'x': -8575367, 'y': 4706244}</td>\n",
       "    </tr>\n",
       "    <tr>\n",
       "      <th>3</th>\n",
       "      <td>4</td>\n",
       "      <td>4</td>\n",
       "      <td>None</td>\n",
       "      <td>{'halfJpeg': 'http://ie.trafficland.com/v1.0/2...</td>\n",
       "      <td>1410454639501</td>\n",
       "      <td>None</td>\n",
       "      <td>38.892221</td>\n",
       "      <td>-77.039654</td>\n",
       "      <td>Constitution Ave @ 17th St</td>\n",
       "      <td>NaN</td>\n",
       "      <td>...</td>\n",
       "      <td>None</td>\n",
       "      <td>0</td>\n",
       "      <td>0</td>\n",
       "      <td>0</td>\n",
       "      <td>0</td>\n",
       "      <td>0</td>\n",
       "      <td>0</td>\n",
       "      <td>0</td>\n",
       "      <td>0</td>\n",
       "      <td>{'x': -8576015, 'y': 4706245}</td>\n",
       "    </tr>\n",
       "    <tr>\n",
       "      <th>4</th>\n",
       "      <td>5</td>\n",
       "      <td>5</td>\n",
       "      <td>None</td>\n",
       "      <td>{'halfJpeg': 'http://ie.trafficland.com/v1.0/2...</td>\n",
       "      <td>1410454655458</td>\n",
       "      <td>None</td>\n",
       "      <td>38.891985</td>\n",
       "      <td>-77.049949</td>\n",
       "      <td>Constitution Ave @ 23rd St</td>\n",
       "      <td>NaN</td>\n",
       "      <td>...</td>\n",
       "      <td>None</td>\n",
       "      <td>0</td>\n",
       "      <td>0</td>\n",
       "      <td>0</td>\n",
       "      <td>0</td>\n",
       "      <td>0</td>\n",
       "      <td>0</td>\n",
       "      <td>0</td>\n",
       "      <td>0</td>\n",
       "      <td>{'x': -8577161, 'y': 4706211}</td>\n",
       "    </tr>\n",
       "  </tbody>\n",
       "</table>\n",
       "<p>5 rows × 26 columns</p>\n",
       "</div>"
      ],
      "text/plain": [
       "   F__OBJECTID  OBJECTID attribute_0  \\\n",
       "0            1         1        None   \n",
       "1            2         2        None   \n",
       "2            3         3        None   \n",
       "3            4         4        None   \n",
       "4            5         5        None   \n",
       "\n",
       "                                             content      createdAt  \\\n",
       "0  {'halfJpeg': 'http://ie.trafficland.com/v1.0/2...  1410450964690   \n",
       "1  {'halfJpeg': 'http://ie.trafficland.com/v1.0/2...  1410450997585   \n",
       "2  {'halfJpeg': 'http://ie.trafficland.com/v1.0/2...  1410451320851   \n",
       "3  {'halfJpeg': 'http://ie.trafficland.com/v1.0/2...  1410454639501   \n",
       "4  {'halfJpeg': 'http://ie.trafficland.com/v1.0/2...  1410454655458   \n",
       "\n",
       "  description   latitude  longitude                        name  \\\n",
       "0        None  38.892306 -77.028276  12th St @ Constitution Ave   \n",
       "1        None  38.892269 -77.024097   9th St @ Constitution Ave   \n",
       "2        None  38.892212 -77.033831  Constitution Ave @ 15th St   \n",
       "3        None  38.892221 -77.039654  Constitution Ave @ 17th St   \n",
       "4        None  38.891985 -77.049949  Constitution Ave @ 23rd St   \n",
       "\n",
       "   observation_time              ...               recording_time  \\\n",
       "0               NaN              ...                         None   \n",
       "1               NaN              ...                         None   \n",
       "2               NaN              ...                         None   \n",
       "3               NaN              ...                         None   \n",
       "4               NaN              ...                         None   \n",
       "\n",
       "  rt_bicycle_count rt_bus_count rt_car_count  rt_motorcycle_count  \\\n",
       "0                0            0            0                    0   \n",
       "1                0            0            0                    0   \n",
       "2                0            0            0                    0   \n",
       "3                0            0            0                    0   \n",
       "4                0            0            0                    0   \n",
       "\n",
       "  rt_object_count rt_pedestrian_count  rt_truck_count  rt_vehicle_count  \\\n",
       "0               0                   0               0                 0   \n",
       "1               0                   0               0                 0   \n",
       "2               0                   0               0                 0   \n",
       "3               0                   0               0                 0   \n",
       "4               0                   0               0                 0   \n",
       "\n",
       "                           SHAPE  \n",
       "0  {'x': -8574748, 'y': 4706257}  \n",
       "1  {'x': -8574283, 'y': 4706252}  \n",
       "2  {'x': -8575367, 'y': 4706244}  \n",
       "3  {'x': -8576015, 'y': 4706245}  \n",
       "4  {'x': -8577161, 'y': 4706211}  \n",
       "\n",
       "[5 rows x 26 columns]"
      ]
     },
     "execution_count": 23,
     "metadata": {},
     "output_type": "execute_result"
    }
   ],
   "source": [
    "# Convert our existing service into a pandas dataframe\n",
    "object_point_lyr = object_point_srvc.layers[0]\n",
    "obj_fset = object_point_lyr.query()  #querying without any conditions returns all the features\n",
    "obj_df = obj_fset.df\n",
    "obj_df.head()"
   ]
  },
  {
   "cell_type": "markdown",
   "metadata": {},
   "source": [
    "https://esrifederal.maps.arcgis.com/home/webmap/viewer.html?webmap=b99df66a66d64538995aecc98547dc40"
   ]
  },
  {
   "cell_type": "markdown",
   "metadata": {},
   "source": [
    "With auto-refresh of source JSON"
   ]
  },
  {
   "cell_type": "code",
   "execution_count": null,
   "metadata": {
    "scrolled": true
   },
   "outputs": [
    {
     "name": "stdout",
     "output_type": "stream",
     "text": [
      "Refresh iteration 0...\n",
      "Iteration: 0 of 100\n",
      "Iteration: 1 of 100\n",
      "Iteration: 2 of 100\n",
      "Iteration: 3 of 100\n",
      "Iteration: 4 of 100\n",
      "Iteration: 5 of 100\n",
      "Iteration: 6 of 100\n",
      "Iteration: 7 of 100\n",
      "Iteration: 8 of 100\n",
      "Iteration: 9 of 100\n"
     ]
    }
   ],
   "source": [
    "with detection_graph.as_default():\n",
    "    \n",
    "    with tf.Session(graph=detection_graph) as sess:\n",
    "        \n",
    "        image_tensor = detection_graph.get_tensor_by_name('image_tensor:0')\n",
    "        detection_boxes = detection_graph.get_tensor_by_name('detection_boxes:0')\n",
    "        detection_scores = detection_graph.get_tensor_by_name('detection_scores:0')\n",
    "        detection_classes = detection_graph.get_tensor_by_name('detection_classes:0')\n",
    "        num_detections = detection_graph.get_tensor_by_name('num_detections:0')\n",
    "        \n",
    "        for refresh_iteration in range(1):\n",
    "            print(\"Refresh iteration {0}...\".format(str(refresh_iteration)))\n",
    "            \n",
    "            # TrafficLand API source JSON\n",
    "            source_json = r\"http://api.trafficland.com/v1.5/json/video_feeds?system=ddot&key=1594c8892d7fbd18181a8a6a44958b28\"\n",
    "            df = pd.read_json(source_json)\n",
    "            ddot_df = df.loc[df.provider == 'DDOT']\n",
    "            ddot_constitutionave_df = ddot_df[ddot_df.name.isin(constitutionave_names_list)]\n",
    "            \n",
    "            for iteration in range(100):\n",
    "                print(\"Iteration: {0} of {1}\".format(str(iteration), str(100)))\n",
    "\n",
    "                for ix, row in enumerate(ddot_constitutionave_df.iterrows()):\n",
    "\n",
    "                    # Retrieve camera information\n",
    "                    camera_jpeg_url = ddot_constitutionave_df.iloc[ix]['content']['hugeJpeg']\n",
    "                    camera_name = ddot_constitutionave_df.iloc[ix]['name']\n",
    "                    camera_id = ddot_constitutionave_df.iloc[ix]['publicId']\n",
    "\n",
    "                    # Retrieve the camera image\n",
    "                    camera_response = requests.get(camera_jpeg_url)\n",
    "\n",
    "                    image = Image.open(BytesIO(camera_response.content))\n",
    "                    image_np = load_image_into_numpy_array(image)\n",
    "                    image_np_expanded = np.expand_dims(image_np, axis=0)\n",
    "\n",
    "                    (boxes, scores, classes, num) = sess.run(\n",
    "                          [detection_boxes, detection_scores, detection_classes, num_detections],\n",
    "                          feed_dict={image_tensor: image_np_expanded})\n",
    "\n",
    "                    vis_util.visualize_boxes_and_labels_on_image_array(\n",
    "                          image_np,\n",
    "                          np.squeeze(boxes),\n",
    "                          np.squeeze(classes).astype(np.int32),\n",
    "                          np.squeeze(scores),\n",
    "                          category_index,\n",
    "                          use_normalized_coordinates=True,\n",
    "                          line_thickness=8)\n",
    "\n",
    "                    car_count, people_count, bicycle_count, motorcycle_count, bus_count, truck_count = object_counter(np.squeeze(classes).astype(np.int32), np.squeeze(scores))\n",
    "                    vehicle_count = car_count + motorcycle_count + bus_count + truck_count\n",
    "                    total_count = vehicle_count + bicycle_count + people_count\n",
    "\n",
    "                    # Retrieve the feature from the feature layer to update\n",
    "                    obj_fset = object_point_lyr.query(where=\"\"\"name = '\"\"\"+camera_name+\"\"\"'\"\"\")  \n",
    "                    all_features = obj_fset.features\n",
    "                    original_feature = all_features[0]\n",
    "\n",
    "                    features_to_be_added = []\n",
    "                    new_feature = deepcopy(original_feature)\n",
    "\n",
    "                    new_feature.attributes['rt_object_count'] = total_count\n",
    "                    new_feature.attributes['rt_vehicle_count'] = vehicle_count\n",
    "                    new_feature.attributes['rt_car_count'] = car_count\n",
    "                    new_feature.attributes['rt_bus_count'] = bus_count\n",
    "                    new_feature.attributes['rt_truck_count'] = truck_count\n",
    "                    new_feature.attributes['rt_motorcycle_count'] = motorcycle_count\n",
    "                    new_feature.attributes['rt_pedestrian_count'] = people_count\n",
    "                    new_feature.attributes['rt_bicycle_count'] = bicycle_count\n",
    "                    new_feature.attributes['recording_id'] = \"Cam{0}_{1}\".format(str(ix),\n",
    "                                                                                 str(datetime.now().strftime(\"%m%d%y_%H%M%S\")))\n",
    "                    new_feature.attributes['observation_time'] = datetime.now().strftime(\"%m/%d/%y %H:%M:%S\")\n",
    "\n",
    "                    #add this to the list of features to be updated\n",
    "                    features_to_be_added.append(new_feature)\n",
    "\n",
    "                    object_point_lyr.edit_features(adds = features_to_be_added) "
   ]
  }
 ],
 "metadata": {
  "anaconda-cloud": {},
  "kernelspec": {
   "display_name": "Python 3",
   "language": "python",
   "name": "python3"
  },
  "language_info": {
   "codemirror_mode": {
    "name": "ipython",
    "version": 3
   },
   "file_extension": ".py",
   "mimetype": "text/x-python",
   "name": "python",
   "nbconvert_exporter": "python",
   "pygments_lexer": "ipython3",
   "version": "3.6.1"
  }
 },
 "nbformat": 4,
 "nbformat_minor": 2
}
