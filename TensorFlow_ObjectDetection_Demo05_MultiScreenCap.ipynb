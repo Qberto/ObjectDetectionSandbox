{
 "cells": [
  {
   "cell_type": "markdown",
   "metadata": {},
   "source": [
    "# Object Detection Demo 5: Stream of Images (Screen-capture + Webcam Feed)\n",
    "Welcome to the object detection inference walkthrough!  This notebook will walk you step by step through the process of using a pre-trained model to detect objects in an image. Make sure to follow the [installation instructions](https://github.com/tensorflow/models/blob/master/object_detection/g3doc/installation.md) before you start."
   ]
  },
  {
   "cell_type": "markdown",
   "metadata": {},
   "source": [
    "# Imports"
   ]
  },
  {
   "cell_type": "code",
   "execution_count": 1,
   "metadata": {
    "collapsed": true,
    "scrolled": true
   },
   "outputs": [],
   "source": [
    "import numpy as np\n",
    "import os\n",
    "import six.moves.urllib as urllib\n",
    "import sys\n",
    "import tarfile\n",
    "import tensorflow as tf\n",
    "import zipfile\n",
    "\n",
    "from collections import defaultdict\n",
    "from io import StringIO\n",
    "from matplotlib import pyplot as plt\n",
    "from PIL import Image\n",
    "\n",
    "from PIL import ImageGrab\n",
    "import time\n",
    "\n",
    "import cv2"
   ]
  },
  {
   "cell_type": "markdown",
   "metadata": {},
   "source": [
    "## Env setup"
   ]
  },
  {
   "cell_type": "code",
   "execution_count": 2,
   "metadata": {
    "collapsed": true
   },
   "outputs": [],
   "source": [
    "# This is needed since the notebook is stored in the object_detection folder.\n",
    "sys.path.append(\"..\")"
   ]
  },
  {
   "cell_type": "markdown",
   "metadata": {},
   "source": [
    "## Object detection imports\n",
    "Here are the imports from the object detection module."
   ]
  },
  {
   "cell_type": "code",
   "execution_count": 3,
   "metadata": {
    "collapsed": true
   },
   "outputs": [],
   "source": [
    "from utils import label_map_util\n",
    "\n",
    "from utils import visualization_utils as vis_util"
   ]
  },
  {
   "cell_type": "markdown",
   "metadata": {},
   "source": [
    "# Model preparation "
   ]
  },
  {
   "cell_type": "markdown",
   "metadata": {},
   "source": [
    "## Variables\n",
    "\n",
    "Any model exported using the `export_inference_graph.py` tool can be loaded here simply by changing `PATH_TO_CKPT` to point to a new .pb file.  \n",
    "\n",
    "By default we use an \"SSD with Mobilenet\" model here. See the [detection model zoo](https://github.com/tensorflow/models/blob/master/object_detection/g3doc/detection_model_zoo.md) for a list of other models that can be run out-of-the-box with varying speeds and accuracies."
   ]
  },
  {
   "cell_type": "code",
   "execution_count": 4,
   "metadata": {
    "collapsed": true
   },
   "outputs": [],
   "source": [
    "# What model to download.\n",
    "MODEL_NAME = 'ssd_mobilenet_v1_coco_11_06_2017'\n",
    "MODEL_FILE = MODEL_NAME + '.tar.gz'\n",
    "DOWNLOAD_BASE = 'http://download.tensorflow.org/models/object_detection/'\n",
    "\n",
    "# Path to frozen detection graph. This is the actual model that is used for the object detection.\n",
    "PATH_TO_CKPT = MODEL_NAME + '/frozen_inference_graph.pb'\n",
    "\n",
    "# List of the strings that is used to add correct label for each box.\n",
    "PATH_TO_LABELS = os.path.join('data', 'mscoco_label_map.pbtxt')\n",
    "\n",
    "NUM_CLASSES = 90"
   ]
  },
  {
   "cell_type": "markdown",
   "metadata": {},
   "source": [
    "## Download Model"
   ]
  },
  {
   "cell_type": "markdown",
   "metadata": {
    "collapsed": true
   },
   "source": [
    "opener = urllib.request.URLopener()\n",
    "opener.retrieve(DOWNLOAD_BASE + MODEL_FILE, MODEL_FILE)\n",
    "tar_file = tarfile.open(MODEL_FILE)\n",
    "for file in tar_file.getmembers():\n",
    "  file_name = os.path.basename(file.name)\n",
    "  if 'frozen_inference_graph.pb' in file_name:\n",
    "    tar_file.extract(file, os.getcwd())"
   ]
  },
  {
   "cell_type": "markdown",
   "metadata": {},
   "source": [
    "## Load a (frozen) Tensorflow model into memory."
   ]
  },
  {
   "cell_type": "code",
   "execution_count": 5,
   "metadata": {
    "collapsed": true
   },
   "outputs": [],
   "source": [
    "detection_graph = tf.Graph()\n",
    "with detection_graph.as_default():\n",
    "    od_graph_def = tf.GraphDef()\n",
    "    with tf.gfile.GFile(PATH_TO_CKPT, 'rb') as fid:\n",
    "        serialized_graph = fid.read()\n",
    "        od_graph_def.ParseFromString(serialized_graph)\n",
    "        tf.import_graph_def(od_graph_def, name='')"
   ]
  },
  {
   "cell_type": "markdown",
   "metadata": {},
   "source": [
    "## Loading label map\n",
    "Label maps map indices to category names, so that when our convolution network predicts `5`, we know that this corresponds to `airplane`.  Here we use internal utility functions, but anything that returns a dictionary mapping integers to appropriate string labels would be fine"
   ]
  },
  {
   "cell_type": "code",
   "execution_count": 6,
   "metadata": {
    "collapsed": true
   },
   "outputs": [],
   "source": [
    "label_map = label_map_util.load_labelmap(PATH_TO_LABELS)\n",
    "categories = label_map_util.convert_label_map_to_categories(label_map, max_num_classes=NUM_CLASSES, use_display_name=True)\n",
    "category_index = label_map_util.create_category_index(categories)"
   ]
  },
  {
   "cell_type": "code",
   "execution_count": 7,
   "metadata": {
    "scrolled": true
   },
   "outputs": [
    {
     "data": {
      "text/plain": [
       "{1: {'id': 1, 'name': 'person'},\n",
       " 2: {'id': 2, 'name': 'bicycle'},\n",
       " 3: {'id': 3, 'name': 'car'},\n",
       " 4: {'id': 4, 'name': 'motorcycle'},\n",
       " 5: {'id': 5, 'name': 'airplane'},\n",
       " 6: {'id': 6, 'name': 'bus'},\n",
       " 7: {'id': 7, 'name': 'train'},\n",
       " 8: {'id': 8, 'name': 'truck'},\n",
       " 9: {'id': 9, 'name': 'boat'},\n",
       " 10: {'id': 10, 'name': 'traffic light'},\n",
       " 11: {'id': 11, 'name': 'fire hydrant'},\n",
       " 13: {'id': 13, 'name': 'stop sign'},\n",
       " 14: {'id': 14, 'name': 'parking meter'},\n",
       " 15: {'id': 15, 'name': 'bench'},\n",
       " 16: {'id': 16, 'name': 'bird'},\n",
       " 17: {'id': 17, 'name': 'cat'},\n",
       " 18: {'id': 18, 'name': 'dog'},\n",
       " 19: {'id': 19, 'name': 'horse'},\n",
       " 20: {'id': 20, 'name': 'sheep'},\n",
       " 21: {'id': 21, 'name': 'cow'},\n",
       " 22: {'id': 22, 'name': 'elephant'},\n",
       " 23: {'id': 23, 'name': 'bear'},\n",
       " 24: {'id': 24, 'name': 'zebra'},\n",
       " 25: {'id': 25, 'name': 'giraffe'},\n",
       " 27: {'id': 27, 'name': 'backpack'},\n",
       " 28: {'id': 28, 'name': 'umbrella'},\n",
       " 31: {'id': 31, 'name': 'handbag'},\n",
       " 32: {'id': 32, 'name': 'tie'},\n",
       " 33: {'id': 33, 'name': 'suitcase'},\n",
       " 34: {'id': 34, 'name': 'frisbee'},\n",
       " 35: {'id': 35, 'name': 'skis'},\n",
       " 36: {'id': 36, 'name': 'snowboard'},\n",
       " 37: {'id': 37, 'name': 'sports ball'},\n",
       " 38: {'id': 38, 'name': 'kite'},\n",
       " 39: {'id': 39, 'name': 'baseball bat'},\n",
       " 40: {'id': 40, 'name': 'baseball glove'},\n",
       " 41: {'id': 41, 'name': 'skateboard'},\n",
       " 42: {'id': 42, 'name': 'surfboard'},\n",
       " 43: {'id': 43, 'name': 'tennis racket'},\n",
       " 44: {'id': 44, 'name': 'bottle'},\n",
       " 46: {'id': 46, 'name': 'wine glass'},\n",
       " 47: {'id': 47, 'name': 'cup'},\n",
       " 48: {'id': 48, 'name': 'fork'},\n",
       " 49: {'id': 49, 'name': 'knife'},\n",
       " 50: {'id': 50, 'name': 'spoon'},\n",
       " 51: {'id': 51, 'name': 'bowl'},\n",
       " 52: {'id': 52, 'name': 'banana'},\n",
       " 53: {'id': 53, 'name': 'apple'},\n",
       " 54: {'id': 54, 'name': 'sandwich'},\n",
       " 55: {'id': 55, 'name': 'orange'},\n",
       " 56: {'id': 56, 'name': 'broccoli'},\n",
       " 57: {'id': 57, 'name': 'carrot'},\n",
       " 58: {'id': 58, 'name': 'hot dog'},\n",
       " 59: {'id': 59, 'name': 'pizza'},\n",
       " 60: {'id': 60, 'name': 'donut'},\n",
       " 61: {'id': 61, 'name': 'cake'},\n",
       " 62: {'id': 62, 'name': 'chair'},\n",
       " 63: {'id': 63, 'name': 'couch'},\n",
       " 64: {'id': 64, 'name': 'potted plant'},\n",
       " 65: {'id': 65, 'name': 'bed'},\n",
       " 67: {'id': 67, 'name': 'dining table'},\n",
       " 70: {'id': 70, 'name': 'toilet'},\n",
       " 72: {'id': 72, 'name': 'tv'},\n",
       " 73: {'id': 73, 'name': 'laptop'},\n",
       " 74: {'id': 74, 'name': 'mouse'},\n",
       " 75: {'id': 75, 'name': 'remote'},\n",
       " 76: {'id': 76, 'name': 'keyboard'},\n",
       " 77: {'id': 77, 'name': 'cell phone'},\n",
       " 78: {'id': 78, 'name': 'microwave'},\n",
       " 79: {'id': 79, 'name': 'oven'},\n",
       " 80: {'id': 80, 'name': 'toaster'},\n",
       " 81: {'id': 81, 'name': 'sink'},\n",
       " 82: {'id': 82, 'name': 'refrigerator'},\n",
       " 84: {'id': 84, 'name': 'book'},\n",
       " 85: {'id': 85, 'name': 'clock'},\n",
       " 86: {'id': 86, 'name': 'vase'},\n",
       " 87: {'id': 87, 'name': 'scissors'},\n",
       " 88: {'id': 88, 'name': 'teddy bear'},\n",
       " 89: {'id': 89, 'name': 'hair drier'},\n",
       " 90: {'id': 90, 'name': 'toothbrush'}}"
      ]
     },
     "execution_count": 7,
     "metadata": {},
     "output_type": "execute_result"
    }
   ],
   "source": [
    "category_index"
   ]
  },
  {
   "cell_type": "markdown",
   "metadata": {},
   "source": [
    "## Helper code"
   ]
  },
  {
   "cell_type": "code",
   "execution_count": 8,
   "metadata": {
    "collapsed": true
   },
   "outputs": [],
   "source": [
    "def load_image_into_numpy_array(image):\n",
    "  (im_width, im_height) = image.size\n",
    "  return np.array(image.getdata()).reshape(\n",
    "      (im_height, im_width, 3)).astype(np.uint8)"
   ]
  },
  {
   "cell_type": "markdown",
   "metadata": {},
   "source": [
    "This is a helper function that takes the detection graph output tensor (np arrays), stacks the classes and scores, and determines if the class for a person (1) is available within a certain score and within a certain amount of objects"
   ]
  },
  {
   "cell_type": "code",
   "execution_count": null,
   "metadata": {
    "collapsed": true
   },
   "outputs": [],
   "source": [
    "def activity_counter_in_sector(sector_x_start, sector_x_end, \n",
    "                               sector_y_start, sector_y_end, \n",
    "                               classes_arr, scores_arr, obj_thresh=5, score_thresh=0.5):\n",
    "    # Process the numpy array of classes from the model\n",
    "    stacked_arr = np.stack((classes_arr, scores_arr), axis=-1)\n",
    "    for ix in range(obj_thresh):\n",
    "        \n",
    "    \n",
    "    return car_count, person_count"
   ]
  },
  {
   "cell_type": "code",
   "execution_count": 9,
   "metadata": {
    "collapsed": true
   },
   "outputs": [],
   "source": [
    "def person_in_image(classes_arr, scores_arr, obj_thresh=5, score_thresh=0.5):\n",
    "    stacked_arr = np.stack((classes_arr, scores_arr), axis=-1)\n",
    "    person_found_flag = False\n",
    "    for ix in range(obj_thresh):\n",
    "        if 1.00000000e+00 in stacked_arr[ix]:\n",
    "            if stacked_arr[ix][1] >= score_thresh:\n",
    "                person_found_flag = True\n",
    "            \n",
    "    return person_found_flag"
   ]
  },
  {
   "cell_type": "markdown",
   "metadata": {},
   "source": [
    "# Detection"
   ]
  },
  {
   "cell_type": "code",
   "execution_count": 12,
   "metadata": {
    "collapsed": true,
    "scrolled": true
   },
   "outputs": [],
   "source": [
    "with detection_graph.as_default():\n",
    "    with tf.Session(graph=detection_graph) as sess:\n",
    "        # Definite input and output Tensors for detection_graph\n",
    "        image_tensor = detection_graph.get_tensor_by_name('image_tensor:0')\n",
    "        # Each box represents a part of the image where a particular object was detected.\n",
    "        detection_boxes = detection_graph.get_tensor_by_name('detection_boxes:0')\n",
    "        # Each score represent how level of confidence for each of the objects.\n",
    "        # Score is shown on the result image, together with the class label.\n",
    "        detection_scores = detection_graph.get_tensor_by_name('detection_scores:0')\n",
    "        detection_classes = detection_graph.get_tensor_by_name('detection_classes:0')\n",
    "        num_detections = detection_graph.get_tensor_by_name('num_detections:0')\n",
    "        while True:\n",
    "            \n",
    "            # Expand dimensions since the model expects images to have shape: [1, None, None, 3]\n",
    "            image_np = np.array(ImageGrab.grab(bbox=(0,0,1920,1080)))\n",
    "            image_np_expanded = np.expand_dims(image_np, axis=0)\n",
    "            # Actual detection.\n",
    "            (boxes, scores, classes, num) = sess.run(\n",
    "              [detection_boxes, detection_scores, detection_classes, num_detections],\n",
    "              feed_dict={image_tensor: image_np_expanded})\n",
    "            # Visualization of the results of a detection.\n",
    "            vis_util.visualize_boxes_and_labels_on_image_array(\n",
    "              image_np,\n",
    "              np.squeeze(boxes),\n",
    "              np.squeeze(classes).astype(np.int32),\n",
    "              np.squeeze(scores),\n",
    "              category_index,\n",
    "              use_normalized_coordinates=True,\n",
    "              line_thickness=8, min_score_thresh=0.5)\n",
    "            \n",
    "            cv2.imshow('object detection', cv2.resize(image_np, (800,600)))\n",
    "            if cv2.waitKey(25) & 0xFF == ord('q'):\n",
    "                cv2.destroyAllWindows()\n",
    "                break"
   ]
  },
  {
   "cell_type": "code",
   "execution_count": null,
   "metadata": {
    "collapsed": true
   },
   "outputs": [],
   "source": []
  }
 ],
 "metadata": {
  "anaconda-cloud": {},
  "kernelspec": {
   "display_name": "Python 3",
   "language": "python",
   "name": "python3"
  },
  "language_info": {
   "codemirror_mode": {
    "name": "ipython",
    "version": 3
   },
   "file_extension": ".py",
   "mimetype": "text/x-python",
   "name": "python",
   "nbconvert_exporter": "python",
   "pygments_lexer": "ipython3",
   "version": "3.6.1"
  }
 },
 "nbformat": 4,
 "nbformat_minor": 2
}
